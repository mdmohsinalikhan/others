{
 "metadata": {
  "kernelspec": {
   "display_name": "Python 3",
   "language": "python",
   "name": "python3"
  },
  "language_info": {
   "codemirror_mode": {
    "name": "ipython",
    "version": 3
   },
   "file_extension": ".py",
   "mimetype": "text/x-python",
   "name": "python",
   "nbconvert_exporter": "python",
   "pygments_lexer": "ipython3",
   "version": "3.6.1"
  },
  "name": "",
  "signature": "sha256:2a496152c13347ae1c13179e264ed7186652e5d6b2ce5c28c23024985840227b"
 },
 "nbformat": 3,
 "nbformat_minor": 0,
 "worksheets": [
  {
   "cells": [
    {
     "cell_type": "markdown",
     "metadata": {
      "deletable": true,
      "editable": true
     },
     "source": [
      "University of Helsinki, Department of Mathematics and Statistics  \n",
      "MAST32001 Computational Statistics I, Autumn 2017  \n",
      "Antti Honkela  \n",
      "\n",
      "# Week 6 exercises"
     ]
    },
    {
     "cell_type": "markdown",
     "metadata": {
      "deletable": true,
      "editable": true
     },
     "source": [
      "## 1. Leapfrog integration and HMC\n",
      "\n",
      "In this exercise we will experiment with the leapfrog integrator used in HMC. As a target, we will use the 2D correlated normal with $\\rho = 0.998$ also used on Lecture 11.\n",
      "\n",
      "1. Simulate the system for $L=10$ steps starting from the origin $x_0 = (0, 0)$ with momentum $r = (1, 1/2)$ with several values of $\\epsilon$ and plot the resulting acceptance rates at the end of the trajectory. What is the smallest $\\epsilon$ that will yield acceptance rate below 60%? What is the largest $\\epsilon$ that will yield an acceptance rate above 10%? (Required tolerance: 0.001.)\n",
      "2. Simulate the system for many steps with $\\epsilon=0.05$ starting from the origin $x_0 = (0, 0)$ with momentum $r = (1, 1/2)$. Plot the trajectory and the distance from the starting point at each point. How many steps do you need to take until the trajectory reaches the first local maximum distance from the origin? How many steps will lead you to the first local minimum?"
     ]
    },
    {
     "cell_type": "code",
     "collapsed": true,
     "input": [
      "%matplotlib inline\n",
      "import autograd.numpy as np\n",
      "import autograd.numpy.random as npr\n",
      "import autograd\n",
      "import matplotlib.pyplot as plt\n",
      "import autograd.numpy.linalg as npl\n",
      "\n",
      "acceptance_rates = []\n",
      "\n",
      "def correlated_normal(x, rho=0.998):\n",
      "    Sigma = np.array([[1.0, rho],[rho, 1.0]])\n",
      "    return -0.5*(x.T @ npl.solve(Sigma, x))\n",
      "\n",
      "def hmc(x0, M, target, epsilon0, L):\n",
      "    xs = np.zeros([M, len(x0)])\n",
      "    gradF = autograd.grad(target)\n",
      "    x = np.copy(x0)\n",
      "    g = gradF(x)  # set gradient using initial x\n",
      "    logP = target(x)  # set objective function too\n",
      "    accepts = 0\n",
      "    for m in range(M): # draw M samples after M warm-up iterations\n",
      "        #p = npr.normal(size=x.shape)  # initial momentum is Normal(0,1)\n",
      "        p = np.array([1,.5])\n",
      "        H = p.T @ p / 2 - logP   # evaluate H(x,p)\n",
      "        xnew = np.copy(x)\n",
      "        gnew = np.copy(g)\n",
      "        for l in range(L): # make L \u2018leapfrog\u2019 steps\n",
      "            #epsilon = npr.uniform(0.8, 1.2) * epsilon0  # optional: randomise epsilon for improved theoretical convergence properties\n",
      "            epsilon = epsilon0\n",
      "            p = p + epsilon * gnew / 2   # make half-step in p\n",
      "            xnew = xnew + epsilon * p    # make step in x\n",
      "            gnew = gradF(xnew)           # find new gradient\n",
      "            p = p + epsilon * gnew / 2   # make half-step in p\n",
      "        logPnew = target(xnew)   # find new value of H\n",
      "        Hnew = p.T @ p / 2 - logPnew\n",
      "        dH = Hnew - H    # Decide whether to accept\n",
      "        #print(np.exp(-dH))\n",
      "        #acceptance_rates\n",
      "        if dH < 0 or np.log(npr.rand()) < -dH:\n",
      "            g = gnew\n",
      "            x = xnew\n",
      "            logP = logPnew\n",
      "            accepts += 1\n",
      "        if m >= M:\n",
      "            xs[m-M,:] = x\n",
      "    #print('Acceptance rate:', accepts/(2*M))\n",
      "    return np.exp(-dH)\n",
      "\n",
      "\n",
      "\n",
      "def hmc_trajectory(x0, M, target, epsilon0, L):\n",
      "    xs = np.zeros([M, len(x0)])\n",
      "    gradF = autograd.grad(target)\n",
      "    x = np.copy(x0)\n",
      "    g = gradF(x)  # set gradient using initial x\n",
      "    logP = target(x)  # set objective function too\n",
      "    accepts = 0\n",
      "    for m in range(M): # draw M samples after M warm-up iterations\n",
      "        #p = npr.normal(size=x.shape)  # initial momentum is Normal(0,1)\n",
      "        p = np.array([1,.5])\n",
      "        H = p.T @ p / 2 - logP   # evaluate H(x,p)\n",
      "        xnew = np.copy(x)\n",
      "        gnew = np.copy(g)\n",
      "        for l in range(L): # make L \u2018leapfrog\u2019 steps\n",
      "            #epsilon = npr.uniform(0.8, 1.2) * epsilon0  # optional: randomise epsilon for improved theoretical convergence properties\n",
      "            epsilon = epsilon0\n",
      "            p = p + epsilon * gnew / 2   # make half-step in p\n",
      "            xnew = xnew + epsilon * p    # make step in x\n",
      "            gnew = gradF(xnew)           # find new gradient\n",
      "            p = p + epsilon * gnew / 2   # make half-step in p\n",
      "        logPnew = target(xnew)   # find new value of H\n",
      "        Hnew = p.T @ p / 2 - logPnew\n",
      "        dH = Hnew - H    # Decide whether to accept\n",
      "        #print(np.exp(-dH))\n",
      "        #acceptance_rates\n",
      "        if dH < 0 or np.log(npr.rand()) < -dH:\n",
      "            g = gnew\n",
      "            x = xnew\n",
      "            logP = logPnew\n",
      "            accepts += 1\n",
      "        if m >= M:\n",
      "            xs[m-M,:] = x\n",
      "    #print('Acceptance rate:', accepts/(2*M))\n",
      "    return x\n",
      "\n",
      "a = []\n",
      "b = []\n",
      "epsilon = np.linspace(.084, .088, num=100)\n",
      "for i in epsilon:\n",
      "    rate = hmc(np.array([0, 0.0]), 1, lambda x: correlated_normal(x), i, 10)\n",
      "    #print(rate)\n",
      "    a.append(i)\n",
      "    b.append(rate)\n",
      "    \n",
      "rate = hmc(np.array([0, 0.0]), 1, lambda x: correlated_normal(x), .08635, 10)\n",
      "print(rate)\n",
      "    \n",
      "#plt.plot(a,b)\n",
      "#plt.plot(samples1[:,0], samples1[:,1], '.')\n",
      "#print(np.mean(samples1, 0), np.std(samples1, 0))\n",
      "\n",
      "\n",
      "a = []\n",
      "b = []\n",
      "epsilon = np.linspace(0.088, .089, num=100)\n",
      "for i in epsilon:\n",
      "    rate = hmc(np.array([0, 0.0]), 1, lambda x: correlated_normal(x), i, 10)\n",
      "    #print(rate)\n",
      "    a.append(i)\n",
      "    b.append(rate)\n",
      "    \n",
      "rate = hmc(np.array([0, 0.0]), 1, lambda x: correlated_normal(x), .0888, 10)\n",
      "print(rate)\n",
      "    \n",
      "#plt.plot(a,b)\n",
      "\n",
      "\n",
      "#2nd part\n",
      "a = []\n",
      "b = []\n",
      "#epsilon = np.linspace(1, .089, num=100)\n",
      "for i in range(85,92):\n",
      "    x = hmc_trajectory(np.array([0, 0.0]), 1, lambda x: correlated_normal(x), .05, i)\n",
      "    #print(x)\n",
      "    a.append(i)\n",
      "    b.append(np.sqrt(x[0]**2 + x[1]**2))\n",
      "    \n",
      "#rate = hmc(np.array([0, 0.0]), 1, lambda x: correlated_normal(x), .0888, 10)\n",
      "#print(rate)\n",
      "    \n",
      "plt.plot(a,b)\n",
      "\n",
      "#plt.show()\n"
     ],
     "language": "python",
     "metadata": {},
     "outputs": [
      {
       "output_type": "stream",
       "stream": "stdout",
       "text": [
        "0.541369366753\n",
        "0.139880740686"
       ]
      },
      {
       "output_type": "stream",
       "stream": "stdout",
       "text": [
        "\n"
       ]
      },
      {
       "metadata": {},
       "output_type": "pyout",
       "prompt_number": 1,
       "text": [
        "[<matplotlib.lines.Line2D at 0x7fd53902c588>]"
       ]
      },
      {
       "metadata": {},
       "output_type": "display_data",
       "png": "[encoded data removed]",
       "text": [
        "<matplotlib.figure.Figure at 0x7fd53b0d3e10>"
       ]
      }
     ],
     "prompt_number": 1
    },
    {
     "cell_type": "markdown",
     "metadata": {
      "deletable": true,
      "editable": true
     },
     "source": [
      "## 2. Efficiency of MALA and HMC\n",
      "\n",
      "In this exercise we will test the efficiency of MALA and HMC in terms of the distance covered in various situations. All the experiments are done using the same correlated normal target as in Exercise 1, $\\sigma = 0.01$ for MALA and $\\epsilon=0.01$ for HMC.\n",
      "\n",
      "1. Always starting at $x = (0, 0)$, run MALA 100 times for 1 step and 100 times for 100 steps. Compute the average distance covered from the starting point in each case. Compare the 100 step distance with the theoretical random walk scaling of $\\sqrt{n}$ over $n$ steps.\n",
      "2. Always starting at $x = (0, 0)$, run HMC 100 times for 1 step with $L=1$ and 100 times for 1 step with $L=100$. Compute the average distance covered from the starting point in each case. Compare the 100 step distance with the theoretical random walk scaling of $\\sqrt{n}$ over $n$ steps.\n",
      "3. Repeat task 1 starting at $x = (-2, 2)$.\n",
      "4. Repeat task 2 starting at $x = (-2, 2)$.\n",
      "5. In each case, report the ratio of the true scaling ($\\text{average distance with 100 steps}/\\text{average distance with 1 step}$) divided by theoretical scaling ($\\text{theoretical distance with 100 steps}/\\text{theoretical distance with 1 step} = \\sqrt{100}/\\sqrt{1}$) in Moodle. In which cases do the algorithms move more quickly than a random walk would be expected to move?"
     ]
    },
    {
     "cell_type": "code",
     "collapsed": true,
     "input": [],
     "language": "python",
     "metadata": {},
     "outputs": [],
     "prompt_number": null
    },
    {
     "cell_type": "markdown",
     "metadata": {
      "deletable": true,
      "editable": true
     },
     "source": [
      "## 3. NUTS simulation\n",
      "\n",
      "In this exercise we will experiment with the build-tree operation of the NUTS algorithm. We will use a simplified version of the algorithm with the following differences from the original:\n",
      "* We will only extend the path forward instead of choosing the direction randomly\n",
      "* We will check for the termination condition only from the entire newly added path segment, not all subpaths as NUTS really would\n",
      "\n",
      "Your tasks:\n",
      "1. Implement a simplified version of NUTS that simulates $2^{j-1}$ leapfrog steps forward from the most advanced previous position at the $j$th iteration, $j=1,2,\\dots$. The iteration terminates in this simplified algorithm when the first newly simulated position $(x^-, r^-)$ and the last newly simulated position $(x^+, r^+)$ of the newly simulated path segment satisfy\n",
      "$$ (x^+ - x^-) \\cdot r^- < 0 \\quad \\text{or} \\quad (x^+ - x^-) \\cdot r^+ < 0. $$\n",
      "2. Run your algorithm on the 2D correlated normal with $\\rho = 0.998$, starting from the origin $x_0 = (0, 0)$ with momentum $r = (1, 1/2)$ with $\\epsilon=0.05$. How many steps $j$ of the algorithm are executed by the time the termination criterion reached? Compare the length of the simulated trajectory with the number of steps leading furthest from the starting point as determined in Exercise 1.\n",
      "3. NUTS includes a special condition to simulate $u \\sim \\mathrm{Uniform}(0, \\exp(-H(x_0, r_0))$ and ignoring all points $(x,r)$ where $u > \\exp(-H(x, r))$. Assuming $u = 0.98\\exp(-H(x_0, r_0))$ (a pretty extreme value), how many points from the generated trajectory would be kept for the next step of the algorithm i.e. not ignored by this condition?"
     ]
    },
    {
     "cell_type": "code",
     "collapsed": true,
     "input": [],
     "language": "python",
     "metadata": {},
     "outputs": [],
     "prompt_number": null
    },
    {
     "cell_type": "markdown",
     "metadata": {
      "deletable": true,
      "editable": true
     },
     "source": [
      "## 4. HMC sampling from a target potential\n",
      "\n",
      "In this exercise we will sample from a 2D density using HMC and NUTS.\n",
      "\n",
      "$$ P^*(x; R) = \\sum_{i=1}^5 \\exp\\left( -\\frac{i}{2} (x-\\mu_i)^T (x - \\mu_i) \\right) $$\n",
      "with $\\mu_1 = (0, 0), \\mu_2 = (R, R), \\mu_3 = (R, -R), \\mu_4 = (-R, R), \\mu_5 = (-R, -R)$. Here $R$ denotes a parameter that specifies the spread of the modes of the distribution which we fix to $R=1.5$. (Please note the $i$ in $\\frac{i}{2}$ inside the $\\exp()$!)\n",
      "\n",
      "1. Run a HMC sampler and NUTS on the problem. Starting with $\\epsilon=1$ and $L = 10$ will give a reasonably calibrated HMC. Compare the estimates of the means produced by the different algorithms. Can you see differences where one would give more accurate results with a smaller number of samples.\n",
      "2. Report the means of $x_1$ and $x_2$ to Moodle. (The required tolerance is $\\pm 0.05$.)"
     ]
    },
    {
     "cell_type": "code",
     "collapsed": true,
     "input": [],
     "language": "python",
     "metadata": {},
     "outputs": [],
     "prompt_number": null
    },
    {
     "cell_type": "markdown",
     "metadata": {
      "deletable": true,
      "editable": true
     },
     "source": [
      "## 5. HMC sampling for posterior inference\n",
      "\n",
      "Extend the linear regression model of Exercise 2 of Lecture 12 with **normally distributed errors** to handle multiple covariates (input variables) and test it using variables 'FRW', 'AGE' and 'CHOL'.\n",
      "\n",
      "In order to get the correct results, please make sure your data are normalised as in the exercise at the lecture by subtracting the mean and dividing each variable by two standard deviations. After this, the standard deviation of each variable should be $1/2$ and the mean $0$.\n",
      "\n",
      "Draw samples from the posterior distribution of the model using HMC or NUTS when all coefficients $\\beta_i$ have the prior $p(\\beta) = \\prod_i p(\\beta_i) = \\prod_i \\mathcal{N}(\\beta_i;\\; 0, 2^2)$. Make sure your sampler is properly tuned so that results will be reliable.\n",
      "\n",
      "Report your estimates of the posterior means and standard deviations of the intercept ($\\alpha$) and coefficients $\\beta$ for 'FRW', 'AGE' and 'CHOL'.\n",
      "\n",
      "The required tolerance is $\\pm 0.01$."
     ]
    },
    {
     "cell_type": "code",
     "collapsed": false,
     "input": [
      "import pandas as pd\n",
      "import autograd.numpy as np\n",
      "import autograd\n",
      "\n",
      "def standardize(x):\n",
      "    raise(NotImplementedError(\"Not implemented yet\"))\n",
      "\n",
      "# load the data from CSV file using pandas\n",
      "fram = pd.read_csv('http://www.helsinki.fi/~ahonkela/teaching/compstats1/fram.txt', sep='\\t')\n",
      "# convert the variables of interest to numpy arrays for autograd compatibility\n",
      "# input: Framingham relative weight - the ratio of the subjects weight to the median weight for their sex-height group,\n",
      "#   age and cholesterole level\n",
      "x = np.array(fram[['FRW', 'AGE', 'CHOL']])\n",
      "# target: Systolic blood pressure, examination 1\n",
      "y = np.array(fram['SBP'])\n",
      "\n",
      "xs = standardize(x)\n",
      "ys = standardize(y)\n"
     ],
     "language": "python",
     "metadata": {},
     "outputs": [],
     "prompt_number": null
    },
    {
     "cell_type": "code",
     "collapsed": true,
     "input": [],
     "language": "python",
     "metadata": {},
     "outputs": [],
     "prompt_number": null
    }
   ],
   "metadata": {}
  }
 ]
}