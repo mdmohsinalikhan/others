{
 "metadata": {
  "name": "",
  "signature": "sha256:ae7e47ff39ddd5e17fd3ab36d7fb326918c41d7da8f95a70ec4c1f8b4cf143f7"
 },
 "nbformat": 3,
 "nbformat_minor": 0,
 "worksheets": [
  {
   "cells": [
    {
     "cell_type": "markdown",
     "metadata": {},
     "source": [
      "University of Helsinki, Department of Mathematics and Statistics  \n",
      "MAST32001 Computational Statistics I, Autumn 2017  \n",
      "Antti Honkela  \n",
      "\n",
      "# Lecture 4: Automatic differentiation, optimisation and maximum likelihood estimation\n",
      "\n",
      "Differentiation is a mechanical process that can easily be automated. In this exercise we explore nonlinear optimisation using automatic differentiation and apply the methods to maximum likelihood estimation.\n",
      "\n",
      "In order to perform these tasks, you need to install an additional Python package called `autograd` (https://github.com/HIPS/autograd). There are different ways for this depending on the system you are using:\n",
      "1. If you are using the university computers, open a terminal with a shell an run  \n",
      "`pip3 install autograd --user`\n",
      "2. If you are using your own Python installation on a Linux or Mac, you can either use the above or install the package globally using  \n",
      "`pip3 install autograd`\n",
      "3. If you are using the Anaconda Python distribution, you should be able to install the package using  \n",
      "`conda install -c conda-forge autograd`  \n",
      "(See https://conda.io/docs/user-guide/tasks/manage-pkgs.html for details.)"
     ]
    },
    {
     "cell_type": "markdown",
     "metadata": {},
     "source": [
      "## 0. Autograd tutorial\n",
      "\n",
      "Please try out the following autograd tutorial."
     ]
    },
    {
     "cell_type": "code",
     "collapsed": false,
     "input": [
      "# Example usage of Autograd\n",
      "\n",
      "import autograd.numpy as np\n",
      "from autograd import grad\n",
      "\n",
      "def sigmoid(x):\n",
      "    return 1/(1+np.exp(-x))\n",
      "\n",
      "d_sigmoid = grad(sigmoid)\n",
      "# Above d_sigmoid is now callable function that returns the derivative of sigmoid\n",
      "print(d_sigmoid(0.0))\n",
      "# See how it differs from the finite differences\n",
      "h=1e-9\n",
      "print( (sigmoid(h)-sigmoid(0.0))/(h) )"
     ],
     "language": "python",
     "metadata": {},
     "outputs": []
    },
    {
     "cell_type": "markdown",
     "metadata": {},
     "source": [
      "### 1. Numerical and automatic differentiation\n",
      "\n",
      "We will start by exploring different ways of differentiating the function $f(x) = x^3$.\n",
      "\n",
      "1. Evaluate the derivative of $f(x)$ using a finite difference approximation\n",
      "$$ f'(x) \\approx \\frac{f(x+h) - f(x)}{h}. $$\n",
      "2. Plot the absolute error of the finite difference approximation for a range of $h$ from $10^{-16}$ to $1$ at points $x = 10, 0.1, 0.001$. You can use np.linspace(lower, upper, number_of_points) to get the range for $h$.\n",
      "3. Form the derivative function using `autograd.grad()`. Evaluate its error at the same points as above. Print the numerical values and compare them to the above finite difference errors.\n",
      "\n",
      "Hint: In order to use `autograd`, you need to use its special version of `numpy`. This can be done by using  \n",
      "`import autograd.numpy as np`"
     ]
    },
    {
     "cell_type": "code",
     "collapsed": false,
     "input": [],
     "language": "python",
     "metadata": {},
     "outputs": []
    },
    {
     "cell_type": "markdown",
     "metadata": {},
     "source": [
      "### 2. Optimisation of a function\n",
      "\n",
      "Let us test some numerical optimisation methods using the famous Rosenbrock function (https://en.wikipedia.org/wiki/Rosenbrock_function) as the test case. \n",
      "The Roserbrock function is defined by\n",
      "$$ f(x, y) = (a-x)^2 + b(y-x^2)^2. $$\n",
      "It has a global minimum of 0 at $(a, a^2)$. We use the usual parameters $a=1$, $b=100$.\n",
      "\n",
      "1. Implement the Rosenbrock function and plot its values in $[-3, 3] \\times [-3, 3]$.\n",
      "2. Test a few different methods offered by `scipy.optimize.minimize()` for minimising the Roserbrock function. Try different initial points. Which method seems the most appropriate?\n",
      "3. Use `autograd.grad()` to obtain an exact gradient and use that with `BFGS` and `L-BFGS-B` methods provided by `scipy.optimize.minimize()` (https://docs.scipy.org/doc/scipy/reference/optimize.html). Compare the efficiency of the autograd gradients vs. numerical gradients evaluated by `minimize()` by default. Hint: The optimizer will return the number of iterations needed.\n",
      "4. (optional) Study the optimisers in more detail by checking the entire history of values tried. This can be achieved by using the `callback` functionality of `scipy.optimize.minimize()`. Plot the iterates for a few methods. A simple implementation of the callback:  \n",
      "```python\n",
      "    class recorder:\n",
      "        def __init__(self):\n",
      "            self.values = []\n",
      "        \n",
      "        def store(self, x):\n",
      "            self.values.append(x)\n",
      "\n",
      "    hist = recorder()\n",
      "    res = minimize(..., callback=hist.store)\n",
      "    iterates = np.vstack(hist.values)\n",
      "```"
     ]
    },
    {
     "cell_type": "code",
     "collapsed": false,
     "input": [
      "%matplotlib inline\n",
      "import matplotlib.pyplot as plt\n",
      "import autograd.numpy as np\n",
      "\n",
      "# Plotting example:\n",
      "x = np.linspace(-3.0, 3.0, 30)\n",
      "y = np.linspace(-3.0, 3.0, 30)\n",
      "X, Y = np.meshgrid(x, y)\n",
      "Z = X**2 + 2*Y**2\n",
      "plt.contour(X, Y, np.Z)"
     ],
     "language": "python",
     "metadata": {},
     "outputs": [
      {
       "metadata": {},
       "output_type": "pyout",
       "prompt_number": 4,
       "text": [
        "<matplotlib.contour.QuadContourSet at 0x7f759863fac8>"
       ]
      },
      {
       "metadata": {},
       "output_type": "display_data",
       "png": "[encoded data removed]",
       "text": [
        "<matplotlib.figure.Figure at 0x7f7598729550>"
       ]
      }
     ],
     "prompt_number": 4
    },
    {
     "cell_type": "markdown",
     "metadata": {},
     "source": [
      "### 3. Maximum likelihood estimation of linear regression and robust regression\n",
      "\n",
      "In this task we will apply automatic differentiation to perform maximum likelihood estimation of a linear regression model.\n",
      "We will use a linear regression model between two variables described as\n",
      "$$ y_i = \\beta x_i + \\alpha + \\epsilon_i, $$\n",
      "where the noise term $\\epsilon_i$ follows a known distribution, such as standard normal $\\mathcal{N}(0,1)$.\n",
      "\n",
      "In order to fit the model to a set of observations $\\{ (x_i, y_i) | i = 1, \\dots, n \\}$, we can solve $\\epsilon_i = y_i - \\beta x_i - \\alpha$. Assuming the residuals $\\epsilon_i, i=1,\\dots,n$ are independent, the log-likelihood of the model is\n",
      "$$ L(\\alpha, \\beta) = \\sum_{i=1}^n \\log p(\\epsilon_i | \\alpha, \\beta, x_i, y_i), $$\n",
      "where $p(\\epsilon_i | \\alpha, \\beta, x_i, y_i) = \\mathcal{N}(\\epsilon_i; \\; 0, 1)$.\n",
      "\n",
      "1. We will study a data set at points $x_i = i, i=0, \\dots, 9$ with $y_i = x_i$ except $y_8 = c$. Create and plot this data set with $c=0$.\n",
      "2. Derive and implement the log-likelihood function for linear regression and maximise it (i.e. minimise the negative log-likelihood) using the tools used in the previous task. Plot the fitted regression line in the same figure as the data.\n",
      "3. Change the model to use the Laplace distribution for the residuals $\\epsilon_i$. Repeat the previous task.\n",
      "4. Repeat the exercise for different values of $c$. What do you observe? Can you make the two fitted models have slopes of different signs?\n",
      "\n",
      "Hint: you can fix the scale/variance parameter of the distributions to any value you like, such as 1. This is because in the optimisation, the scale will only affect an additive constant and the scale of the function but it will not change the optimum."
     ]
    },
    {
     "cell_type": "code",
     "collapsed": false,
     "input": [],
     "language": "python",
     "metadata": {},
     "outputs": []
    },
    {
     "cell_type": "markdown",
     "metadata": {},
     "source": [
      "### 4. Linear regression with real data\n",
      "\n",
      "In this task we will apply the same linear model to real data.\n",
      "We will use data from the Framingham Heart Study that studies the association between heart disease and its causes.\n",
      "\n",
      "A description of the data and its fields can be found at http://www.maths.utas.edu.au/DHStat/Data/Flow.html\n",
      "\n",
      "1. Load the data using the below code and plot the data.\n",
      "2. Implement the log-likelihood function and maximise it (i.e. minimise the negative log-likelihood) using the tools used in the previous task. Plot the fitted regression line in the same figure as the data.\n",
      "3. Change the model to use the Laplace distribution for the residuals $\\epsilon_i$. Repeat the previous task."
     ]
    },
    {
     "cell_type": "code",
     "collapsed": false,
     "input": [
      "import pandas as pd\n",
      "import autograd.numpy as np\n",
      "\n",
      "# load the data from CSV file using pandas\n",
      "fram = pd.read_csv('http://www.helsinki.fi/~ahonkela/teaching/compstats1/fram.txt', sep='\\t')\n",
      "# convert the variables of interest to numpy arrays for autograd compatibility\n",
      "# input: Framingham relative weight - the ratio of the subjects weight to the median weight for their sex-height group\n",
      "x = np.array(fram['FRW'])\n",
      "# target: Systolic blood pressure, examination 1\n",
      "y = np.array(fram['SBP'])"
     ],
     "language": "python",
     "metadata": {},
     "outputs": []
    },
    {
     "cell_type": "code",
     "collapsed": false,
     "input": [],
     "language": "python",
     "metadata": {},
     "outputs": []
    },
    {
     "cell_type": "markdown",
     "metadata": {},
     "source": [
      "### 5. (optional) Higher dimensional regression\n",
      "\n",
      "Add more covariates from the `fram` data set to the blood pressure regression model. Check the accuracy of your predictions by computing the root mean squared error (RMSE) and mean absolute deviation (MAD) of the predictions. Which error model, normal or Laplace, gives the better results under these metrics? How much can you improve your predictions by adding more covariates?"
     ]
    },
    {
     "cell_type": "code",
     "collapsed": false,
     "input": [],
     "language": "python",
     "metadata": {},
     "outputs": []
    }
   ],
   "metadata": {}
  }
 ]
}