{
 "metadata": {
  "kernelspec": {
   "display_name": "Python 3",
   "language": "python",
   "name": "python3"
  },
  "language_info": {
   "codemirror_mode": {
    "name": "ipython",
    "version": 3
   },
   "file_extension": ".py",
   "mimetype": "text/x-python",
   "name": "python",
   "nbconvert_exporter": "python",
   "pygments_lexer": "ipython3",
   "version": "3.6.1"
  },
  "name": "",
  "signature": "sha256:b2cdfb776e28f8cfef9736701104437bdb8a8f1b9b73c1d12d76afa62fb81aa7"
 },
 "nbformat": 3,
 "nbformat_minor": 0,
 "worksheets": [
  {
   "cells": [
    {
     "cell_type": "markdown",
     "metadata": {},
     "source": [
      "University of Helsinki, Department of Mathematics and Statistics  \n",
      "MAST32001 Computational Statistics I, Autumn 2017  \n",
      "Antti Honkela  \n",
      "\n",
      "# Week 2 exercises"
     ]
    },
    {
     "cell_type": "code",
     "collapsed": true,
     "input": [
      "# Useful imports.\n",
      "# The exercises make use of autograd - see Thursday's exercises for installation instructions and more help.\n",
      "\n",
      "%matplotlib inline\n",
      "import pandas as pd\n",
      "import autograd.numpy as np\n",
      "import numpy.random as npr\n",
      "import matplotlib.pyplot as plt\n",
      "from scipy.linalg import cholesky, cho_factor, cho_solve\n",
      "import scipy.integrate"
     ],
     "language": "python",
     "metadata": {
      "deletable": true,
      "editable": true
     },
     "outputs": []
    },
    {
     "cell_type": "markdown",
     "metadata": {
      "deletable": true,
      "editable": true
     },
     "source": [
      "## 1. Evaluating probabilities by numerical integration\n",
      "\n",
      "Consider a two-dimensional multivariate normal distribution $\\mathcal{N}(\\mu, \\Sigma)$ with zero mean and covariance $\\Sigma = \\begin{pmatrix} 1 & \\rho \\\\ \\rho & 1 \\end{pmatrix}$.\n",
      "\n",
      "1. Implement a function that computes the pdf $p(x) = \\mathcal{N}(x;\\; \\mu, \\Sigma)$.\n",
      "2. As a sanity check, use numerical quadrature to evaluate the probability $p(-\\infty < x_1, x_2 < \\infty) = \\int_{-\\infty}^\\infty \\int_{-\\infty}^\\infty p(x) \\mathrm{d}x_1 \\mathrm{d}x_2$ when $\\rho = 0.5$.\n",
      "3. Use numerical quadrature to evaluate the probability $p(x_1 > 0, x_2 > 0) = \\int_0^\\infty \\int_0^\\infty p(x) \\mathrm{d}x_1 \\mathrm{d}x_2$ when $\\rho = 0.5$.\n",
      "4. Evaluate the same probability when $\\rho = 0.9$."
     ]
    },
    {
     "cell_type": "code",
     "collapsed": false,
     "input": [
      "import numpy as np\n",
      "import scipy.integrate\n",
      "\n",
      "rho = 0.00\n",
      "\n",
      "def p(x1,x2):\n",
      "    d = 2\n",
      "    mu = np.array([[0, 0]]).transpose()\n",
      "    x = np.array([[x1, x2]]).transpose()\n",
      "    S = np.array([[1.0, rho], [rho, 1.0]])\n",
      "    A = np.linalg.cholesky(S)\n",
      "\n",
      "    log_det_S = 2*np.log(np.linalg.det(A))\n",
      "\n",
      "    y = np.linalg.solve(A, x - mu)\n",
      "    third_term = .5*np.dot(y.transpose(),y)\n",
      "\n",
      "    log_density = -.5*d*np.log(2*np.pi) - .5*log_det_S - third_term\n",
      "\n",
      "    return np.exp(log_density)\n",
      "\n",
      "#x = np.array([[.5, .5]]).transpose()\n",
      "#print(p(0,0))\n",
      "\n",
      "rho = .5\n",
      "print(\"integration from minus infinity to plus infinity for both variables(rho = .5):\")\n",
      "result = scipy.integrate.dblquad(p,-np.inf,np.inf,lambda x:-np.inf,lambda x:np.inf)\n",
      "print(result)\n",
      "print(\"integration from zero to plus infinity for both variables (rho = .5):\")\n",
      "result = scipy.integrate.dblquad(p,0,np.inf,lambda x:0,lambda x:np.inf)\n",
      "print(result)\n",
      "\n",
      "rho = .9\n",
      "print(\"integration from minus infinity to plus infinity for both variables(rho = .9):\")\n",
      "result = scipy.integrate.dblquad(p,-np.inf,np.inf,lambda x:-np.inf,lambda x:np.inf)\n",
      "print(result)\n",
      "print(\"integration from zero to plus infinity for both variables (rho = .9):\")\n",
      "result = scipy.integrate.dblquad(p,0,np.inf,lambda x:0,lambda x:np.inf)\n",
      "print(result)"
     ],
     "language": "python",
     "metadata": {
      "deletable": true,
      "editable": true
     },
     "outputs": [
      {
       "output_type": "stream",
       "stream": "stdout",
       "text": [
        "integration from minus infinity to plus infinity for both variables(rho = .5):\n",
        "(1.0000000000098548, 1.0202432855222756e-08)"
       ]
      },
      {
       "output_type": "stream",
       "stream": "stdout",
       "text": [
        "\n",
        "integration from zero to plus infinity for both variables (rho = .5):\n",
        "(0.33333333333826065, 7.0842503680296144e-09)"
       ]
      },
      {
       "output_type": "stream",
       "stream": "stdout",
       "text": [
        "\n",
        "integration from minus infinity to plus infinity for both variables(rho = .9):\n",
        "(1.0000000011369996, 9.568724456125979e-09)"
       ]
      },
      {
       "output_type": "stream",
       "stream": "stdout",
       "text": [
        "\n",
        "integration from zero to plus infinity for both variables (rho = .9):\n",
        "(0.42821685460337705, 9.109433323018835e-09)"
       ]
      },
      {
       "output_type": "stream",
       "stream": "stdout",
       "text": [
        "\n"
       ]
      }
     ],
     "prompt_number": 14
    },
    {
     "cell_type": "markdown",
     "metadata": {
      "deletable": true,
      "editable": true
     },
     "source": [
      "## 2. Gradients of a multivariate normal likelihood\n",
      "\n",
      "We will test the evaluation and gradient of the multivariate normal likelihood using a covariance matrix specified by a Gaussian process. A 1D Gaussian process is a distribution over continuous functions such that the joint distribution over any finite set of points is multivariate normal (Gaussian). We will use the so-called squared exponential covariance function over input points $t_1, \\dots, t_n$ defined by  \n",
      "$$ k(t_i, t_j) = \\exp\\left( -\\frac{(t_i-t_j)^2}{2 l^2} \\right), $$\n",
      "where the parameter $l$ is called the length scale of the process.\n",
      "\n",
      "1. Write a function to generate a $3 \\times 3$ covariance matrix $K$ such that $K_{i,j} = k(t_i, t_j)$ where $t_1 = 1, t_2 = 2, t_3 = 3$ as a function of $l$.\n",
      "2. Evaluate the log-pdf of the vector $x = (1, 0, 1)$ under a multivariate normal with 0 mean and the above covariance $K$ and $l = 1$ and report it to Moodle.\n",
      "3. Evaluate the finite difference approximation to the gradient of the log-pdf with respect to $l$ at the point $x$ with $h = 10^{-3}$ (1e-3) and report it to Moodle.\n",
      "4. Evaluate the exact gradient of the log-pdf with respect to $l$ at the point $x$ and report it to Moodle."
     ]
    },
    {
     "cell_type": "code",
     "collapsed": false,
     "input": [
      "import autograd.numpy as np\n",
      "import autograd.numpy.linalg as lalg\n",
      "import autograd\n",
      "\n",
      "# Your code here\n",
      "def covariance(l):\n",
      "    k_1_1 = 1.0\n",
      "    k_1_2 = np.exp(-((1-2)**2)/(2.0*(l**2)))\n",
      "    k_1_3 = np.exp(-((1-3)**2)/(2.0*(l**2)))\n",
      "    \n",
      "    k_2_1 = np.exp(-((2-1)**2)/(2.0*(l**2)))\n",
      "    k_2_2 = 1.0\n",
      "    k_2_3 = np.exp(-((2-3)**2)/(2.0*(l**2)))\n",
      "    \n",
      "    k_3_1 = np.exp(-((3-1)**2)/(2.0*(l**2)))\n",
      "    k_3_2 = np.exp(-((3-2)**2)/(2.0*(l**2))) \n",
      "    k_3_3 = 1.0\n",
      "    \n",
      "    K = np.array([[k_1_1, k_1_2, k_1_3], [k_2_1, k_2_2, k_2_3], [k_3_1, k_3_2, k_3_3]])\n",
      "    \n",
      "    return K\n",
      "\n",
      "def log_pdf(l):\n",
      "    mu = np.array([[0, 0, 0]]).transpose()\n",
      "    S = covariance(l)\n",
      "    x = np.array([[1,0,1]]).transpose()\n",
      "    d=3\n",
      "    A = np.linalg.cholesky(S)\n",
      "    log_det_S = 2*np.log(np.linalg.det(A))\n",
      "    y = np.linalg.solve(A, x - mu)\n",
      "    third_term = .5*np.dot(y.transpose(),y)\n",
      "    log_density = -.5*d*np.log(2*np.pi) - .5*log_det_S - third_term\n",
      "    return log_density\n",
      "\n",
      "h = 10**(-3)\n",
      "print(\"log pdf evaluated at (1,0,1), with the above covariance S and l = 1:\")\n",
      "print(log_pdf(1))\n",
      "\n",
      "print(\"finite difference calculated at (1,0,1) with the covariance S and l = 1:\")\n",
      "print((log_pdf(1+h)-log_pdf(1))/h)\n",
      "\n",
      "\n",
      "autograd.grad(log_pdf)(1.0)"
     ],
     "language": "python",
     "metadata": {
      "deletable": true,
      "editable": true
     },
     "outputs": [
      {
       "output_type": "stream",
       "stream": "stdout",
       "text": [
        "log pdf evaluated at (1,0,1), with the above covariance S and l = 1:\n",
        "[[-4.72808403]]\n",
        "finite difference calculated at (1,0,1) with the covariance S and l = 1:\n",
        "[[-4.3558613]]\n"
       ]
      },
      {
       "metadata": {},
       "output_type": "pyout",
       "prompt_number": 15,
       "text": [
        "array(-4.348948023427575)"
       ]
      }
     ],
     "prompt_number": 15
    },
    {
     "cell_type": "markdown",
     "metadata": {
      "collapsed": true,
      "deletable": true,
      "editable": true
     },
     "source": [
      "## 3. Student-t regression\n",
      "\n",
      "In this task we will apply linear regression to data from the Framingham Heart Study that studies the association between heart disease and its causes.\n",
      "\n",
      "A description of the data and its fields can be found at http://www.maths.utas.edu.au/DHStat/Data/Flow.html\n",
      "\n",
      "Unlike in the exercise during the lectures, we will use the Student-t likelihood for the noise. This provides a form of robust regression.\n",
      "\n",
      "1. Load the data using the below code and plot the data.\n",
      "2. Fit the data using standard linear regression with normally distributed errors. Report the $\\alpha$ and $\\beta$ you found in Moodle.\n",
      "3. Implement linear regression using the Student-t log-likelihood function with $\\nu = 5$ and maximise it (i.e. minimise the negative log-likelihood) using `scipy.optimize.minimize()` and `autograd.grad()`. Plot the fitted regression line in the same figure as the data.\n",
      "4. Compare the coefficients $\\alpha$ and $\\beta$ you found for Student-t regression with those from the standard linear regression. What can you observe? Report the coefficients you found in Moodle.\n",
      "\n",
      "Hint: feel free to use the Student-t log-likelihood function provided below."
     ]
    },
    {
     "cell_type": "code",
     "collapsed": true,
     "input": [
      "%matplotlib inline\n",
      "import pandas as pd\n",
      "import autograd.numpy as np\n",
      "import autograd.scipy as scipy\n",
      "import autograd\n",
      "import matplotlib.pyplot as plt\n",
      "from scipy.optimize import minimize\n",
      "\n",
      "# load the data from CSV file using pandas\n",
      "fram = pd.read_csv('http://www.helsinki.fi/~ahonkela/teaching/compstats1/fram.txt', sep='\\t')\n",
      "# convert the variables of interest to numpy arrays for autograd compatibility\n",
      "# input: Framingham relative weight - the ratio of the subjects weight to the median weight for their sex-height group\n",
      "x = np.array(fram['CHOL'])\n",
      "# target: Systolic blood pressure, examination 1\n",
      "y = np.array(fram['SBP'])\n",
      "\n",
      "def linear_regression_logl(coefs, x, y):\n",
      "    return np.sum(-0.5*np.log(2*np.pi)-0.5*(y - coefs[1] - coefs[0]*x)**2)\n",
      "\n",
      "def linear_regression(x, y):\n",
      "    myfun = lambda c: -linear_regression_logl(c, np.array(x), np.array(y))\n",
      "    dmyfun = autograd.grad(myfun)\n",
      "    v = minimize(myfun, np.ones(2), jac=dmyfun)\n",
      "    return v\n",
      "\n",
      "def linear_regression_student(x, y):\n",
      "    myfun = lambda c: -linear_regression_logl_student(c, np.array(x), np.array(y))\n",
      "    dmyfun = autograd.grad(myfun)\n",
      "    v = minimize(myfun, np.ones(2), jac=dmyfun)\n",
      "    return v\n",
      "\n",
      "# A function implementing the log-pdf of the Student-t distribution\n",
      "def student_logpdf(x, nu):\n",
      "    return scipy.special.gammaln(0.5*(nu+1)) - scipy.special.gammaln(0.5*nu) - 0.5*np.log(nu*np.pi) - 0.5*(nu+1)*np.log(1 + x**2/nu)\n",
      "\n",
      "def linear_regression_logl_student(coefs, x, y):\n",
      "    return np.sum(student_logpdf((y - coefs[1] - coefs[0]*x),5))\n",
      "\n",
      "\n",
      "\n",
      "v_lin = linear_regression(x, y)\n",
      "print(v_lin)\n",
      "\n",
      "v_lin = linear_regression_student(x, y)\n",
      "print(v_lin)\n"
     ],
     "language": "python",
     "metadata": {},
     "outputs": [
      {
       "output_type": "stream",
       "stream": "stdout",
       "text": [
        "      fun: 540943.8951940064\n",
        " hess_inv: array([[  3.34822935e-07,  -7.85644964e-05],\n",
        "       [ -7.85644964e-05,   1.91521190e-02]])\n",
        "      jac: array([-0.02574829, -0.00010562])\n",
        "  message: 'Desired error not necessarily achieved due to precision loss.'\n",
        "     nfev: 47\n",
        "      nit: 2\n",
        "     njev: 35\n",
        "   status: 2\n",
        "  success: False\n",
        "        x: array([  6.96962768e-02,   1.31732207e+02])\n",
        "      fun: 16674.11029042084\n",
        " hess_inv: array([[  1.13826385e-05,  -2.51595158e-03],\n",
        "       [ -2.51595158e-03,   5.70736295e-01]])\n",
        "      jac: array([  6.66939377e-06,   3.31588250e-08])\n",
        "  message: 'Optimization terminated successfully.'\n",
        "     nfev: 28\n",
        "      nit: 13\n",
        "     njev: 28\n",
        "   status: 0\n",
        "  success: True\n",
        "        x: array([  8.18577159e-03,   1.37931460e+02])\n"
       ]
      }
     ],
     "prompt_number": 16
    },
    {
     "cell_type": "markdown",
     "metadata": {},
     "source": [
      "## 4. Maximum likelihood estimation of the gamma distribution\n",
      "\n",
      "In this exercise we test maximum likelihood estimation of the gamma distribution to a given data set. We will again use `autograd` and `scipy.optimize.minimize` for solving this task.\n",
      "\n",
      "Gamma distribution has an additional constraint that its parameters $\\alpha$ and $\\beta$ need to be positive. This can be accomplised by using $\\log \\alpha$ and $\\log \\beta$ as variables in the optimisation.\n",
      "\n",
      "1. Load the data set $\\mathcal{D} = \\{ x_i | i = 1, \\dots, n \\}$ using the function below.\n",
      "2. Find the maximum likelihood fit for the parameters $\\alpha$ and $\\beta$ of the Gamma distribution $\\Gamma(\\alpha, \\beta)$ when $x_i \\sim \\Gamma(\\alpha, \\beta)$.\n",
      "3. Plot the maximum likelihood distribution together with a normed histogram of the data to check your estimates.\n",
      "4. Report your estimates $\\alpha$ and $\\beta$ in Moodle. (Note: please remember to report $\\alpha$ and $\\beta$, not $\\log \\alpha$ and $\\log \\beta$.)\n",
      "\n",
      "Hint: feel free to use the implementation of the gamma distribution pdf provided below."
     ]
    },
    {
     "cell_type": "code",
     "collapsed": true,
     "input": [
      "import autograd.scipy.special as scs\n",
      "import autograd.numpy as np\n",
      "import pandas as pd\n",
      "from scipy.optimize import minimize\n",
      "import autograd\n",
      "import matplotlib.pyplot as plt\n",
      "\n",
      "data = pd.read_csv('http://www.helsinki.fi/~ahonkela/teaching/compstats1/toydata.txt', sep='\\t', header=None)\n",
      "data = np.array(data)\n",
      "\n",
      "def alpha_beta_estimation(data):\n",
      "    myfun = lambda c: -gamma_logpdf_sum(data,c)\n",
      "    dmyfun = autograd.grad(myfun)\n",
      "    v = minimize(myfun, np.ones(2), jac=dmyfun, method='L-BFGS-B')\n",
      "    return v\n",
      "\n",
      "def gamma_logpdf_sum(data,c):\n",
      "    alpha = np.exp(c[0])\n",
      "    beta = np.exp(c[1])\n",
      "    return np.sum(gamma_logpdf(data,alpha,beta))\n",
      "\n",
      "def gamma_logpdf(x, alpha, beta):\n",
      "    return (alpha*np.log(beta) - scs.gammaln(alpha) + (alpha-1) * np.log(x) - beta * x)\n",
      "\n",
      "v_lin = alpha_beta_estimation(data)\n",
      "print(v_lin)\n",
      "print(np.exp(v_lin.x[0]))\n",
      "print(np.exp(v_lin.x[1]))\n",
      "\n",
      "alpha = np.exp(v_lin.x[0])\n",
      "beta = np.exp(v_lin.x[1])\n",
      "\n",
      "t = np.linspace(0,10,100)\n",
      "plt.plot(t, np.exp(gamma_logpdf(t,alpha,beta)))\n",
      "plt.hist(data,normed = True)\n",
      "plt.show()\n",
      "\n",
      "\n",
      "#print(data)\n"
     ],
     "language": "python",
     "metadata": {},
     "outputs": [
      {
       "output_type": "stream",
       "stream": "stdout",
       "text": [
        "      fun: 905.28081351531205\n",
        " hess_inv: <2x2 LbfgsInvHessProduct with dtype=float64>\n",
        "      jac: array([  6.26873348e-05,  -5.15570430e-05])\n",
        "  message: b'CONVERGENCE: REL_REDUCTION_OF_F_<=_FACTR*EPSMCH'\n",
        "     nfev: 11\n",
        "      nit: 9\n",
        "   status: 0\n",
        "  success: True\n",
        "        x: array([ 1.87106675,  0.4905797 ])\n",
        "6.4952214536\n",
        "1.63326274309\n"
       ]
      },
      {
       "metadata": {},
       "output_type": "pyout",
       "prompt_number": 3,
       "text": [
        "(array([ 0.00428082,  0.05779111,  0.18621579,  0.25898978,  0.23330484,\n",
        "         0.16481168,  0.12414386,  0.03210617,  0.00642123,  0.00214041]),\n",
        " array([  8.73300000e-03,   9.43132800e-01,   1.87753260e+00,\n",
        "          2.81193240e+00,   3.74633220e+00,   4.68073200e+00,\n",
        "          5.61513180e+00,   6.54953160e+00,   7.48393140e+00,\n",
        "          8.41833120e+00,   9.35273100e+00]),\n",
        " <a list of 10 Patch objects>)"
       ]
      }
     ],
     "prompt_number": 3
    },
    {
     "cell_type": "markdown",
     "metadata": {
      "collapsed": true,
      "deletable": true,
      "editable": true
     },
     "source": [
      "## 5. Fitting a normal mixture model\n",
      "\n",
      "A normal mixture model, also known as Gaussian mixture model, can be described as a weighted mixture of several normal distributions.\n",
      "\n",
      "A $k$-component mixture has the pdf\n",
      "$$ p(x) = \\sum_{i=1}^k \\pi_i \\mathcal{N}(x;\\; \\mu_i, \\sigma_i), $$\n",
      "where $\\pi_i$ are the mixing weights that satisfy $0 \\le \\pi_i 1, i=1, \\dots, k$ and $\\pi_1 + \\dots + \\pi_k = 1$, and $\\mu_i$ are the means of the $k$ components and $\\sigma_i$ are the corresponding standard deviations. To simplify the problem, we only consider $k=2$ and assume $\\sigma_1 = \\sigma_2 = 1$.\n",
      "\n",
      "Your task is to use maximum likelihood estimation to fit this kind of a mixture model to the data set from the previous exercise.\n",
      "\n",
      "1. Implement the pdf of the above Gaussian mixture model.\n",
      "2. Evaluate $\\log p(1)$ under a mixture model where $p_1 = 0.2$, $\\mu_1 = 0.5$, $\\mu_2 = 2$. Report your result to Moodle.\n",
      "3. Implement maximum likelihood estimation of the parameters of the mixture. Remember to make sure your $\\pi_i$ satisfy the constraints. One way to achieve this is to use a single real valued parameter $x$ and set\n",
      "$$ \\pi_1 = \\frac{1}{1 + \\exp(-x)}, \\pi_2 = \\frac{\\exp(-x)}{1 + \\exp(-x)}. $$\n",
      "This is known as the logistic transformation.\n",
      "4. Plot the pdf of the mixture together with the normed histogram of the data.\n",
      "5. In order to fix the order between the components, choose $\\pi_1 > \\pi_2$. Report your estimates of $\\pi_1$, $\\mu_1$, $\\mu_2$.\n",
      "\n",
      "Hint: You need to be careful with choosing the initial point for the optimisation. In particular, it is very important to have $\\mu_1 \\neq \\mu_2$. If you start at a symmetric setting, the model will never be able to break the symmetry."
     ]
    },
    {
     "cell_type": "code",
     "collapsed": true,
     "input": [
      "import autograd.scipy.special as scs\n",
      "import autograd.numpy as np\n",
      "import pandas as pd\n",
      "from scipy.optimize import minimize\n",
      "import autograd\n",
      "import matplotlib.pyplot as plt\n",
      "\n",
      "data = pd.read_csv('http://www.helsinki.fi/~ahonkela/teaching/compstats1/toydata.txt', sep='\\t', header=None)\n",
      "data = np.array(data)\n",
      "\n",
      "def normal_log_pdf(x,mu):\n",
      "    return -0.5*np.log(2*np.pi)-0.5*((x-mu)**2)\n",
      "\n",
      "def finding_fit(data):\n",
      "    myfun = lambda c : -mixture_logpdf_sum(data,c)\n",
      "    dmyfun = autograd.grad(myfun)\n",
      "    d = [.2,1,7]\n",
      "    v = minimize(myfun, d, jac=dmyfun, method='L-BFGS-B')\n",
      "    return v\n",
      "\n",
      "def mixture_logpdf_sum(data,c):\n",
      "    pi1 = 1/(1 + np.exp(-c[0]))\n",
      "    pi2 = np.exp(-c[0])/(1 + np.exp(-c[0]))\n",
      "    mu1 = c[1]\n",
      "    mu2 = c[2]\n",
      "    return np.sum(mixture_log_pdf(data,pi1,mu1,mu2))\n",
      "\n",
      "def mixture_log_pdf(x,pi1,mu1,mu2):\n",
      "    return np.log(pi1*np.exp(normal_log_pdf(x,mu1)) + (1-pi1)*np.exp(normal_log_pdf(x,mu2)))\n",
      "\n",
      "print(mixture_log_pdf(1,.2,.5,2))\n",
      "\n",
      "v = finding_fit(data)\n",
      "print(v)\n",
      "\n",
      "x = np.linspace(-10,10,100)\n",
      "plt.hist(data,normed = True)\n",
      "pi1 = 1/(1 + np.exp(-v.x[0]))\n",
      "mu1 = v.x[1]\n",
      "mu2 = v.x[2]\n",
      "plt.plot(x,np.exp(mixture_log_pdf(x,pi1,mu1,mu2)))\n",
      "print(\"pi1:\")\n",
      "print(pi1)\n",
      "print(\"mu1:\")\n",
      "print(mu1)\n",
      "print(\"mu2:\")\n",
      "print(mu2)"
     ],
     "language": "python",
     "metadata": {
      "deletable": true,
      "editable": true
     },
     "outputs": [
      {
       "output_type": "stream",
       "stream": "stdout",
       "text": [
        "-1.33184540021\n",
        "      fun: 877.91701884263341\n",
        " hess_inv: <3x3 LbfgsInvHessProduct with dtype=float64>\n",
        "      jac: array([ 0.00160034, -0.0012593 , -0.00065036])\n",
        "  message: b'CONVERGENCE: REL_REDUCTION_OF_F_<=_FACTR*EPSMCH'\n",
        "     nfev: 10\n",
        "      nit: 9\n",
        "   status: 0\n",
        "  success: True\n",
        "        x: array([ 0.7901856 ,  3.28879165,  5.49312344])\n",
        "pi1:"
       ]
      },
      {
       "output_type": "stream",
       "stream": "stdout",
       "text": [
        "\n",
        "0.687871180704\n",
        "mu1:\n",
        "3.28879165245\n",
        "mu2:\n",
        "5.49312344223\n"
       ]
      },
      {
       "metadata": {},
       "output_type": "display_data",
       "png": "[encoded data removed]",
       "text": [
        "<matplotlib.figure.Figure at 0x7f4fefdcb550>"
       ]
      }
     ],
     "prompt_number": 31
    },
    {
     "cell_type": "code",
     "collapsed": false,
     "input": [],
     "language": "python",
     "metadata": {},
     "outputs": [],
     "prompt_number": 11
    },
    {
     "cell_type": "code",
     "collapsed": false,
     "input": [],
     "language": "python",
     "metadata": {},
     "outputs": [],
     "prompt_number": 11
    },
    {
     "cell_type": "code",
     "collapsed": false,
     "input": [],
     "language": "python",
     "metadata": {},
     "outputs": []
    }
   ],
   "metadata": {}
  }
 ]
}