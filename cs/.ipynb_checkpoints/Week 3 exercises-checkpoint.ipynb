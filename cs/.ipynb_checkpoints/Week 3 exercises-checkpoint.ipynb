{
 "metadata": {
  "kernelspec": {
   "display_name": "Python 3",
   "language": "python",
   "name": "python3"
  },
  "language_info": {
   "codemirror_mode": {
    "name": "ipython",
    "version": 3
   },
   "file_extension": ".py",
   "mimetype": "text/x-python",
   "name": "python",
   "nbconvert_exporter": "python",
   "pygments_lexer": "ipython3",
   "version": "3.6.2"
  },
  "name": "",
  "signature": "sha256:577b37c08458882193b82860e9860af1c1d1c89daa9011ac55b4eb95d61b7f26"
 },
 "nbformat": 3,
 "nbformat_minor": 0,
 "worksheets": [
  {
   "cells": [
    {
     "cell_type": "markdown",
     "metadata": {},
     "source": [
      "University of Helsinki, Department of Mathematics and Statistics  \n",
      "MAST32001 Computational Statistics I, Autumn 2017  \n",
      "Antti Honkela  \n",
      "\n",
      "# Week 3 exercises"
     ]
    },
    {
     "cell_type": "markdown",
     "metadata": {},
     "source": [
      "## 1. Permutation testing\n",
      "\n",
      "We will use permutation testing to study if the mother's smoking (smoke) affects the birth weight (bwt) of their babies. We will use the difference in the means as the test statistic. We will focus the analysis on young mothers (age < 25) who deliver full term (gestation > 280).\n",
      "\n",
      "Note: when reporting a $p$-value for $b$ more extreme tests out of $m$, use $p = (b+1)/(m+1)$ to avoid zero p-values. 30000 permutations will be sufficient for obtaining the required accuracy.\n",
      "\n",
      "1. Load the data set below. Test whether the birth weights (bwt) of babies with smoking vs non-smoking mothers (smoke) are statistically significantly different using the difference of the means as the test statistic. Report the $p$-value you obtain in Moodle.\n",
      "2. Stratify the analysis by the variable gestation by splitting the groups $\\text{gestation} \\le 287$ and $\\text{gestation} > 287$. Constrain the permutations so that only changes within each group (low gestation or high gestation) are allowed. After the permutation merge the two groups back together to compute the means. Report the $p$-value you obtain in Moodle."
     ]
    },
    {
     "cell_type": "code",
     "collapsed": false,
     "input": [
      "import pandas as pd\n",
      "import numpy as np\n",
      "import numpy.random as npr\n",
      "\n",
      "# Load the data set\n",
      "babies_full = pd.read_csv(\"http://www.helsinki.fi/~ahonkela/teaching/compstats1/babies.txt\", sep='\\t')\n",
      "\n",
      "# Pick a subset\n",
      "babies = babies_full.loc[(babies_full['gestation']>280).values & (babies_full['age']<25).values,:]\n",
      "\n",
      "# Pick a subset\n",
      "babies_smoking = babies.loc[(babies['smoke']==1).values,:'bwt']\n",
      "\n",
      "# Pick a subset\n",
      "babies_not_smoking = babies.loc[(babies['smoke']==0).values,:'bwt']\n",
      "\n",
      "\n",
      "#print(babies_full)\n",
      "#print(babies_smoking.mean(), babies_not_smoking.mean())\n",
      "print(\"True difference:\")\n",
      "truediff = int(np.abs(babies_smoking.mean() - babies_not_smoking.mean()))\n",
      "print(truediff)\n",
      "\n",
      "#print(babies_smoking)\n",
      "\n",
      "\n",
      "babies_smoking_count = int(babies_smoking.count())\n",
      "babies_not_smoking_count = int(babies_not_smoking.count())\n",
      "\n",
      "babies_smoking.append(babies_not_smoking).count()\n",
      "\n",
      "\n",
      "# Repeatedly randomly permute to mix the groups\n",
      "meandiffs = np.zeros(30000)\n",
      "for i in range(30000):\n",
      "    z = npr.permutation(babies_smoking.append(babies_not_smoking))\n",
      "    meandiffs[i] = np.abs(np.mean(z[0:babies_smoking_count]) - np.mean(z[babies_smoking_count:]))\n",
      "    \n",
      "#print(meandiffs)\n",
      "    \n",
      "print(np.sum(truediff <= meandiffs)+1) \n",
      "\n",
      "print(len(meandiffs)+1)\n",
      "\n",
      "print((np.sum(truediff <= meandiffs)+1)/(len(meandiffs)+1))"
     ],
     "language": "python",
     "metadata": {},
     "outputs": [
      {
       "output_type": "stream",
       "stream": "stdout",
       "text": [
        "True difference:\n",
        "6\n",
        "98"
       ]
      },
      {
       "output_type": "stream",
       "stream": "stdout",
       "text": [
        "\n",
        "30001\n",
        "0.00326655778141\n"
       ]
      }
     ],
     "prompt_number": 67
    },
    {
     "cell_type": "markdown",
     "metadata": {},
     "source": [
      "## 2. Bootstrap confidence intervals on data statistics\n",
      "\n",
      "In this exercise we use bootstrap to estimate confidence intervals for various quantities. (Using 1000 bootstrap samples will give you enough accuracy assuming everything is correctly done.)\n",
      "\n",
      "1. Use bootstrap to estimate the central 95% confidence interval for the mean of 'bwt' in the full data set loaded in Problem 1. Report the width of the interval in Moodle.\n",
      "2. Use bootstrap to estimate the central 95% confidence interval for the mean of 'bwt' in the smaller subset of the data set used in Problem 1. Report the width of the interval in Moodle.\n",
      "3. Use bootstrap to estimate the central 95% confidence interval for the correlation coefficient of 'gestation' and 'age' in the full data set loaded in Problem 1. What does this tell about the relation between the duration of the pregnancy and the age of the mother? Report the bounds of the interval in Moodle.\n",
      "4. Use bootstrap to estimate the central 95% confidence interval for the correlation coefficient of 'gestation' and 'age' in the smaller subset used in Problem 1. What does this tell about the relation between the duration of the pregnancy and the age of the mother? Report the bounds of the interval in Moodle.\n",
      "\n",
      "Hint: remember that the size of the bootstrap sample is always the same as the size of the original data set."
     ]
    },
    {
     "cell_type": "markdown",
     "metadata": {},
     "source": [
      "## 3. Bootstrap confidence intervals on parameter estimates\n",
      "\n",
      "In this task, we will use bootstrap to obtain confidence intervals on maximum likelihood parameter estimates for linear regression models. We will apply case resampling, i.e. resampling the individuals and then fitting the model using the data $(x_i, y_i)$ from these individuals. (There are alternative methods that may work better when the data are limited, but in our case there are enough observations so that this will not be a problem.) 1000 bootstrap samples will again give you enough accuracy.\n",
      "\n",
      "1. Fit a standard linear regression model to predict 'gestation' ($y$) as a function of 'age' ($x$) in the full data set as\n",
      "$$ y_i = \\alpha + \\beta x_i + \\epsilon_i, $$\n",
      "where the error term $\\epsilon_i$ is normally distributed. Report the estimated $\\beta$ in Moodle.\n",
      "2. Use bootstrap to estimate the confidence interval of the regression coefficient $\\beta$ in the above model by resampling the individuals used to fit the model. Report the lower and upper bounds of the central 95% confidence interval of $\\beta$ in Moodle.\n",
      "3. Fit the same model assuming $\\epsilon_i$ follows the Laplace distribution and perform the same bootstrap sampling. Report the lower and upper bounds of the central 95% confidence interval of $\\beta$ in Moodle.\n",
      "\n",
      "Hint: You can use autograd or standard numpy tools for the basic linear regression with normally distributed $\\epsilon_i$ (cases 1 and 2) but need to use an autograd-based implementation for case 3."
     ]
    },
    {
     "cell_type": "code",
     "collapsed": false,
     "input": [
      "import pandas as pd\n",
      "import numpy as np\n",
      "import numpy.random as npr\n",
      "\n",
      "# Load the data set\n",
      "babies_full = pd.read_csv(\"http://www.helsinki.fi/~ahonkela/teaching/compstats1/babies.txt\", sep='\\t')\n",
      "\n",
      "# Pick a subset\n",
      "babies = babies_full.loc[(babies_full['gestation']>280).values & (babies_full['age']<25).values,:]\n",
      "\n",
      "bwt = babies_full['bwt']\n",
      "n_bootstrap = 10000\n",
      "n = len(bwt)\n",
      "bootstrap_means = [np.mean(npr.choice(bwt, replace=True, size=n)) for i in range(n_bootstrap)]\n",
      "confidence_interval = np.percentile(bootstrap_means, [2.5,97.5])\n",
      "print(np.abs(confidence_interval[0]-confidence_interval[1]))\n",
      "\n",
      "# part 2\n",
      "bwt = babies['bwt']\n",
      "n_bootstrap = 10000\n",
      "n = len(bwt)\n",
      "bootstrap_means = [np.mean(npr.choice(bwt, replace=True, size=n)) for i in range(n_bootstrap)]\n",
      "confidence_interval = np.percentile(bootstrap_means, [2.5,97.5])\n",
      "print(np.abs(confidence_interval[0]-confidence_interval[1]))\n",
      "\n",
      "\n",
      "#part 3\n",
      "age = babies_full['age']\n",
      "gestation = babies_full['gestation']\n",
      "n = len(age)\n",
      "n_bootstrap = 1\n",
      "bootstrap_correlate = np.zeros(n_bootstrap)\n",
      "for i in range(n_bootstrap):\n",
      "    indices = npr.choice(range(n), replace=True, size=n)\n",
      "    df = pd.DataFrame()\n",
      "    for j in indices:\n",
      "        print(babies.loc[j:]) \n",
      "    #print(df)\n",
      "    #bootstrap_correlate[i] = np.corrcoef(age[indices], gestation[indices])[0,1]\n",
      "    #bootstrap_correlate[i] = df.corr().as_matrix()[3,1]\n",
      "\n",
      "#confidence_interval = np.percentile(bootstrap_means, [2.5,97.5])\n",
      "#print(np.abs(confidence_interval[0]-confidence_interval[1]))\n",
      "#print(np.percentile(bootstrap_correlate, [2.5, 97.5]))\n",
      "\n",
      "\n",
      "#part 4\n",
      "print(babies.corr().as_matrix()[3,1])"
     ],
     "language": "python",
     "metadata": {},
     "outputs": [
      {
       "output_type": "stream",
       "stream": "stdout",
       "text": [
        "2.0863271344\n",
        "3.90748898678"
       ]
      },
      {
       "output_type": "stream",
       "stream": "stdout",
       "text": [
        "\n",
        "Empty DataFrame\n",
        "Columns: []\n",
        "Index: []"
       ]
      },
      {
       "output_type": "stream",
       "stream": "stdout",
       "text": [
        "\n",
        "-0.0312252304512\n"
       ]
      }
     ],
     "prompt_number": 117
    },
    {
     "cell_type": "code",
     "collapsed": false,
     "input": [],
     "language": "python",
     "metadata": {},
     "outputs": []
    },
    {
     "cell_type": "markdown",
     "metadata": {},
     "source": [
      "## 4. Density estimation\n",
      "\n",
      "1. Estimate the joint density of 'bwt' and 'age' in the full data set using kernel density estimation with a 2-dimensional Gaussian kernel\n",
      "$$ K_h(x) = \\frac{1}{2\\pi h^2} \\exp\\left( - \\frac{x_1^2 + x_2^2}{2 h^2} \\right) $$\n",
      "with $h=5$. Plot a 2D histogram of the data (`matplotlib.pyplot.hist2d`) and a contour plot of the estimated density. Report the value of the estimated density at point bwt=120, age=25 in Moodle.\n",
      "2. Use leave-one-out cross validation to find an optimal $h$ in the range `np.linspace(1.0, 10.0, 30)`. Report the value of $h$ and the value of the estimated density at bwt=120, age=25 in Moodle."
     ]
    },
    {
     "cell_type": "code",
     "collapsed": false,
     "input": [],
     "language": "python",
     "metadata": {},
     "outputs": []
    },
    {
     "cell_type": "markdown",
     "metadata": {},
     "source": [
      "## 5. Cross validation for linear regression\n",
      "\n",
      "Cross validation can be used for evaluating the out-of-sample predictive accuracy of models and feature selection. In this task we will study a subset of the birth weight data for old mothers (age > 30) and aim to predict the birth weight ('bwt', $y$) as a function of the duration of the pregnancy ('gestation', $x$). We will then evaluate the root mean squared error (RMSE)\n",
      "$$ RMSE(\\epsilon) = \\sqrt{\\frac{1}{n} \\sum_{i=1}^n \\epsilon_i^2} $$\n",
      "of the model.\n",
      "\n",
      "1. Use all data in the set `babies2` to fit a linear regression model and evaluate the RMSE of all the predictions (in-sample prediction). Report the value you obtain in Moodle.\n",
      "2. Use $k$-fold cross-validation with $k=20$ and estimate the RMSE of the test set predictions (out-of-sample prediction). Report the value you obtain in Moodle.\n",
      "3. Fit a multivariate linear regression model using 'age', 'gestation' and 'weight' as predictors and evaluate the RMSE using LOO CV (out-of-sample prediction). Report the value you obtain in Moodle."
     ]
    },
    {
     "cell_type": "code",
     "collapsed": false,
     "input": [
      "import pandas as pd\n",
      "import numpy as np\n",
      "import numpy.random as npr\n",
      "\n",
      "# Load the data set\n",
      "babies_full = pd.read_csv(\"http://www.helsinki.fi/~ahonkela/teaching/compstats1/babies.txt\", sep='\\t')\n",
      "\n",
      "# Pick a subset\n",
      "babies2 = babies_full.loc[(babies_full['age']>30).values,:]\n"
     ],
     "language": "python",
     "metadata": {},
     "outputs": []
    }
   ],
   "metadata": {}
  }
 ]
}