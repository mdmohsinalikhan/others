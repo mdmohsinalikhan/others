{
 "metadata": {
  "kernelspec": {
   "display_name": "Python 3",
   "language": "python",
   "name": "python3"
  },
  "language_info": {
   "codemirror_mode": {
    "name": "ipython",
    "version": 3
   },
   "file_extension": ".py",
   "mimetype": "text/x-python",
   "name": "python",
   "nbconvert_exporter": "python",
   "pygments_lexer": "ipython3",
   "version": "3.6.1"
  },
  "name": "",
  "signature": "sha256:6be5a2c57f75aa1b6c123d6fbdb74cded120396c21c8f949e52159a3efe1393d"
 },
 "nbformat": 3,
 "nbformat_minor": 0,
 "worksheets": [
  {
   "cells": [
    {
     "cell_type": "markdown",
     "metadata": {
      "deletable": true,
      "editable": true
     },
     "source": [
      "University of Helsinki, Department of Mathematics and Statistics  \n",
      "MAST32001 Computational Statistics I, Autumn 2017  \n",
      "Antti Honkela  \n",
      "\n",
      "# Week 5 exercises"
     ]
    },
    {
     "cell_type": "markdown",
     "metadata": {
      "deletable": true,
      "editable": true
     },
     "source": [
      "## 1. Importance sampling\n",
      "\n",
      "Develop an importance sampler for the bimodal target\n",
      "$$P(x) = \\sum_{i=1}^2 \\pi_i \\mathcal{N}(x ; \\mu_i, \\sigma_i^2),$$\n",
      "where $\\pi_1 = \\pi_2 = 1/2$ and $\\mu_1 = -1, \\mu_2 = 1$.\n",
      "Use $\\mathrm{Laplace}(0, b)$ with a suitable $b$ as the proposal and evaluate the expectation $\\mathrm{E}[(x-1)^2]$ when\n",
      "1. $\\sigma_1^2 = \\sigma_2^2 = 0.5$.\n",
      "2. $\\sigma_1^2 = \\sigma_2^2 = 0.1$.\n",
      "\n",
      "The required tolerance for the answer is $\\pm 0.1$.\n",
      "\n",
      "In order to estimate the accuracy of your answer, it is recommended to run the sampler a few times and compute the standard deviation of the values you obtain. Monte Carlo error scales as $1/\\sqrt{n}$ with the number of iterations $n$."
     ]
    },
    {
     "cell_type": "code",
     "collapsed": false,
     "input": [
      "import numpy as np\n",
      "import numpy.random as npr\n",
      "import matplotlib.pyplot as plt\n",
      "\n",
      "def laplacetarget(x,mu,b):\n",
      "    return (1/(2*b))*np.exp(-np.abs(x-mu)/b)\n",
      "\n",
      "def normaltarget(x,pi1,pi2,mu1,mu2,sigma1,sigma2):\n",
      "    n1 = pi1*1/(np.sqrt(2*3.14)*sigma1)*np.exp(-((x-mu1)**2)/(2*sigma1**2))\n",
      "    n2 = pi2*1/(np.sqrt(2*3.14)*sigma2)*np.exp(-((x-mu2)**2)/(2*sigma2**2))\n",
      "    return n1 + n2\n",
      "\n",
      "#npr.seed(44)\n",
      "x = npr.laplace(size=1000000)\n",
      "\n",
      "pi1 = .5\n",
      "pi2 = .5\n",
      "mu1 = -1\n",
      "mu2 = 1\n",
      "sigma1 = np.sqrt(0.5)\n",
      "sigma2 = np.sqrt(0.5)\n",
      "\n",
      "print('E[(x-1)^2] =', np.mean(((x-1)**2)* normaltarget(x,pi1, pi2,mu1,mu2,sigma1,sigma2)/laplacetarget(x,0,1)))\n",
      "t1 = np.arange(-10, 10, 0.01)\n",
      "plt.plot(t1,normaltarget(t1,0.5,0.5,-1,1,0.5,0.5))\n",
      "\n",
      "sigma1 = np.sqrt(0.1)\n",
      "sigma2 = np.sqrt(0.1)\n",
      "\n",
      "print('E[(x-1)^2] =', np.mean(((x-1)**2)* normaltarget(x,pi1, pi2,mu1,mu2,sigma1,sigma2)/laplacetarget(x,0,1)))\n",
      "t1 = np.arange(-10, 10, 0.01)\n",
      "plt.plot(t1,normaltarget(t1,0.5,0.5,-1,1,0.1,0.1))\n",
      "\n",
      "plt.show()"
     ],
     "language": "python",
     "metadata": {},
     "outputs": [
      {
       "output_type": "stream",
       "stream": "stdout",
       "text": [
        "E[(x-1)^2] = 2.4998158487\n",
        "E[(x-1)^2] ="
       ]
      },
      {
       "output_type": "stream",
       "stream": "stdout",
       "text": [
        " 2.10258538862\n"
       ]
      }
     ],
     "prompt_number": 43
    },
    {
     "cell_type": "markdown",
     "metadata": {
      "deletable": true,
      "editable": true
     },
     "source": [
      "## 2. Metropolis-Hastings sampling with a fixed proposal\n",
      "\n",
      "Implement Metropolis-Hastings sampling for the bimodal target \n",
      "$$P^*(x) = \\exp(-\\gamma (x^2-1)^2)$$\n",
      "using $\\mathrm{Laplace}(0, 1)$ as the fixed proposal and evaluate the expectation $\\mathrm{E}[(x-1)^2]$ when\n",
      "1. $\\gamma = 8$.\n",
      "2. $\\gamma = 64$.\n",
      "\n",
      "The required tolerance for the answer is $\\pm 0.1$.\n",
      "\n",
      "Hint: It is useful to check your result by plotting a scatter plot of your samples and a contour plot of the logarithm of the target function."
     ]
    },
    {
     "cell_type": "code",
     "collapsed": false,
     "input": [
      "import numpy as np\n",
      "import numpy.random as npr\n",
      "\n",
      "def target(x,gamma):\n",
      "    return np.exp(-gamma*(x**2 - 1)**2)\n",
      "\n",
      "def proposal(x,y,b):\n",
      "    return (1/(2*b))*np.exp(-np.abs(x-y)/b)\n",
      "\n",
      "def drawproposal(x,b):\n",
      "    return npr.laplace(x,b)\n",
      "\n",
      "def mhsample(a0, gamma, b, n):\n",
      "    a = a0\n",
      "    lp = target(a,gamma)\n",
      "    accepted = []\n",
      "    for i in range(n):\n",
      "        x = drawproposal(a,b)\n",
      "        a_prop = x\n",
      "        if npr.rand() < (target(a_prop,gamma)*proposal(a,a_prop,b))/(target(a,gamma)*proposal(a_prop,a,b)):    \n",
      "            #print(\"i came here\")\n",
      "            a = a_prop\n",
      "        accepted.append(a)\n",
      "    return accepted\n",
      "\n",
      "\n",
      "b = 2\n",
      "n = 1000000\n",
      "\n",
      "\n",
      "gamma = 8\n",
      "x = mhsample(0,gamma,b,n)\n",
      "h = plt.hist(x, 50, normed=True)\n",
      "t1 = np.arange(-2, 2, 0.01)\n",
      "plt.plot(t1,target(t1,gamma))\n",
      "\n",
      "result = []\n",
      "for i in x:\n",
      "    result.append((i-1)**2)\n",
      "\n",
      "print(\"the mean of (x-1)**2 is:\")\n",
      "print(np.mean(result))\n",
      "\n",
      "gamma = 64\n",
      "x = mhsample(0,gamma,b,n)\n",
      "h = plt.hist(x, 50, normed=True)\n",
      "t1 = np.arange(-2, 2, 0.01)\n",
      "plt.plot(t1,target(t1,gamma))\n",
      "\n",
      "result2 = []\n",
      "for i in x:\n",
      "    result2.append((i-1)**2)\n",
      "\n",
      "print(\"the mean of (x-1)**2 is:\")\n",
      "print(np.mean(result2))\n",
      "\n",
      "plt.show()"
     ],
     "language": "python",
     "metadata": {},
     "outputs": [
      {
       "output_type": "stream",
       "stream": "stdout",
       "text": [
        "the mean of (x-1)**2 is:\n",
        "1.96809981587"
       ]
      },
      {
       "output_type": "stream",
       "stream": "stdout",
       "text": [
        "\n",
        "the mean of (x-1)**2 is:"
       ]
      },
      {
       "output_type": "stream",
       "stream": "stdout",
       "text": [
        "\n",
        "2.00067957908\n"
       ]
      }
     ],
     "prompt_number": 71
    },
    {
     "cell_type": "markdown",
     "metadata": {
      "deletable": true,
      "editable": true
     },
     "source": [
      "## 3. Gibbs sampling for a normal mixture model\n",
      "\n",
      "In this task we will apply Gibbs sampling for sampling the posterior distribution of a normal mixture model for the toy data set used earlier.\n",
      "\n",
      "For two components with shared fixed variance $\\sigma^2$, our model for univariate data $X = (x_1, \\dots, x_n)$ is\n",
      "$$ p(x_i | \\pi, \\mu, \\sigma^2) = \\pi \\mathcal{N}(x_i; \\mu_1, \\sigma^2) + (1-\\pi) \\mathcal{N}(x;\\; \\mu_2, \\sigma^2) $$\n",
      "with parameters $\\pi, \\mu_1, \\mu_2, \\sigma_1^2, \\sigma_2^2$. The parameters have conjugate prior distributions\n",
      "$$ p(\\pi) = \\mathrm{Beta}(\\pi;\\; \\alpha_\\pi, \\beta_\\pi) \\\\\n",
      "   p(\\mu_k) = \\mathcal{N}(\\mu_k;\\; \\mu_0, \\sigma_0^2), \\quad k = 1,2\n",
      "$$\n",
      "and $p(X | \\pi, \\mu, \\sigma^2) = \\prod_{i=1}^n p(x_i | \\pi, \\mu, \\sigma^2)$\n",
      "\n",
      "The full distribution is intractable but we can derive a Gibbs sampler by augmenting the model with latent variables $z_i$ that indicate which component (1 or 2) was *responsible* for generating $x_i$.\n",
      "\n",
      "If we use $z_i = 1$ to denote the event that the first component was responsible for generating $x_i$ and $z_i = 2$ to denote the event that the latter component was responsible, we can rewrite the model as\n",
      "$$ p(x_i | z_i, \\mu, \\sigma^2) = \\mathcal{N}(x_i; \\mu_1, \\sigma^2)^{2-z_i} \\mathcal{N}(x;\\; \\mu_2, \\sigma^2)^{z_i-1} $$\n",
      "with\n",
      "$$ p(z_i = 1) = \\pi. $$\n",
      "\n",
      "Given $z_i$, the conditional posteriors of $\\mu_k$ can be evaluated in a similar manner as in Problem 5 from Week 4 as\n",
      "$$ p(\\mu_k | Z, X, \\sigma_k^2) = \\mathcal{N}(\\mu_k;\\; m_k, v_k) $$\n",
      "where\n",
      "$$ v_k = \\left( \\frac{1}{\\sigma_0^2} + \\frac{n_k}{\\sigma^2} \\right)^{-1} \\\\\n",
      "   m_k = v_k \\left(\\frac{\\sum_{i: z_i=k} x_i}{\\sigma^2} + \\frac{\\mu_0}{\\sigma_0^2} \\right), $$\n",
      "where $n_k = \\sum_{i=1}^n \\mathbb{1}(z_i = k)$.\n",
      "\n",
      "**NOTE: Please do not apply the update rule given in Problem 5 for Week 4 in general as there was a mistake. Fortunately the mistake only affected the case $\\mu_0 \\neq 0$, so the results of Problem 5 of Week 4 were unaffected.**\n",
      "\n",
      "The conditional posterior for $\\pi$ follows from the conjugate beta model\n",
      "$$ p(\\pi | Z) = \\mathrm{Beta}(\\alpha_\\pi + n_1, \\beta_\\pi + n_2). $$\n",
      "\n",
      "Finally, the conditional posterior for $z_i$ is\n",
      "$$ p(z_i = k | x_i, \\pi, \\mu, \\sigma^2) \\propto \\pi_k \\mathcal{N}(x_i;\\; \\mu_k, \\sigma^2), $$\n",
      "where we have used the simplifying notation $\\pi_1 = \\pi, \\pi_2 = 1-\\pi$.\n",
      "\n",
      "Using these update rules and $\\alpha_\\pi = \\beta_\\pi = 1$, $\\mu_0 = 4, \\sigma_0^2 = 100$ and $\\sigma^2 = 1$, implement and run the Gibbs sampler for the data set loaded below.\n",
      "\n",
      "Report the posterior means and standard deviations of $\\pi, \\mu_1, \\mu_2$ in Moodle. In order to fix the order of the components, $\\mu_1 < \\mu_2$. (If your results are in a different order, please swap $\\mu_1$ and $\\mu_2$, and replace $\\pi$ with $1-\\pi$.)\n",
      "\n",
      "The required tolerance is $\\pm 0.1$ for the means and $\\pm 0.01$ for the standard deviations.\n",
      "\n",
      "Hint: To initialise your sampler, you can set $\\mu,  \\pi$ to some reasonable values and use the update to sample $z_i$. In terms of structuring your code, it may be useful to write separate functions for sampling each of $z, \\pi, \\mu$."
     ]
    },
    {
     "cell_type": "code",
     "collapsed": false,
     "input": [
      "%matplotlib inline\n",
      "import numpy as np\n",
      "import numpy.random as npr\n",
      "import pandas as pd\n",
      "import scipy.special as scs\n",
      "import matplotlib.pyplot as plt\n",
      "import scipy.stats as ss\n",
      "import datetime\n",
      "\n",
      "data = pd.read_csv('http://www.helsinki.fi/~ahonkela/teaching/compstats1/toydata.txt', sep='\\t', header=None)\n",
      "data = data.values\n",
      "data = np.array(data[:,0])\n",
      "\n",
      "Z = []\n",
      "\n",
      "def draw_z(x,pi1,mu1,mu2,sigma):\n",
      "    c1 = pi1*(1/(np.sqrt(2*3.14)*sigma))*np.exp(-(x-mu1)**2/(2*sigma**2))\n",
      "    #c1 = pi1*ss.norm(mu1,sigma).pdf(x)\n",
      "    c2 = (1-pi1)*(1/(np.sqrt(2*3.14)*sigma))*np.exp(-(x-mu2)**2/(2*sigma**2))\n",
      "    #c2 = (1-pi1)*ss.norm(mu2,sigma).pdf(x)\n",
      "    c = 1/(c1+c2)\n",
      "    if npr.rand() < c1*c:\n",
      "        return 1\n",
      "    else:\n",
      "        return 2\n",
      "    \n",
      "def draw_Z(pi1,mu1,mu2,sigma):\n",
      "    del Z[:]\n",
      "    for i in data:\n",
      "        Z.append(draw_z(i,pi1,mu1,mu2,sigma))\n",
      "    return Z\n",
      "\n",
      "def draw_PI(alpha_pi,beta_pi,n1,n2):\n",
      "    return npr.beta(alpha_pi+n1,beta_pi+n2)\n",
      "\n",
      "def compute_n1_n2(Z):\n",
      "    n1 = 0\n",
      "    n2 = 0\n",
      "    n = []\n",
      "    for i in Z:\n",
      "        if i == 1:\n",
      "            n1 = n1 + 1\n",
      "        elif i == 2:\n",
      "            n2 = n2 + 1\n",
      "    n.append(n1)\n",
      "    n.append(n2)\n",
      "    return n\n",
      "\n",
      "def draw_mu(m,nu):\n",
      "    return npr.normal(m,nu)\n",
      "\n",
      "def compute_mk(k,nu,mu0,sigma,sigma0):\n",
      "    summation = 0\n",
      "    for i in range(0,len(Z)):\n",
      "        if Z[i] == k:\n",
      "            summation = summation + data[i]\n",
      "    m = nu*(summation/sigma**2 + mu0/sigma0**2)\n",
      "    return m\n",
      "\n",
      "\n",
      "def gibbs_sampling(chain_size,mu1,mu2,pi1,sigma,alpha_pi,beta_pi,mu0,sigma0):\n",
      "    pis_mus = []\n",
      "    for i in range(0,chain_size):\n",
      "        if i%1000 == 0:\n",
      "            print(datetime.datetime.now())\n",
      "            print(i)\n",
      "        Z = draw_Z(pi1,mu1,mu2,sigma)\n",
      "        n = compute_n1_n2(Z)\n",
      "        n1 = n[0]\n",
      "        n2 = n[1]\n",
      "        pi1 = draw_PI(alpha_pi,beta_pi,n1,n2)\n",
      "        #print(\"n1\")\n",
      "        #print(n1)\n",
      "        #print(\"n2\")\n",
      "        #print(n2)\n",
      "        #print(\"pi1\")\n",
      "        #print(pi1)\n",
      "        nu1 = 1/(1/sigma0**2 + n1/sigma**2)\n",
      "        m1 = compute_mk(1,nu1,mu0,sigma,sigma0)\n",
      "        mu1 = draw_mu(m1,np.sqrt(nu1))\n",
      "        #mu1 = draw_mu(m1,nu1)\n",
      "        nu2 = 1/(1/sigma0**2 + n2/sigma**2)\n",
      "        m2 = compute_mk(2,nu2,mu0,sigma,sigma0)\n",
      "        mu2 = draw_mu(m2,np.sqrt(nu2))\n",
      "        #mu2 = draw_mu(m2,nu2)\n",
      "        pis_mus.append(pi1)\n",
      "        pis_mus.append(mu1)\n",
      "        pis_mus.append(mu2)\n",
      "    return pis_mus\n",
      "    \n",
      "    \n",
      "mu1 = 0\n",
      "mu2 = 1\n",
      "pi1 = .5\n",
      "sigma = 1\n",
      "alpha_pi = 1\n",
      "beta_pi = 1\n",
      "mu0 = 4\n",
      "sigma0 = np.sqrt(100)\n",
      "Z = []\n",
      "\n",
      "\n",
      "chain_size = 10000\n",
      "pis_mus = gibbs_sampling(chain_size,mu1,mu2,pi1,sigma,alpha_pi,beta_pi,mu0,sigma0)\n",
      "\n",
      "pis = []\n",
      "mu1s = []\n",
      "mu2s = []\n",
      "length = len(pis_mus)\n",
      "for i in range(0,length):\n",
      "    if i%3 == 0:\n",
      "        pis.append(pis_mus[i])\n",
      "    elif i%3 == 1:\n",
      "        mu1s.append(pis_mus[i])\n",
      "    elif i%3 == 2:\n",
      "        mu2s.append(pis_mus[i])\n",
      "        \n",
      "print(\"Mean of posterior pi:\")\n",
      "print(np.mean(pis))\n",
      "print(\"standard deviation of posterior pi\")\n",
      "print(np.std(pis))\n",
      "print(\"Mean of posterior mu1:\")\n",
      "print(np.mean(mu1s))\n",
      "print(\"standard deviation of posterior mu1\")\n",
      "print(np.std(mu1s))\n",
      "print(\"Mean of posterior mu2:\")\n",
      "print(np.mean(mu2s))\n",
      "print(\"standard deviation of posterior mu2\")\n",
      "print(np.std(mu2s))"
     ],
     "language": "python",
     "metadata": {},
     "outputs": [
      {
       "output_type": "stream",
       "stream": "stdout",
       "text": [
        "2017-10-10 21:07:08.884139\n",
        "0\n",
        "2017-10-10 21:07:09.885624"
       ]
      },
      {
       "output_type": "stream",
       "stream": "stdout",
       "text": [
        "\n",
        "100\n",
        "2017-10-10 21:07:10.841568"
       ]
      },
      {
       "output_type": "stream",
       "stream": "stdout",
       "text": [
        "\n",
        "200\n",
        "2017-10-10 21:07:11.785601"
       ]
      },
      {
       "output_type": "stream",
       "stream": "stdout",
       "text": [
        "\n",
        "300\n",
        "2017-10-10 21:07:12.733676"
       ]
      },
      {
       "output_type": "stream",
       "stream": "stdout",
       "text": [
        "\n",
        "400\n",
        "2017-10-10 21:07:13.674149"
       ]
      },
      {
       "output_type": "stream",
       "stream": "stdout",
       "text": [
        "\n",
        "500\n",
        "2017-10-10 21:07:14.611950"
       ]
      },
      {
       "output_type": "stream",
       "stream": "stdout",
       "text": [
        "\n",
        "600\n",
        "2017-10-10 21:07:15.574122"
       ]
      },
      {
       "output_type": "stream",
       "stream": "stdout",
       "text": [
        "\n",
        "700\n",
        "2017-10-10 21:07:16.539585"
       ]
      },
      {
       "output_type": "stream",
       "stream": "stdout",
       "text": [
        "\n",
        "800\n",
        "2017-10-10 21:07:17.489346"
       ]
      },
      {
       "output_type": "stream",
       "stream": "stdout",
       "text": [
        "\n",
        "900\n",
        "Mean of posterior pi:"
       ]
      },
      {
       "output_type": "stream",
       "stream": "stdout",
       "text": [
        "\n",
        "0.673770950566\n",
        "standard deviation of posterior pi\n",
        "0.0694131151016\n",
        "Mean of posterior mu1:\n",
        "3.27237248548\n",
        "standard deviation of posterior mu1\n",
        "0.116963130543\n",
        "Mean of posterior mu2:\n",
        "5.46943442532\n",
        "standard deviation of posterior mu2\n",
        "0.196477533232\n"
       ]
      }
     ],
     "prompt_number": 23
    },
    {
     "cell_type": "markdown",
     "metadata": {
      "deletable": true,
      "editable": true
     },
     "source": [
      "## 4. Parallel tempering for sampling multimodal distributions\n",
      "\n",
      "In this exercise we will study a variant of the two-dimensional unnormalised target distribution from Lecture 8:\n",
      "$$ P^*(x; R) = \\sum_{i=1}^5 \\exp\\left( -\\frac{i}{2} (x-\\mu_i)^T (x - \\mu_i) \\right) $$\n",
      "with $\\mu_1 = (0, 0), \\mu_2 = (R, R), \\mu_3 = (R, -R), \\mu_4 = (-R, R), \\mu_5 = (-R, -R)$. Here $R$ denotes a parameter that specifies the spread of the modes of the distribution which we fix to $R=6$. (Please note the $i$ in $\\frac{i}{2}$ inside the $\\exp()$!)\n",
      "\n",
      "Your task is to write a sampler to sample from this distribution and evaluate the expectations $\\mathrm{E}[x_1]$ and $\\mathrm{E}[x_2]$.\n",
      "\n",
      "The distribution is strongly multimodal with quite separate modes so you will want to use parallel tempering to ensure your chains can just between the modes.\n",
      "\n",
      "1. Compute $\\log \\frac{P((4, 4); 6)}{P((1, 1); 6)}$ and report it in Moodle.\n",
      "2. Compute the expectations $\\mathrm{E}[x_1]$ and $\\mathrm{E}[x_2]$ and report their values in Moodle.\n",
      "\n",
      "The required tolerance for the expectations is $\\pm 0.3$.\n"
     ]
    },
    {
     "cell_type": "code",
     "collapsed": false,
     "input": [],
     "language": "python",
     "metadata": {},
     "outputs": []
    },
    {
     "cell_type": "markdown",
     "metadata": {
      "deletable": true,
      "editable": true
     },
     "source": [
      "## 5. Marginal likelihood computation using thermodynamic integration\n",
      "\n",
      "High-throughput genome sequencing produces data that can be summarised as counts of how often a specific sequence feature is observed among the massive number of short sequences produced by the instrument. The Poisson distribution is a natural first choice for these data, but it is in many cases insufficient for describing the variability of the data, and negative binomial distribution is often used as an alternative \"overdispersed Poisson\".\n",
      "\n",
      "In this exercise you will use thermodynamic integration to compute the marginal likelihoods of two models for a data set of counts: a Poisson and a negative binomial. For the Poisson distribution with a suitable prior, the marginal likelihood could be computed analytially, but for the negative binomial this is not possible.\n",
      "\n",
      "The models considered in the problem is as follows:\n",
      "$$ p_1(k_i | \\lambda) = \\mathrm{Poisson}(k_i;\\; \\lambda) = \\frac{\\lambda^{k_i} e^{-\\lambda}}{k_i!} \n",
      "    = \\frac{\\lambda^{k_i} e^{-\\lambda}}{\\Gamma(k_i+1)} \\\\\n",
      "   p_2(k_i | m, a) = \\mathrm{NegBin}(k_i;\\; m, a) = \\frac{\\Gamma(k_i + a^{-1})}{\\Gamma(a^{-1}) \\Gamma(k_i+1)}\n",
      "     \\left( \\frac{m}{m+a^{-1}} \\right)^{k_i} \\left( \\frac{1}{1+ma} \\right)^{a^{-1}}$$\n",
      "and\n",
      "$$ p_i(K | \\theta_i) = \\prod_{i=1}^n p_i(k_i | \\theta_i), $$\n",
      "where $\\theta_i$ denotes the hyperparameters of the corresponding model, i.e. $\\theta_1 = \\{\\lambda\\}, \\theta_2 = \\{m,a\\}$. All parameters $\\lambda, m, a$ are constrained to be positive.\n",
      "\n",
      "Under this parametrisation, the mean of $p_1$ is $\\lambda$ and the mean of $p_2$ is $m$, while the variance of $p_1$ is $\\lambda$ and the variance of $p_2$ is $m + am^2$.\n",
      "\n",
      "We use the following prior distributions:\n",
      "$$ p(\\lambda) = \\mathrm{Gamma}(\\lambda;\\; 1, 1/100) \\\\\n",
      "  p(m) = \\mathrm{Gamma}(m;\\; 1, 1/100) \\\\\n",
      "  p(a) = \\mathrm{Gamma}(a;\\; 2, 2),\n",
      "$$\n",
      "where the pdf of the $\\mathrm{Gamma}(\\alpha, \\beta)$ distribution is\n",
      "$$ \\mathrm{Gamma}(x;\\; \\alpha, \\beta) = \\frac{\\beta^\\alpha}{\\Gamma(\\alpha)} x^{\\alpha - 1} \\exp(-\\beta x), $$\n",
      "$p(\\theta_1) = p(\\lambda)$ and $p(\\theta_2) = p(m) p(a)$.\n",
      "\n",
      "Your task is to use thermodynamic integration to evaluate the log-marginal-likelihoods $\\log p(K | \\mathcal{M}_i)$ for the two models:\n",
      "$$ \\mathcal{M}_1: p_1(k_i | \\lambda) = \\mathrm{Poisson}(k_i;\\; \\lambda), p(\\lambda) = \\mathrm{Gamma}(\\lambda;\\; 1, 1/100) \\\\\n",
      "\\mathcal{M}_2: p_2(k_i | m, a) = \\mathrm{NegBin}(k_i;\\; m, a), p(m) = \\mathrm{Gamma}(m;\\; 1, 1/100), p(a) = \\mathrm{Gamma}(a;\\; 2, 2) $$\n",
      "and the data set $K$ of integers loaded below.\n",
      "\n",
      "1. Implement a Metropolis-Hastings sampler to sample the parameters $\\theta_i$ for the two models from the tempered unnormalised posterior distributions $p_\\beta^*(\\theta_i | K) = p(K | \\theta_i)^\\beta p(\\theta_i)$. Remember that the parameters need to be positive so you will need to use the $\\log$-transformation to transform them to an unbounded space. Remember to tune your proposal so that you get a not-too-extreme acceptance rate for all $\\beta$ you need.\n",
      "2. Compute the marginal likelihoods for the two models using thermodynamic integration. The range of $\\beta$ values used in Problem 1 of Lecture 10: `np.concatenate((np.array([0.0]), np.logspace(-5, 0, 20)))`, should be sufficient.\n",
      "3. Report $\\log p(K | \\mathcal{M}_1)$ and $\\log p(K | \\mathcal{M}_2)$ to Moodle.\n",
      "\n",
      "The required tolerance for the marginal likelihood values is $\\pm 1$.\n",
      "\n",
      "Hint: there are multiple alternative parametrisations for gamma and negative binomial distributions. Be careful to check that you are using the correct parametrisation if using external code instead of implementing these yourself!"
     ]
    },
    {
     "cell_type": "code",
     "collapsed": false,
     "input": [
      "%matplotlib inline\n",
      "import numpy as np\n",
      "import numpy.random as npr\n",
      "import scipy.special as scs\n",
      "import matplotlib.pyplot as plt\n",
      "\n",
      "data = pd.read_csv('http://www.helsinki.fi/~ahonkela/teaching/compstats1/countdata.txt', sep='\\t', header=None)\n",
      "data = data.values\n",
      "data = np.array(data[:,0])\n",
      "print(np.mean(data), np.var(data))\n"
     ],
     "language": "python",
     "metadata": {
      "deletable": true,
      "editable": true
     },
     "outputs": []
    },
    {
     "cell_type": "code",
     "collapsed": false,
     "input": [],
     "language": "python",
     "metadata": {},
     "outputs": []
    }
   ],
   "metadata": {}
  }
 ]
}