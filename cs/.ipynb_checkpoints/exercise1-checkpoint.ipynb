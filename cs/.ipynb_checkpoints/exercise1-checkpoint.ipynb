{
 "metadata": {
  "kernelspec": {
   "display_name": "Python 3",
   "language": "python",
   "name": "python3"
  },
  "language_info": {
   "codemirror_mode": {
    "name": "ipython",
    "version": 3
   },
   "file_extension": ".py",
   "mimetype": "text/x-python",
   "name": "python",
   "nbconvert_exporter": "python",
   "pygments_lexer": "ipython3",
   "version": "3.6.1"
  },
  "name": "",
  "signature": "sha256:d352f7aaf92e4459a62226f94e620764f30dec3fe7255992a64882cada6a3899"
 },
 "nbformat": 3,
 "nbformat_minor": 0,
 "worksheets": [
  {
   "cells": [
    {
     "cell_type": "heading",
     "level": 1,
     "metadata": {
      "deletable": true,
      "editable": true
     },
     "source": [
      "Week 1 exercises"
     ]
    },
    {
     "cell_type": "code",
     "collapsed": false,
     "input": [
      "%matplotlib inline\n",
      "import numpy as np\n",
      "import numpy.random as npr\n",
      "import matplotlib.pyplot as plt"
     ],
     "language": "python",
     "metadata": {
      "deletable": true,
      "editable": true
     },
     "outputs": []
    },
    {
     "cell_type": "markdown",
     "metadata": {
      "deletable": true,
      "editable": true
     },
     "source": [
      "## 1. Input range for exp()\n",
      "\n",
      "Write a program to find the largest integer for which exp() over double precision floating point numbers (float64) returns a finite value."
     ]
    },
    {
     "cell_type": "code",
     "collapsed": false,
     "input": [
      "import math\n",
      "\n",
      "i=0\n",
      "while(True):\n",
      "    try:\n",
      "        math.exp(i)\n",
      "        i = i + 1\n",
      "    except OverflowError:\n",
      "        print(\"yayyy, i have caught it!!: \" + str(i-1))\n",
      "        break\n"
     ],
     "language": "python",
     "metadata": {
      "deletable": true,
      "editable": true
     },
     "outputs": [
      {
       "output_type": "stream",
       "stream": "stdout",
       "text": [
        "yayyy, i have caught it!!: 709\n"
       ]
      }
     ],
     "prompt_number": 6
    },
    {
     "cell_type": "markdown",
     "metadata": {
      "deletable": true,
      "editable": true
     },
     "source": [
      "## 2. Input range for the logistic function\n",
      "\n",
      "The logistic function $ \\phi(x) = \\frac{1}{1 + \\exp(-x)} $ is often used to map the real line to probabilities in the range [0, 1], for example in logistic regression. For reals, the equation $ \\phi(x) = 1 $ has no solution, but the same is not true for floating point numbers on a computer.\n",
      "\n",
      "Your task: write a program to determine the largest integer $ x $ for which $ \\phi(x) \\neq 1. $"
     ]
    },
    {
     "cell_type": "code",
     "collapsed": false,
     "input": [
      "import math\n",
      "\n",
      "i=0\n",
      "while(True):\n",
      "        if 1/(1+math.exp(-i)) == 1:\n",
      "            print(\"yayyy, i have caught it!!: \" + str(i-1))\n",
      "            break\n",
      "        i = i + 1\n"
     ],
     "language": "python",
     "metadata": {
      "deletable": true,
      "editable": true
     },
     "outputs": [
      {
       "output_type": "stream",
       "stream": "stdout",
       "text": [
        "yayyy, i have caught it!!: 36\n"
       ]
      }
     ],
     "prompt_number": 3
    },
    {
     "cell_type": "heading",
     "level": 2,
     "metadata": {
      "deletable": true,
      "editable": true
     },
     "source": [
      "3. Binomial probabilities"
     ]
    },
    {
     "cell_type": "markdown",
     "metadata": {},
     "source": [
      "Write a single computer program to compute:\n",
      "\n",
      "i. $ \\sum_{i=0}^{5} \\binom{10}{i} 0.25^i 0.75^{10-i} $\n",
      "\n",
      "ii. $ \\sum_{i=10}^{20} \\binom{20}{i} 0.25^i 0.75^{20-i} $\n",
      "\n",
      "iii. $ \\sum_{i=40}^{60} \\binom{100}{i} 0.25^i 0.75^{100-i} $\n",
      "\n",
      "iv. $ \\sum_{i=75}^{100} \\binom{100}{i} 0.25^i 0.75^{100-i} $\n",
      "\n"
     ]
    },
    {
     "cell_type": "code",
     "collapsed": true,
     "input": [
      "import math\n",
      "\n",
      "#the binom function has been copy/pasted from stackoverflow\n",
      "def binom(x,y):\n",
      "    if y == x:\n",
      "        return 1;\n",
      "    elif y == 1:         \n",
      "        return x;\n",
      "    elif y > x:          # will be executed only if y != 1 and y != x\n",
      "        return 0;\n",
      "    else:                # will be executed only if y != 1 and y != x and x <= y\n",
      "        a = math.factorial(x)\n",
      "        b = math.factorial(y)\n",
      "        c = math.factorial(x-y)  # that appears to be useful to get the correct result\n",
      "        div = a // (b * c)\n",
      "        return div;  \n",
      "\n",
      "N = int(input(\"Enter a value for N (total number of trials): \"))\n",
      "n1 = int(input(\"Enter a value for n1 (smallest number of successes): \"))\n",
      "n2 = int(input(\"Enter a value for n2 (largest number of successes): \"))\n",
      "result = 0\n",
      "for i in range(n1,n2+1):\n",
      "    result = result + binom(N,i)*((0.25)**i)*((0.75)**(N-i))\n",
      "    \n",
      "    #print(str(binom(N,i)))\n",
      "                                   \n",
      "print(\"result is: \" + str(result))                      "
     ],
     "language": "python",
     "metadata": {
      "deletable": true,
      "editable": true
     },
     "outputs": [
      {
       "name": "stdout",
       "output_type": "stream",
       "stream": "stdout",
       "text": [
        "Enter a value for N (total number of trials): 100\n"
       ]
      },
      {
       "name": "stdout",
       "output_type": "stream",
       "stream": "stdout",
       "text": [
        "Enter a value for n1 (smallest number of successes): 75\n"
       ]
      },
      {
       "name": "stdout",
       "output_type": "stream",
       "stream": "stdout",
       "text": [
        "Enter a value for n2 (largest number of successes): 100\n"
       ]
      },
      {
       "output_type": "stream",
       "stream": "stdout",
       "text": [
        "result is: 1.4350852738017972e-25\n"
       ]
      }
     ],
     "prompt_number": 10
    },
    {
     "cell_type": "heading",
     "level": 2,
     "metadata": {
      "deletable": true,
      "editable": true
     },
     "source": [
      "4. Rejection sampling of beta(2, 2)"
     ]
    },
    {
     "cell_type": "markdown",
     "metadata": {},
     "source": [
      "Write a programme to draw samples from the Beta(2, 2) distribution\n",
      "$ p(x) = 6 x (1-x), \\quad 0 \\le x \\le 1 $  \n",
      "using the uniform distribution on the interval (0, 1) as the proposal distribution.\n",
      "\n",
      "Plot a normed histogram of your samples together with the density to check that they match.\n",
      "\n",
      "Draw at least 10000 samples from the distribution and report your estimate of $ \\mathrm{E}[x^5] $ for $ x \\sim \\mathrm{Beta}(2, 2)$.\n",
      "\n",
      "NB: Please report the actual value you obtain to Moodle, not your guess of the true value. Values within the expected Monte Carlo error will be accepted as correct."
     ]
    },
    {
     "cell_type": "code",
     "collapsed": true,
     "input": [
      "import numpy as np\n",
      "import numpy.random as npr\n",
      "import matplotlib.pyplot as plt\n",
      "\n",
      "\n",
      "a = []\n",
      "sum = 0\n",
      "\n",
      "for i in range(1,10**6):\n",
      "    x = np.random.uniform(0,1)\n",
      "    u = np.random.uniform(0,1)\n",
      "    if u < (6*x*(1-x))/(1.6):\n",
      "        a.append(x)\n",
      "        \n",
      "for i in range(0,10**4):\n",
      "    sum = sum + a[i]**5\n",
      "    \n",
      "print(\"The estimate of E[x^5] is:\" + str(sum/(10**4)))\n",
      "            \n",
      "bins = np.linspace(0, 1, 25)\n",
      "plt.hist(a,bins,normed = True)\n",
      "\n",
      "t1 = np.arange(0.0, 1.0, 0.01)\n",
      "plt.plot(t1,6*t1*(1-t1))\n",
      "\n",
      "plt.show()"
     ],
     "language": "python",
     "metadata": {
      "deletable": true,
      "editable": true
     },
     "outputs": [
      {
       "output_type": "stream",
       "stream": "stdout",
       "text": [
        "The estimate of E[x^5] is:0.11001291217022062\n"
       ]
      }
     ],
     "prompt_number": 1
    },
    {
     "cell_type": "heading",
     "level": 2,
     "metadata": {
      "deletable": true,
      "editable": true
     },
     "source": [
      "5. Rejection sampling of a Gaussian with Laplace"
     ]
    },
    {
     "cell_type": "markdown",
     "metadata": {},
     "source": [
      "Consider the standard Laplace(0, 1) distribution defined by\n",
      "$ q(x) = 1/2 \\exp(- | x | ) $, and the standard normal distribution defined by\n",
      "$ p(x) = \\frac{1}{\\sqrt{2 \\pi}} \\exp( - \\frac{1}{2} x^2 )$.\n",
      "\n",
      "1. Write a program to draw samples from the Laplace(0, 1) distribution. (Hint: transformation considered on Thursday lecture.) Test your program by comparing the normed histogram of the samples with the density.\n",
      "2. Design a method to draw samples from the standard normal using the standard Laplace distribution as the proposal. (Hint: you need to find a constant $M$ such that $p(x) \\le M q(x)$ for all $x$. Plotting the function $p(x)/q(x)$ is a good way to start looking for one.)\n",
      "3. Use 10000 samples to compute the expectation $ E[x^4] $ for $ x $ following the standard normal distribution.\n",
      "4. Assuming the underlying uniform random generator uses full 53 bits of precision of float64, what is the largest value the rejection sampling method could in theory generate? Compare this with the value for Box-Muller transform computed on Thursday."
     ]
    },
    {
     "cell_type": "code",
     "collapsed": false,
     "input": [
      "import math\n",
      "import numpy as np\n",
      "import numpy.random as npr\n",
      "import matplotlib.pyplot as plt\n",
      "import sys\n",
      "\n",
      "\n",
      "a = []\n",
      "sum = 0\n",
      "\n",
      "for i in range(0,10**5):\n",
      "    y = np.random.uniform(0,1)\n",
      "    if y < .5:\n",
      "        x = np.log(2*y) # 2*y is the inverse of the cdf of laplace\n",
      "    else:\n",
      "        x = -1*np.log(2*(1-y)) # 2*y is the inverse of the cdf of laplace\n",
      "        \n",
      "    a.append(x) # x is accepted as a sample of laplace distribution according to the corollary in the lecture\n",
      "    \n",
      "bins = np.linspace(-10, 10, 50)\n",
      "plt.hist(a,bins,normed = True)\n",
      "\n",
      "t1 = np.arange(-10, 10, 1)\n",
      "plt.plot(t1,.5*np.exp(1)**(-abs(t1)))\n",
      "\n",
      "plt.show()\n",
      "\n",
      "#method to draw standard normal distribution\n",
      "del a[:]\n",
      "\n",
      "for i in range(0,10**5):\n",
      "    y = np.random.uniform(0,1)\n",
      "    if y < .5:\n",
      "        x = np.log(2*y) # 2*y is the inverse of the cdf of laplace\n",
      "    else:\n",
      "        x = -1*np.log(2*(1-y)) # 2*y is the inverse of the cdf of laplace\n",
      "    \n",
      "    # x is accepted as a sample of laplace distribution according to the corollary in the lecture\n",
      "    \n",
      "    u = np.random.uniform(0,1)\n",
      "    if u < ((1/(math.sqrt(2*3.14))*np.exp(-.5*x*x)))/(1.5*.5*np.exp(-abs(x))):\n",
      "        a.append(x)\n",
      "\n",
      "sum = 0\n",
      "        \n",
      "for i in range(0,10**4):\n",
      "    sum = sum + a[i]**4\n",
      "    \n",
      "print(\"The estimate of E[x^4] is:\" + str(sum/(10**4)))\n",
      "\n",
      "bins = np.linspace(-10, 10, 50)\n",
      "plt.hist(a,bins,normed = True)\n",
      "\n",
      "t1 = np.arange(-10, 10, .001)\n",
      "plt.plot(t1,1/(math.sqrt(2*3.14))*np.exp(-.5*t1*t1))\n",
      "\n",
      "plt.show()\n",
      "\n"
     ],
     "language": "python",
     "metadata": {},
     "outputs": [
      {
       "output_type": "stream",
       "stream": "stdout",
       "text": [
        "The estimate of E[x^4] is:3.13636678688\n"
       ]
      }
     ],
     "prompt_number": 1
    },
    {
     "cell_type": "code",
     "collapsed": false,
     "input": [],
     "language": "python",
     "metadata": {},
     "outputs": [],
     "prompt_number": 2
    },
    {
     "cell_type": "code",
     "collapsed": false,
     "input": [],
     "language": "python",
     "metadata": {},
     "outputs": []
    }
   ],
   "metadata": {}
  }
 ]
}