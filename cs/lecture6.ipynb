{
 "metadata": {
  "celltoolbar": "Slideshow",
  "name": "",
  "signature": "sha256:9660db15cd13dcc703ce3bd4f9ce21fa13d235d558a31ff1c59dd19334751f43"
 },
 "nbformat": 3,
 "nbformat_minor": 0,
 "worksheets": [
  {
   "cells": [
    {
     "cell_type": "markdown",
     "metadata": {
      "slideshow": {
       "slide_type": "slide"
      }
     },
     "source": [
      "Computational statistics I  \n",
      "Autumn 2017: Lecture 6\n",
      "\n",
      "# Density estimation and cross validation\n",
      "\n",
      "Antti Honkela  \n",
      "21 September 2017"
     ]
    },
    {
     "cell_type": "markdown",
     "metadata": {
      "slideshow": {
       "slide_type": "slide"
      }
     },
     "source": [
      "# More about permutation testing\n",
      "\n",
      "To clarify a few things from yesterday\n",
      "\n",
      "* Let us consider a different way of approaching the $p$-value: let $B$ be the number of times out of $m$ that our permutation yielded a more extreme result than the reality.\n",
      "* Formulate the $p$-value as a tail probability over $B$ which can be computed as\n",
      "$$ p = P(B \\le b) = \\frac{b+1}{m+1} $$\n",
      "\n",
      "More details:  \n",
      "Phipson, B., and Smyth, G. K. (2010). Permutation p-values should never be zero: calculating exact p-values when permutations are randomly drawn.\n",
      "Stat. Appl. Genet. Molec. Biol. Volume 9, Issue 1, Article 39"
     ]
    },
    {
     "cell_type": "markdown",
     "metadata": {
      "slideshow": {
       "slide_type": "slide"
      }
     },
     "source": [
      "# Density estimation\n",
      "\n",
      "* A finite sample of points can only ever cover a discrete set of points\n",
      "* How to obtain a smooth density from a sample of points?"
     ]
    },
    {
     "cell_type": "markdown",
     "metadata": {
      "slideshow": {
       "slide_type": "slide"
      }
     },
     "source": [
      "# Kernel density estimation\n",
      "\n",
      "* Basic idea: place a small bump called a kernel $K_h(x)$ around every observation to obtain a smooth density\n",
      "\n",
      "Formally: Given a sample $X = (x_1, x_2, \\dots, x_n)$ and a kernel $K_h(x)$ that satisfies\n",
      "$$ \\int_{-\\infty}^{\\infty} K_h(x) \\mathrm{d}x = 1, $$\n",
      "the density can then be estimated as\n",
      "$$ f_h(x) = \\frac{1}{n} \\sum_{i=1}^n K_h(x - x_i). $$\n",
      "\n",
      "* Challenge: how to decide the level of smoothness, i.e. the width $h$ of the kernel"
     ]
    },
    {
     "cell_type": "markdown",
     "metadata": {
      "slideshow": {
       "slide_type": "slide"
      }
     },
     "source": [
      "# Cross validation (CV)\n",
      "\n",
      "* A general computational approach for tuning model parameters\n",
      "  1. Partition the data to a training set ($n-m$ samples) and a test set ($m$ samples)\n",
      "  2. Fit the model (estimate density) using the training set\n",
      "  3. Test the fitted model using the test set\n",
      "  4. Repeat $t$ times\n",
      "* Example realisations\n",
      "  * Leave-one-out (LOO) CV: $m=1$, $t=n$ testing on every sample once\n",
      "  * $k$-fold CV: fixed partition to $k$ equal subsets, $m=n/k$, $t=n/k$ testing on every subset once\n",
      "  * Monte Carlo CV"
     ]
    },
    {
     "cell_type": "markdown",
     "metadata": {
      "slideshow": {
       "slide_type": "slide"
      }
     },
     "source": [
      "# Cross validation for kernel bandwidth selection\n",
      "\n",
      "LOO-CV formally: let's denote by $f_{\\setminus i,h}(x)$ the probability density fitted to $X \\setminus |{ x_i |}$.\n",
      "\n",
      "The LOO objective is\n",
      "$$ LOO(h) = \\sum_{i=1}^n \\log f_{\\setminus i, h}(x_i), $$\n",
      "i.e. we evaluate the sum of log-probabilities of the test points."
     ]
    }
   ],
   "metadata": {}
  }
 ]
}