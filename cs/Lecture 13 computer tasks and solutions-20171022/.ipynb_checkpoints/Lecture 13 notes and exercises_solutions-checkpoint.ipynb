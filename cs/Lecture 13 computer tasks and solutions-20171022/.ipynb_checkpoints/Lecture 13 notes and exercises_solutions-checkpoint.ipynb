{
 "metadata": {
  "kernelspec": {
   "display_name": "Python 3",
   "language": "python",
   "name": "python3"
  },
  "language_info": {
   "codemirror_mode": {
    "name": "ipython",
    "version": 3
   },
   "file_extension": ".py",
   "mimetype": "text/x-python",
   "name": "python",
   "nbconvert_exporter": "python",
   "pygments_lexer": "ipython3",
   "version": "3.6.1"
  },
  "name": "",
  "signature": "sha256:6b04fd5401b5f1f45e1575dc9edec81fab6d5e48207c214cdf9519830a894f03"
 },
 "nbformat": 3,
 "nbformat_minor": 0,
 "worksheets": [
  {
   "cells": [
    {
     "cell_type": "markdown",
     "metadata": {
      "deletable": true,
      "editable": true
     },
     "source": [
      "University of Helsinki, Department of Mathematics and Statistics  \n",
      "MAST32001 Computational Statistics I, Autumn 2017  \n",
      "Antti Honkela  \n",
      "\n",
      "# Lecture 13: Approximate Bayesian Computation (ABC)\n",
      "\n",
      "The sampling methods like MCMC considered before are asymptotically consistent: they will eventually converge to the correct solution. This is a nice property to have, but it can also be quite restrictive from the algorithm design perspective. This week we will consider two methods, approximate Bayesian computation (ABC) and variational inferece (VI) which take a different approach: their answers may not be asymptotically consistent, but they can often provide answers significantly faster than MCMC and related methods.\n",
      "\n",
      "## ABC\n",
      "\n",
      "Let us consider a model $p(X, \\theta) = p(X | \\theta) p(\\theta)$ for some data $x$ that depends on some parameter $\\theta$.\n",
      "\n",
      "The basic idea of ABC is very simple: we sample $\\theta^* \\sim p(\\theta)$ from the prior $p(\\theta)$ and simulate a new observed data set $X$ conditional to $\\theta^*$: $X^* \\sim p(X | \\theta)$.\n",
      "\n",
      "### Exact rejection ABC\n",
      "\n",
      "In exact rejection ABC a sample $\\theta^*$ is accepted if $X^* = X$. In this case it is easy to see that the accepted samples follow the posterior distribution $p(\\theta | X)$.\n",
      "\n",
      "Exact rejection ABC is only applicable to very simple problems, because usually the probability of simulating an exact replica of the data set is negligible.\n",
      "\n",
      "### Summary statistics ABC\n",
      "\n",
      "ABC can be made more efficient by requiring that only some summary statistics $S(X)$ should match between the generated and the observed data sets. These could be e.g. means and variances of the data. In case the selected statistics are *sufficient*, such as mean and variance for the normal distribution, the sampler will still be exact.\n",
      "\n",
      "Summary statistics allow for a simple relaxation that makes the sampler approximate: we can accept proposals with $ \\| S(X) - S(X^*) \\| < \\epsilon$ for some $\\epsilon > 0$. This can make sampling significantly more efficient, especially in the case of continuous $X$ and $S(X)$, at the cost of sampling from an approximation of the posterior. It can, however, be shown that under certain assumptions, this approximate sampling corresponds to exact sampling from a related model (see Wilkinson, 2013, linked below for more details).\n",
      "\n",
      "### Further developments\n",
      "\n",
      "Even after allowing for some slack in the match of the summary statistics, independent sampling from the prior may be too inefficient. Methods coupling ABC with some form of MCMC can help.\n",
      "\n",
      "### Examples of ABC applications\n",
      "\n",
      "* Models that are easy to simulate but have computationally demanding likelihoods (e.g. phylogenetic trees for species)\n",
      "* Models based on simulators of physical/chemical systems (e.g. climate simulators)\n",
      "\n",
      "## Further reading:\n",
      "\n",
      "Mikael Sunn\u00e5ker et al.: Approximate Bayesian Computation. PLoS Computational Biology 2013.  \n",
      "https://doi.org/10.1371/journal.pcbi.1002803\n",
      "\n",
      "Richard Wilkinson and Simon Tavar\u00e9: Approximate Bayesian Computation: a simulation based approach to inference.  \n",
      "http://www0.cs.ucl.ac.uk/staff/C.Archambeau/AIS/Talks/rwilkinson_ais08.pdf\n",
      "\n",
      "Richard Wilkinson: Approximate Bayesian computation (ABC) gives exact results under the assumption of model error. Stat. App. Gen. Mol. Bio. 12 (2013) 129-141  \n",
      "https://arxiv.org/abs/0811.3355"
     ]
    },
    {
     "cell_type": "markdown",
     "metadata": {
      "deletable": true,
      "editable": true
     },
     "source": [
      "## 1. Exact rejection ABC\n",
      "\n",
      "Implement an exact rejection ABC sampler to sample from the posterior distribution of the probability $p$ of obtaining heads in a coin flip when observing $r$ heads in $n$ throws:\n",
      "$$ p \\sim \\mathrm{Uniform}(0, 1), \\quad r \\sim \\mathrm{Binom}(n, p). $$\n",
      "\n",
      "1. Simulate 1000 samples from the posterior when $n = 20, r = 10$.\n",
      "2. Simulate 1000 samples from the posterior when $n = 40, r = 25$ and estimate the probability $p < 0.5$.\n",
      "3. Simulate 1000 samples from the posterior when $n = 80, r = 50$ and estimate the probability $p < 0.5$.\n",
      "\n",
      "How does the efficiency of the sampler depend on $n$? What proportion of the samples are accepted?\n",
      "\n",
      "Hint: you can use IPython/Jupyter \"magic\" %time before a command to check its runtime."
     ]
    },
    {
     "cell_type": "code",
     "collapsed": false,
     "input": [
      "%matplotlib inline\n",
      "import numpy as np\n",
      "import numpy.random as npr\n",
      "import matplotlib.pyplot as plt\n",
      "\n",
      "def abc_coinflip(N, n, r):\n",
      "    samples = np.zeros(N)\n",
      "    nsamples = 0\n",
      "    while nsamples < N:\n",
      "        p = npr.uniform()\n",
      "        if npr.binomial(n, p) == r:\n",
      "            samples[nsamples] = p\n",
      "            nsamples += 1\n",
      "    return samples\n",
      "\n",
      "x = abc_coinflip(1000, 20, 10)\n",
      "h = plt.hist(x, 30)"
     ],
     "language": "python",
     "metadata": {},
     "outputs": [
      {
       "metadata": {},
       "output_type": "display_data",
       "png": "[encoded data removed]",
       "text": [
        "<matplotlib.figure.Figure at 0x7fc0d56cef60>"
       ]
      }
     ],
     "prompt_number": 1
    },
    {
     "cell_type": "code",
     "collapsed": false,
     "input": [
      "x = abc_coinflip(1000, 40, 25)\n",
      "h = plt.hist(x, 30)\n",
      "print(np.mean(x < 0.5))"
     ],
     "language": "python",
     "metadata": {},
     "outputs": [
      {
       "output_type": "stream",
       "stream": "stdout",
       "text": [
        "0.048\n"
       ]
      },
      {
       "metadata": {},
       "output_type": "display_data",
       "png": "[encoded data removed]",
       "text": [
        "<matplotlib.figure.Figure at 0x7fc0b08be748>"
       ]
      }
     ],
     "prompt_number": 2
    },
    {
     "cell_type": "code",
     "collapsed": false,
     "input": [
      "x = abc_coinflip(1000, 80, 50)\n",
      "h = plt.hist(x, 30)\n",
      "print(np.mean(x < 0.5))"
     ],
     "language": "python",
     "metadata": {},
     "outputs": [
      {
       "output_type": "stream",
       "stream": "stdout",
       "text": [
        "0.01\n"
       ]
      },
      {
       "metadata": {},
       "output_type": "display_data",
       "png": "[encoded data removed]",
       "text": [
        "<matplotlib.figure.Figure at 0x7fc0b08be9e8>"
       ]
      }
     ],
     "prompt_number": 3
    },
    {
     "cell_type": "markdown",
     "metadata": {},
     "source": [
      "## 2. ABC for a discrete switching time series\n",
      "\n",
      "In this task we will consider a Markov model with two states 0 and 1. The model follows\n",
      "$$ p(x_{t+1} | x_t) = \\begin{cases} 1-\\pi, \\quad \\text{if } x_{t+1} = x_t \\\\ \\pi, \\quad \\text{if } x_{t+1} \\neq x_t  \\end{cases} $$\n",
      "i.e. the state will flip with probability $\\pi$. We will assume the chain starts in state $x_0 = 0$.\n",
      "\n",
      "We set a uniform prior $p(\\pi) = \\mathrm{Uniform}(\\pi;\\; 0, 1)$\n",
      "\n",
      "Our task is to infer the posterior distribution over $\\pi$ given an observed sequence generated by the model.\n",
      "\n",
      "1. Implement an exact ABC sampler that generates full sequences and accepts if the full sequences match. Test your sampler by generating at least 100 samples from the posterior distribution given a single observed sequence '0011001100'.\n",
      "2. Implement an ABC sampler that uses the number of state flips $S(X) = \\#\\{i | x_i \\neq x_{i+1}\\}$ as the sufficient statistic. Are the two samplers sampling from the same distribution? How long sequences can each of them handle?\n",
      "3. Extend your sampler from subtask 2 by allowing acceptance when $| S(X) - S(X^*) | \\le \\epsilon$. Test this sampler and the one from subtask 2 for a sequence of length 200 that always flips state after 2 symbols, i.e. '00110011...0011'. Check how the accuracy of the posterior mean and standard deviation, and the computing time depend on $\\epsilon$."
     ]
    },
    {
     "cell_type": "code",
     "collapsed": false,
     "input": [
      "\n",
      "def abc_switching_exact(N, seq):\n",
      "    samples = np.zeros(N)\n",
      "    nsamples = 0\n",
      "    n = len(seq)\n",
      "    while nsamples < N:\n",
      "        p = npr.uniform()\n",
      "        i = 1\n",
      "        accept = True\n",
      "        while i < n and accept:\n",
      "            if seq[i] == seq[i-1]:\n",
      "                if npr.uniform() < p:\n",
      "                    accept = False\n",
      "            else:\n",
      "                if npr.uniform() > p:\n",
      "                    accept = False\n",
      "            i += 1\n",
      "        if accept:\n",
      "            samples[nsamples] = p\n",
      "            nsamples += 1\n",
      "    return samples\n",
      "\n",
      "#x = abc_switching_exact(10000, '01010101010101010101')\n",
      "#h = plt.hist(x, 30)\n",
      "%time x = abc_switching_exact(10000, '0011001100')\n",
      "h = plt.hist(x, 30)\n",
      "print(np.mean(x), np.std(x))"
     ],
     "language": "python",
     "metadata": {},
     "outputs": [
      {
       "output_type": "stream",
       "stream": "stdout",
       "text": [
        "CPU times: user 22.8 s, sys: 92 ms, total: 22.8 s\n",
        "Wall time: 22.7 s\n",
        "0.457868625801 0.143836191273\n"
       ]
      },
      {
       "metadata": {},
       "output_type": "display_data",
       "png": "[encoded data removed]",
       "text": [
        "<matplotlib.figure.Figure at 0x7fc0b09792e8>"
       ]
      }
     ],
     "prompt_number": 4
    },
    {
     "cell_type": "code",
     "collapsed": false,
     "input": [
      "def abc_switching_summary(N, n, switches):\n",
      "    samples = np.zeros(N)\n",
      "    nsamples = 0\n",
      "    while nsamples < N:\n",
      "        p = npr.uniform()\n",
      "        if npr.binomial(n, p) == switches:\n",
      "            samples[nsamples] = p\n",
      "            nsamples += 1\n",
      "    return samples\n",
      "\n",
      "%time y = abc_switching_summary(10000, 9, 4)\n",
      "h = plt.hist(y, 30)\n",
      "print(np.mean(y), np.std(y))"
     ],
     "language": "python",
     "metadata": {},
     "outputs": [
      {
       "output_type": "stream",
       "stream": "stdout",
       "text": [
        "CPU times: user 212 ms, sys: 96 ms, total: 308 ms\n",
        "Wall time: 200 ms\n",
        "0.45555909358 0.145393168725\n"
       ]
      },
      {
       "metadata": {},
       "output_type": "display_data",
       "png": "[encoded data removed]",
       "text": [
        "<matplotlib.figure.Figure at 0x7fc0b06a19b0>"
       ]
      }
     ],
     "prompt_number": 5
    },
    {
     "cell_type": "code",
     "collapsed": false,
     "input": [
      "%time y = abc_switching_summary(10000, 199, 99)\n",
      "h = plt.hist(y, 30)\n",
      "print(np.mean(y), np.std(y))"
     ],
     "language": "python",
     "metadata": {},
     "outputs": [
      {
       "output_type": "stream",
       "stream": "stdout",
       "text": [
        "CPU times: user 3.83 s, sys: 96 ms, total: 3.92 s\n",
        "Wall time: 3.82 s\n",
        "0.497484533776 0.0348497990132\n"
       ]
      },
      {
       "metadata": {},
       "output_type": "display_data",
       "png": "[encoded data removed]",
       "text": [
        "<matplotlib.figure.Figure at 0x7fc0b0709da0>"
       ]
      }
     ],
     "prompt_number": 6
    },
    {
     "cell_type": "code",
     "collapsed": false,
     "input": [
      "def abc_switching_summary_approx(N, n, switches, epsilon):\n",
      "    samples = np.zeros(N)\n",
      "    nsamples = 0\n",
      "    while nsamples < N:\n",
      "        p = npr.uniform()\n",
      "        if np.abs(npr.binomial(n, p) - switches) <= epsilon:\n",
      "            samples[nsamples] = p\n",
      "            nsamples += 1\n",
      "    return samples\n",
      "\n",
      "%time z = abc_switching_summary_approx(10000, 199, 99, 3)\n",
      "h = plt.hist(z, 30)\n",
      "print(np.mean(z), np.std(z))"
     ],
     "language": "python",
     "metadata": {},
     "outputs": [
      {
       "output_type": "stream",
       "stream": "stdout",
       "text": [
        "CPU times: user 768 ms, sys: 96 ms, total: 864 ms\n",
        "Wall time: 757 ms\n",
        "0.496423720954 0.0362780420664\n"
       ]
      },
      {
       "metadata": {},
       "output_type": "display_data",
       "png": "[encoded data removed]",
       "text": [
        "<matplotlib.figure.Figure at 0x7fc0b09c3f28>"
       ]
      }
     ],
     "prompt_number": 7
    },
    {
     "cell_type": "code",
     "collapsed": true,
     "input": [],
     "language": "python",
     "metadata": {},
     "outputs": [],
     "prompt_number": 7
    },
    {
     "cell_type": "markdown",
     "metadata": {},
     "source": [
      "## 3. Rejection ABC with continuous data\n",
      "\n",
      "Infer the posterior for $\\mu$ and $\\sigma^2$ for a normal model $x_i \\sim N(\\mu, \\sigma^2)$ over the toy data with priors\n",
      "$$ p(\\mu) = \\mathcal{N}(4, \\sqrt{10}^2), \\quad p(\\sigma^2) = \\mathrm{Gamma}(2, 2). $$\n",
      "\n",
      "We will use the mean and standard deviation of $x_i$ as the summary statistics $S(x)$ and accept samples if $\\| S(x^*) - S(x) \\|_2 < \\epsilon$.\n",
      "\n",
      "1. Generate 1000 samples from the prior, evaluate the errors in the summary statistics and plot their distribution.\n",
      "2. Compute the approximate posterior distributions using $\\epsilon = 3$ and $\\epsilon = 1$. Compare their means and standard deviations.\n",
      "3. (Optional) Implement a Metropolis-Hastings or a HMC sampler for the problem and check the accuracy the estimates obtained above.\n",
      "\n",
      "Note: the prior for $\\sigma^2$ is not conjugate as previously when considering this problem."
     ]
    },
    {
     "cell_type": "code",
     "collapsed": false,
     "input": [
      "import numpy as np\n",
      "import numpy.random as npr\n",
      "import pandas as pd\n",
      "\n",
      "def compute_summaries(x):\n",
      "    return np.array([np.mean(x), np.std(x)])\n",
      "\n",
      "data = pd.read_csv('http://www.helsinki.fi/~ahonkela/teaching/compstats1/toydata.txt', sep='\\t', header=None)\n",
      "data = data.values\n",
      "data = np.array(data[:,0])\n",
      "datasummaries = compute_summaries(data)\n",
      "\n",
      "mu0 = 4.0\n",
      "sigma0 = np.sqrt(10)\n",
      "alpha0 = 2.0\n",
      "beta0 = 2.0\n",
      "\n",
      "def normal_abc_errors(N, epsilon = np.inf, Ndata=len(data)):\n",
      "    samples = np.zeros((N, 2))\n",
      "    errors = np.zeros(N)\n",
      "    nsamples = 0\n",
      "    while nsamples < N:\n",
      "        m = npr.normal(mu0, sigma0)\n",
      "        v = npr.gamma(alpha0, 1/beta0)\n",
      "        mydata = npr.normal(m, np.sqrt(v), Ndata)\n",
      "        myerr = np.sqrt(np.sum((datasummaries - compute_summaries(mydata))**2))\n",
      "        if myerr <= epsilon:\n",
      "            samples[nsamples,0] = m\n",
      "            samples[nsamples,1] = v\n",
      "            errors[nsamples] = myerr\n",
      "            nsamples += 1\n",
      "    return samples, errors\n",
      "\n",
      "x, errs = normal_abc_errors(1000)\n",
      "h = plt.hist(errs, 30)"
     ],
     "language": "python",
     "metadata": {},
     "outputs": [
      {
       "metadata": {},
       "output_type": "display_data",
       "png": "[encoded data removed]",
       "text": [
        "<matplotlib.figure.Figure at 0x7fc0b097cc18>"
       ]
      }
     ],
     "prompt_number": 12
    },
    {
     "cell_type": "code",
     "collapsed": false,
     "input": [
      "x3, errs = normal_abc_errors(1000, 3.0)\n",
      "x = x3\n",
      "h = plt.hist(x[:,0], 30)\n",
      "plt.show()\n",
      "h = plt.hist(x[:,1], 30)"
     ],
     "language": "python",
     "metadata": {},
     "outputs": [
      {
       "metadata": {},
       "output_type": "display_data",
       "png": "[encoded data removed]",
       "text": [
        "<matplotlib.figure.Figure at 0x7fc0d41b5ba8>"
       ]
      },
      {
       "metadata": {},
       "output_type": "display_data",
       "png": "[encoded data removed]",
       "text": [
        "<matplotlib.figure.Figure at 0x7fc0d40f6550>"
       ]
      }
     ],
     "prompt_number": 13
    },
    {
     "cell_type": "code",
     "collapsed": false,
     "input": [
      "x1, errs = normal_abc_errors(1000, 1.0)\n",
      "x = x1\n",
      "h = plt.hist(x[:,0], 30)\n",
      "plt.show()\n",
      "h = plt.hist(x[:,1], 30)"
     ],
     "language": "python",
     "metadata": {},
     "outputs": [
      {
       "metadata": {},
       "output_type": "display_data",
       "png": "[encoded data removed]",
       "text": [
        "<matplotlib.figure.Figure at 0x7fc0ab265668>"
       ]
      },
      {
       "metadata": {},
       "output_type": "display_data",
       "png": "[encoded data removed]",
       "text": [
        "<matplotlib.figure.Figure at 0x7fc0ab202fd0>"
       ]
      }
     ],
     "prompt_number": 14
    },
    {
     "cell_type": "code",
     "collapsed": false,
     "input": [
      "x03, errs = normal_abc_errors(1000, 0.3)\n",
      "x = x03\n",
      "h = plt.hist(x[:,0], 30)\n",
      "plt.show()\n",
      "h = plt.hist(x[:,1], 30)"
     ],
     "language": "python",
     "metadata": {},
     "outputs": [
      {
       "metadata": {},
       "output_type": "display_data",
       "png": "[encoded data removed]",
       "text": [
        "<matplotlib.figure.Figure at 0x7fc0d4148a20>"
       ]
      },
      {
       "metadata": {},
       "output_type": "display_data",
       "png": "[encoded data removed]",
       "text": [
        "<matplotlib.figure.Figure at 0x7fc0d411ed30>"
       ]
      }
     ],
     "prompt_number": 15
    },
    {
     "cell_type": "code",
     "collapsed": true,
     "input": [],
     "language": "python",
     "metadata": {},
     "outputs": []
    }
   ],
   "metadata": {}
  }
 ]
}