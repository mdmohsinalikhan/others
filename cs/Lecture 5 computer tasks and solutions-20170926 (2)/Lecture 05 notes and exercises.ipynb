{
 "metadata": {
  "name": "",
  "signature": "sha256:92d3b63ae1856cc2cc562620ae848a202b319612ad1786a9ffbd820f6434f993"
 },
 "nbformat": 3,
 "nbformat_minor": 0,
 "worksheets": [
  {
   "cells": [
    {
     "cell_type": "markdown",
     "metadata": {},
     "source": [
      "University of Helsinki, Department of Mathematics and Statistics  \n",
      "MAST32001 Computational Statistics I, Autumn 2017  \n",
      "Antti Honkela  \n",
      "\n",
      "# Lecture 5: Resampling: permutation testing and bootstrap\n",
      "\n",
      "(Note: No autograd needed this time.)"
     ]
    },
    {
     "cell_type": "markdown",
     "metadata": {},
     "source": [
      "## Permutation testing\n",
      "\n",
      "One of the central methods of frequentist statistics, null-hypothesis significance testing (NHST), is based on computing the p-value of a hypothesis as the probability of how often observations as extreme as the ones observed would have been generated under the null hypotheis.\n",
      "\n",
      "Many procedures have been proposed for evaluating p-values under different assumptions. Permutation testing provides a very natural method for computing p-values directly through simulating from the null distribution.\n",
      "\n",
      "Further introductory reading:\n",
      "http://genomicsclass.github.io/book/pages/permutation_tests.html"
     ]
    },
    {
     "cell_type": "markdown",
     "metadata": {},
     "source": [
      "### 0. Playing with the example from lecture\n",
      "\n",
      "Experiment with the below example shown at the lecture. How large does the difference in the means need to be to yield a statistically significant result? How does this change when the number of samples is changed?"
     ]
    },
    {
     "cell_type": "code",
     "collapsed": false,
     "input": [
      "import numpy as np\n",
      "import numpy.random as npr\n",
      "\n",
      "npr.seed(42)\n",
      "\n",
      "# Generate two samples\n",
      "a = npr.normal(size=20)\n",
      "b = npr.normal(size=20) + 0.5\n",
      "\n",
      "# Concatenate to form a whole\n",
      "x = np.concatenate((a, b))\n",
      "print(np.mean(a), np.mean(b))\n",
      "truediff = np.abs(np.mean(a) - np.mean(b))\n",
      "\n",
      "meandiffs = np.zeros(1000)\n",
      "for i in range(1000):\n",
      "    z = npr.permutation(x)\n",
      "    meandiffs[i] = np.abs(np.mean(z[0:20]) - np.mean(z[20:]))\n",
      "\n",
      "print((np.sum(truediff <= meandiffs)+1)/(len(meandiffs)+1))"
     ],
     "language": "python",
     "metadata": {},
     "outputs": []
    },
    {
     "cell_type": "markdown",
     "metadata": {},
     "source": [
      "### 1. Simple permutation testing on real data\n",
      "\n",
      "1. Check the below code that uses a permutation test to check if the ages of male and female participants in the data set are statistically significantly different using the absolute difference of the means as the test statistic. How do you interpret the result?\n",
      "2. Try a similar test with other variables in the data set. How do you interpret the results?"
     ]
    },
    {
     "cell_type": "code",
     "collapsed": false,
     "input": [
      "import pandas as pd\n",
      "import numpy as np\n",
      "import numpy.random as npr\n",
      "\n",
      "# load the data from CSV file using pandas\n",
      "fram = pd.read_csv('http://www.helsinki.fi/~ahonkela/teaching/compstats1/fram.txt', sep='\\t')\n",
      "\n",
      "# Create index vectors (np.array) for male and female samples\n",
      "females = (fram['SEX'] == 'female').values\n",
      "males = (fram['SEX'] == 'male').values\n",
      "\n",
      "# Compute and print the means for males and females\n",
      "malemean = np.mean(fram['AGE'].values[males])\n",
      "femalemean = np.mean(fram['AGE'].values[females])\n",
      "print(malemean, femalemean)\n",
      "\n",
      "# Check the number of females for generating the permutations\n",
      "numfemales = sum(females)\n",
      "\n",
      "# Number of permutations to try\n",
      "numrepeats = 1000\n",
      "# Initialise an array to store the results in\n",
      "mean_differences = np.zeros(numrepeats)\n",
      "npr.seed(100)\n",
      "\n",
      "for i in range(numrepeats):\n",
      "    # Permute the indices\n",
      "    I = npr.permutation(len(females))\n",
      "    # Split to \"women\" and \"men\"\n",
      "    permmean1 = np.mean(fram['AGE'].values[I[0:numfemales]])\n",
      "    permmean2 = np.mean(fram['AGE'].values[I[numfemales:]])\n",
      "    # Compute the absolute value of the difference\n",
      "    mean_differences[i] = np.abs(permmean1 - permmean2)\n",
      "\n",
      "(np.sum(np.abs(malemean - femalemean) <= mean_differences) + 1)/(len(mean_differences)+1)"
     ],
     "language": "python",
     "metadata": {},
     "outputs": []
    },
    {
     "cell_type": "markdown",
     "metadata": {},
     "source": [
      "## 2. More complex permutations\n",
      "\n",
      "Let us focus on the difference in the blood pressure ('DBP') between males and females. A direct test shows that blood pressures of males and females are statistically highly significantly different (very low p-value, i.e. the observed difference would be highly unlikely under the null model). In this exercise we augment the model by balancing the permuted data with respect to another variable: weight ('FRW').\n",
      "\n",
      "This is a very crude method in this case, because we only look at one arbitrary split in FRW.\n",
      "\n",
      "1. Run permutation test on 'DBP' the same way as in Problem 1, i.e. without stratification to low and high weight groups. What is the p-value you obtain? Try to increase the number of permutations until the p-value seems reasonably accurate. (Note: this should not take more than a few seconds to run!)\n",
      "2. Find the four subgroups of the data: males and females with FRW smaller/larger than median. How large are these groups?\n",
      "3. Construct vectors of indices to high/low FRW groups.\n",
      "4. Permute the male/female labels within both FRW groups but do not mix the FRW groups. Repeat to compute the p-value by checking how often in the permutation you obtain results as extreme as those in the real data. Compare your result with that from case 1.\n",
      "\n",
      "Hint: You can use numpy.random.permutation(vector) to randomly permute a vector, e.g. an index vector. Vectors representing values in the two subgroups can be combined using numpy.concatenate()."
     ]
    },
    {
     "cell_type": "code",
     "collapsed": false,
     "input": [],
     "language": "python",
     "metadata": {},
     "outputs": []
    },
    {
     "cell_type": "markdown",
     "metadata": {},
     "source": [
      "## 3. Bootstrap sampling\n",
      "\n",
      "Bootstrap sampling resembles permutation testing in the sense that we generate fictional data sets, but in this case these will be created by resampling the original data set **with replacement**.\n",
      "\n",
      "The formal justification for bootstrap comes from the fact that we often wish to study properties of estimators over the data generating distribution, which we obviously do not have access to. However, we can quickly produce approximate samples from the data generating distribution by resampling (with replacement) the observed data set. Remarkably this allows us to estimate the variability of many methods, but obviously there are limitations arising e.g. from the discrete nature of the sampling.\n",
      "\n",
      "Very simple tutorial:\n",
      "http://www.statisticshowto.com/bootstrap-sample/\n",
      "\n",
      "1. Compute the bootstrap confidence interval for the mean of the variable 'SBP' in the example data set. Compare that with the theoretical interval (see e.g. http://onlinestatbook.com/2/estimation/mean.html).\n",
      "2. Compute the bootstrap confidence interval for the median of the variable 'SBP' in the example data set.\n",
      "3. Compute the bootstrap confidence interval for the correlation between the variables 'SBP' and 'CHOL' in the example data set.\n",
      "\n",
      "(Hint: you can use numpy.random.randint() to sample the indices for the bootstrap sample and numpy.percentile() to extract percentiles from the sampling results.)"
     ]
    },
    {
     "cell_type": "code",
     "collapsed": false,
     "input": [],
     "language": "python",
     "metadata": {},
     "outputs": []
    },
    {
     "cell_type": "markdown",
     "metadata": {},
     "source": [
      "## 4. Using bootstrap to study properties of estimators.\n",
      "\n",
      "1. Simulate data sets of 1000 samples with zero mean and unit variance from the Gaussian and the Laplace distribution.\n",
      "2. Estimate the mean, median and standard deviation and their bootstrap confidence intervals. What do you observe?\n",
      "3. How do the results change when you change the initial data set size?"
     ]
    },
    {
     "cell_type": "code",
     "collapsed": false,
     "input": [],
     "language": "python",
     "metadata": {},
     "outputs": []
    },
    {
     "cell_type": "markdown",
     "metadata": {},
     "source": [
      "## 5. More examples of permutations and bootstrap\n",
      "\n",
      "Invent a new way to apply permutation testing and/or bootstrap to study the example data set used. Summarise your finding briefly."
     ]
    },
    {
     "cell_type": "code",
     "collapsed": false,
     "input": [],
     "language": "python",
     "metadata": {},
     "outputs": []
    }
   ],
   "metadata": {}
  }
 ]
}