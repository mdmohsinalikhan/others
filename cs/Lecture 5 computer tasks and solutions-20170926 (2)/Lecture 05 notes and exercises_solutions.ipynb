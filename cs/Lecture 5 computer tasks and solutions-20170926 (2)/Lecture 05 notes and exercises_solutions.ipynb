{
 "metadata": {
  "name": "",
  "signature": "sha256:cd241607acb52d49f871375d0cbd30702a2c27dfa8a92379cfc0d0a48db9576d"
 },
 "nbformat": 3,
 "nbformat_minor": 0,
 "worksheets": [
  {
   "cells": [
    {
     "cell_type": "markdown",
     "metadata": {},
     "source": [
      "University of Helsinki, Department of Mathematics and Statistics  \n",
      "MAST32001 Computational Statistics I, Autumn 2017  \n",
      "Antti Honkela  \n",
      "\n",
      "# Lecture 5: Resampling: permutation testing and bootstrap\n",
      "\n",
      "(Note: No autograd needed this time.)"
     ]
    },
    {
     "cell_type": "markdown",
     "metadata": {},
     "source": [
      "## Permutation testing\n",
      "\n",
      "One of the central methods of frequentist statistics, null-hypothesis significance testing (NHST), is based on computing the p-value of a hypothesis as the probability of how often observations as extreme as the ones observed would have been generated under the null hypotheis.\n",
      "\n",
      "Many procedures have been proposed for evaluating p-values under different assumptions. Permutation testing provides a very natural method for computing p-values directly through simulating from the null distribution.\n",
      "\n",
      "Further introductory reading:\n",
      "http://genomicsclass.github.io/book/pages/permutation_tests.html\n",
      "\n",
      "### 1. Simple permutation testing\n",
      "\n",
      "1. Check the below code that uses a permutation test to check if the ages of male and female participants in the data set are statistically significantly different. How do you interpret the result?\n",
      "2. Try similar test with other variables in the data set. How do you interpret the results?"
     ]
    },
    {
     "cell_type": "code",
     "collapsed": false,
     "input": [
      "import pandas as pd\n",
      "import numpy as np\n",
      "import numpy.random as npr\n",
      "\n",
      "# load the data from CSV file using pandas\n",
      "fram = pd.read_csv('http://www.helsinki.fi/~ahonkela/teaching/compstats1/fram.txt', sep='\\t')\n",
      "\n",
      "# Create index vectors (np.array) for male and female samples\n",
      "females = (fram['SEX'] == 'female').values\n",
      "males = (fram['SEX'] == 'male').values\n",
      "\n",
      "# Compute and print the means for males and females\n",
      "malemean = np.mean(fram['AGE'].values[males])\n",
      "femalemean = np.mean(fram['AGE'].values[females])\n",
      "print(malemean, femalemean)\n",
      "\n",
      "# Check the number of females for generating the permutations\n",
      "numfemales = sum(females)\n",
      "\n",
      "# Number of permutations to try\n",
      "numrepeats = 1000\n",
      "# Initialise an array to store the results in\n",
      "mean_differences = np.zeros(numrepeats)\n",
      "npr.seed(100)\n",
      "\n",
      "for i in range(numrepeats):\n",
      "    # Permute the indices\n",
      "    I = npr.permutation(len(females))\n",
      "    # Split to \"women\" and \"men\"\n",
      "    permmean1 = np.mean(fram['AGE'].values[I[0:numfemales]])\n",
      "    permmean2 = np.mean(fram['AGE'].values[I[numfemales:]])\n",
      "    # Compute the absolute value of the difference\n",
      "    mean_differences[i] = np.abs(permmean1 - permmean2)\n",
      "\n",
      "(np.sum(np.abs(malemean - femalemean) <= mean_differences) + 1)/(len(mean_differences)+1)"
     ],
     "language": "python",
     "metadata": {},
     "outputs": [
      {
       "output_type": "stream",
       "stream": "stdout",
       "text": [
        "52.4751131222 52.39124487\n"
       ]
      },
      {
       "metadata": {},
       "output_type": "pyout",
       "prompt_number": 1,
       "text": [
        "0.72327672327672332"
       ]
      }
     ],
     "prompt_number": 1
    },
    {
     "cell_type": "code",
     "collapsed": false,
     "input": [
      "malemean = np.mean(fram['CHOL'].values[males])\n",
      "femalemean = np.mean(fram['CHOL'].values[females])\n",
      "print(malemean, femalemean)\n",
      "\n",
      "numrepeats = 1000\n",
      "mean_differences = np.zeros(numrepeats)\n",
      "npr.seed(100)\n",
      "\n",
      "for i in range(numrepeats):\n",
      "    I = npr.permutation(len(females))\n",
      "    permmean1 = np.mean(fram['CHOL'].values[I[0:numfemales]])\n",
      "    permmean2 = np.mean(fram['CHOL'].values[I[numfemales:]])\n",
      "    mean_differences[i] = np.abs(permmean1 - permmean2)\n",
      "\n",
      "max(mean_differences)\n",
      "(np.sum(np.abs(malemean - femalemean) <= mean_differences) + 1)/(len(mean_differences)+1)"
     ],
     "language": "python",
     "metadata": {},
     "outputs": [
      {
       "output_type": "stream",
       "stream": "stdout",
       "text": [
        "225.60331825 242.845417237\n"
       ]
      },
      {
       "metadata": {},
       "output_type": "pyout",
       "prompt_number": 3,
       "text": [
        "0.000999000999000999"
       ]
      }
     ],
     "prompt_number": 3
    },
    {
     "cell_type": "markdown",
     "metadata": {},
     "source": [
      "## 2. More complex permutations\n",
      "\n",
      "Let us focus on the difference in the blood pressure ('DBP') between males and females. A direct test shows that blood pressures of males and females are statistically highly significantly different (very low p-value, i.e. the observed difference would be highly unlikely under the null model). In this exercise we augment the model by balancing the permuted data with respect to another variable: weight ('FRW').\n",
      "\n",
      "This is a very crude method in this case, because we only look at one arbitrary split in FRW.\n",
      "\n",
      "1. Run permutation test on 'DBP' the same way as in Problem 1, i.e. without stratification to low and high weight groups. What is the p-value you obtain? Try to increase the number of permutations until the p-value seems reasonably accurate. (Note: this should not take more than a few seconds to run!)\n",
      "2. Find the four subgroups of the data: males and females with FRW smaller/larger than median. How large are these groups?\n",
      "3. Construct vectors of indices to high/low FRW groups.\n",
      "4. Permute the male/female labels within both FRW groups but do not mix the FRW groups. Repeat to compute the p-value by checking how often in the permutation you obtain results as extreme as those in the real data. Compare your result with that from case 1.\n",
      "\n",
      "Hint: You can use numpy.random.permutation(vector) to randomly permute a vector, e.g. an index vector. Vectors representing values in the two subgroups can be combined using numpy.concatenate()."
     ]
    },
    {
     "cell_type": "code",
     "collapsed": false,
     "input": [
      "malemean = np.mean(fram['DBP'].values[males])\n",
      "femalemean = np.mean(fram['DBP'].values[females])\n",
      "print(malemean, femalemean)\n",
      "\n",
      "numrepeats = 10000\n",
      "mean_differences = np.zeros(numrepeats)\n",
      "npr.seed(100)\n",
      "\n",
      "for i in range(numrepeats):\n",
      "    I = npr.permutation(len(females))\n",
      "    permmean1 = np.mean(fram['DBP'].values[I[0:numfemales]])\n",
      "    permmean2 = np.mean(fram['DBP'].values[I[numfemales:]])\n",
      "    mean_differences[i] = np.abs(permmean1 - permmean2)\n",
      "\n",
      "(np.sum(np.abs(malemean - femalemean) <= mean_differences) + 1)/(len(mean_differences)+1)"
     ],
     "language": "python",
     "metadata": {},
     "outputs": [
      {
       "output_type": "stream",
       "stream": "stdout",
       "text": [
        "88.9954751131 91.169630643\n"
       ]
      },
      {
       "metadata": {},
       "output_type": "pyout",
       "prompt_number": 7,
       "text": [
        "0.0049995000499950008"
       ]
      }
     ],
     "prompt_number": 7
    },
    {
     "cell_type": "code",
     "collapsed": false,
     "input": [
      "medFRW = fram['FRW'].median()\n",
      "females = (fram['SEX'] == 'female').values\n",
      "males = (fram['SEX'] == 'male').values\n",
      "highFRW = (fram['FRW'] > medFRW).values\n",
      "lowFRW = (fram['FRW'] <= medFRW).values\n",
      "\n",
      "malemean = np.mean(fram['DBP'].values[males])\n",
      "femalemean = np.mean(fram['DBP'].values[females])\n",
      "print(malemean, femalemean)\n",
      "\n",
      "IhighFRW = np.where(highFRW)[0]\n",
      "IlowFRW = np.where(lowFRW)[0]\n",
      "\n",
      "numrepeats = 10000\n",
      "mean_differences = np.zeros(numrepeats)\n",
      "npr.seed(100)\n",
      "\n",
      "numhighFRWfemales = np.sum(females & highFRW)\n",
      "numlowFRWfemales = np.sum(females & lowFRW)\n",
      "\n",
      "for i in range(numrepeats):\n",
      "    I1 = npr.permutation(IhighFRW)\n",
      "    I2 = npr.permutation(IlowFRW)\n",
      "    permmean1 = np.mean(np.concatenate((fram['DBP'].values[I1[0:numhighFRWfemales]], \n",
      "                                        fram['DBP'].values[I2[0:numlowFRWfemales]])))\n",
      "    permmean2 = np.mean(np.concatenate((fram['DBP'].values[I1[numhighFRWfemales:]],\n",
      "                                        fram['DBP'].values[I2[numlowFRWfemales:]])))\n",
      "    #print(permmean2, permmean1)\n",
      "    mean_differences[i] = np.abs(permmean1 - permmean2)\n",
      "\n",
      "(np.sum(np.abs(malemean - femalemean) <= mean_differences) + 1)/(len(mean_differences)+1)"
     ],
     "language": "python",
     "metadata": {},
     "outputs": [
      {
       "output_type": "stream",
       "stream": "stdout",
       "text": [
        "88.9954751131 91.169630643\n"
       ]
      },
      {
       "metadata": {},
       "output_type": "pyout",
       "prompt_number": 8,
       "text": [
        "0.019598040195980403"
       ]
      }
     ],
     "prompt_number": 8
    },
    {
     "cell_type": "markdown",
     "metadata": {},
     "source": [
      "## 3. Bootstrap sampling\n",
      "\n",
      "Bootstrap sampling resembles permutation testing in the sense that we generate fictional data sets, but in this case these will be created by resampling the original data set **with replacement**.\n",
      "\n",
      "The formal justification for bootstrap comes from the fact that we often wish to study properties of estimators over the data generating distribution, which we obviously do not have access to. However, we can quickly produce approximate samples from the data generating distribution by resampling (with replacement) the observed data set. Remarkably this allows us to estimate the variability of many methods, but obviously there are limitations arising e.g. from the discrete nature of the sampling.\n",
      "\n",
      "Very simple tutorial:\n",
      "http://www.statisticshowto.com/bootstrap-sample/\n",
      "\n",
      "1. Compute the bootstrap confidence interval for the mean of the variable 'SBP' in the example data set. Compare that with the theoretical interval (see e.g. http://onlinestatbook.com/2/estimation/mean.html).\n",
      "2. Compute the bootstrap confidence interval for the median of the variable 'SBP' in the example data set.\n",
      "3. Compute the bootstrap confidence interval for the correlation between the variables 'SBP' and 'CHOL' in the example data set.\n",
      "\n",
      "(Hint: you can use numpy.random.randint() to sample the indices for the bootstrap sample.)"
     ]
    },
    {
     "cell_type": "code",
     "collapsed": false,
     "input": [
      "import pandas as pd\n",
      "import numpy as np\n",
      "import numpy.random as npr\n",
      "\n",
      "# load the data from CSV file using pandas\n",
      "fram = pd.read_csv('http://www.helsinki.fi/~ahonkela/teaching/compstats1/fram.txt', sep='\\t')\n",
      "\n",
      "#print(fram)\n",
      "\n",
      "#1\n",
      "npr.seed(42)\n",
      "sbp = fram['SBP']\n",
      "n_bootstrap = 10000\n",
      "n = len(sbp)\n",
      "bootstrap_means = [np.mean(npr.choice(sbp, replace=True, size=n)) for i in range(n_bootstrap)]\n",
      "print(np.percentile(bootstrap_means, [2.5,97.5]))\n",
      "\n",
      "m = np.mean(sbp)\n",
      "sd = np.std(sbp)\n",
      "c_int_theo = [m-1.96*sd/np.sqrt(n), m+1.96*sd/np.sqrt(n)]\n",
      "print(c_int_theo)\n",
      "\n",
      "#2\n",
      "print(\"section2\")\n",
      "n_bootstrap = 10000\n",
      "bootstrap_medians = [np.median(npr.choice(sbp, replace=True, size=n)) for i in range(n_bootstrap)]\n",
      "print(np.percentile(bootstrap_medians, [2.5, 97.5]))\n",
      "\n",
      "#3\n",
      "print(\"section3\")\n",
      "chol = fram['CHOL']\n",
      "n_bootstrap = 10000\n",
      "bootstrap_correlate = np.zeros(n_bootstrap)\n",
      "for i in range(n_bootstrap):\n",
      "    indices = npr.choice(range(n), replace=True, size=n)\n",
      "    bootstrap_correlate[i] = np.corrcoef(sbp[indices], chol[indices])[0,1]\n",
      "\n",
      "print(np.percentile(bootstrap_correlate, [2.5, 97.5]))"
     ],
     "language": "python",
     "metadata": {},
     "outputs": [
      {
       "output_type": "stream",
       "stream": "stdout",
       "text": [
        "[ 146.66499283  149.57103659]\n",
        "[146.61556996609161, 149.55659646145503]\n",
        "section2\n",
        "[ 140.  144.]"
       ]
      },
      {
       "output_type": "stream",
       "stream": "stdout",
       "text": [
        "\n",
        "section3\n",
        "[ 0.06413497  0.16437208]"
       ]
      },
      {
       "output_type": "stream",
       "stream": "stdout",
       "text": [
        "\n"
       ]
      }
     ],
     "prompt_number": 19
    },
    {
     "cell_type": "markdown",
     "metadata": {},
     "source": [
      "## 4. Using bootstrap to study properties of estimators.\n",
      "\n",
      "1. Simulate data sets of 1000 samples with zero mean and unit variance from the Gaussian and the Laplace distribution.\n",
      "2. Estimate the mean, median and standard deviation and their bootstrap confidence intervals. What do you observe?\n",
      "3. How do the results change when you change the initial data set size?"
     ]
    },
    {
     "cell_type": "code",
     "collapsed": false,
     "input": [
      "#1\n",
      "x = npr.randn(1000)\n",
      "y = npr.laplace(loc=0.0, scale=1./np.sqrt(2.0), size=1000)\n",
      "\n",
      "def bootstrap(data, n_bootstrap, statistic, conf):\n",
      "    stat = statistic(data)\n",
      "    n = len(data)\n",
      "    bootstrap = [statistic(npr.choice(data, replace=True, size=n)) for i in range(n_bootstrap)]\n",
      "    print(stat, np.percentile(bootstrap, [100*conf, 100*(1-conf)]))\n",
      "\n",
      "statistics = [np.mean, np.median, np.std]\n",
      "data_names = ['Gaussian', 'Laplace']\n",
      "stat_names = ['Mean', 'Median', 'SD']\n",
      "conf = 0.025\n",
      "n_bootstrap=1000\n",
      "for i, data in enumerate([x,y]):\n",
      "    for j, statistic in enumerate(statistics):\n",
      "        print(data_names[i], stat_names[j])\n",
      "        bootstrap(data, n_bootstrap, statistic, conf)"
     ],
     "language": "python",
     "metadata": {},
     "outputs": [
      {
       "output_type": "stream",
       "stream": "stdout",
       "text": [
        "Gaussian Mean\n",
        "0.0192328025017 [-0.04338146  0.08032506]\n",
        "Gaussian Median\n",
        "-0.0102951530141"
       ]
      },
      {
       "output_type": "stream",
       "stream": "stdout",
       "text": [
        " [-0.07563306  0.08841127]\n",
        "Gaussian SD\n",
        "0.991127538263 [ 0.94729033  1.03648898]\n",
        "Laplace Mean\n",
        "0.0171340398889"
       ]
      },
      {
       "output_type": "stream",
       "stream": "stdout",
       "text": [
        " [-0.04584275  0.07918672]\n",
        "Laplace Median\n",
        "0.00393200637435"
       ]
      },
      {
       "output_type": "stream",
       "stream": "stdout",
       "text": [
        " [-0.03804782  0.05099045]\n",
        "Laplace SD\n",
        "1.00167481552 [ 0.91195414  1.10065108]\n"
       ]
      }
     ],
     "prompt_number": 16
    },
    {
     "cell_type": "markdown",
     "metadata": {},
     "source": [
      "## 5. More examples of permutations and bootstrap\n",
      "\n",
      "Invent a new way to apply permutation testing and/or bootstrap to study the example data set used. Summarise your finding briefly."
     ]
    },
    {
     "cell_type": "code",
     "collapsed": false,
     "input": [],
     "language": "python",
     "metadata": {},
     "outputs": []
    }
   ],
   "metadata": {}
  }
 ]
}