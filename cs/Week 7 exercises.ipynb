{
 "metadata": {
  "kernelspec": {
   "display_name": "Python 3",
   "language": "python",
   "name": "python3"
  },
  "language_info": {
   "codemirror_mode": {
    "name": "ipython",
    "version": 3
   },
   "file_extension": ".py",
   "mimetype": "text/x-python",
   "name": "python",
   "nbconvert_exporter": "python",
   "pygments_lexer": "ipython3",
   "version": "3.6.2"
  },
  "name": "",
  "signature": "sha256:407ec2e679c2a39368971255140ac61bcdbc5371fb5531e4fd9124e11f1f25a3"
 },
 "nbformat": 3,
 "nbformat_minor": 0,
 "worksheets": [
  {
   "cells": [
    {
     "cell_type": "markdown",
     "metadata": {},
     "source": [
      "University of Helsinki, Department of Mathematics and Statistics  \n",
      "MAST32001 Computational Statistics I, Autumn 2017  \n",
      "Antti Honkela  \n",
      "\n",
      "# Week 7 exercises"
     ]
    },
    {
     "cell_type": "markdown",
     "metadata": {},
     "source": [
      "## 1. Convergence checking for MCMC\n",
      "\n",
      "In this exercise we will revisit the 2D density considered in Exercise 4 on Week 6 but with $R=4.0$:\n",
      "$$ P^*(x; R) = \\sum_{i=1}^5 \\exp\\left( -\\frac{i}{2} (x-\\mu_i)^T (x - \\mu_i) \\right) $$\n",
      "with $\\mu_1 = (0, 0), \\mu_2 = (R, R), \\mu_3 = (R, -R), \\mu_4 = (-R, R), \\mu_5 = (-R, -R)$. Here $R$ denotes a parameter that specifies the spread of the modes of the distribution which we fix to $R=4.0$. (Please note the $i$ in $\\frac{i}{2}$ inside the $\\exp()$!)\n",
      "\n",
      "Unlike last week when many students had problems with convergence and obtaining sufficiently accurate results, we will apply rigorous convergence checking to make sure the results will be accurate.\n",
      "\n",
      "1. Implement a proper MCMC convergence checking framework (see Lecture 8) by running 5 chains using your sampler of choice, started from different corners of the distribution. Run the sampler so that you always double the number of samples drawn until the chains satisfy $\\hat{R} < 1.1$ for every variable.\n",
      "2. Report the $\\hat{R}$ values (see Lecture 8) you obtained for $x_1$ and $x_2$ in Moodle.\n",
      "3. Report $\\sqrt{\\mathrm{E}[(x_1-1)^2]}$ and $\\sqrt{\\mathrm{E}[(x_2-1)^2]}$ in Moodle. The required tolerance is $\\pm 0.2$."
     ]
    },
    {
     "cell_type": "code",
     "collapsed": false,
     "input": [
      "#import numpy as np\n",
      "#import numpy.random as npr\n",
      "import pandas as pd\n",
      "import matplotlib.pyplot as plt\n",
      "import scipy.special\n",
      "from scipy.stats import multivariate_normal\n",
      "\n",
      "import autograd.numpy as np\n",
      "import autograd.numpy.random as npr\n",
      "import autograd\n",
      "\n",
      "import autograd.numpy.linalg as npl\n",
      "\n",
      "\n",
      "\n",
      "mu1 = np.array([0,0])\n",
      "mu2 = np.array([4,4])\n",
      "mu3 = np.array([4,-4])\n",
      "mu4 = np.array([-4,4])\n",
      "mu5 = np.array([-4,-4])\n",
      "Sigma = np.array([[1.0, .8],[.8, 1.0]])\n",
      "\n",
      "def normal_pdf(x,mean,sd):\n",
      "    return (1/(np.sqrt(2*3.14)*sd))*np.exp(-((x-mean)**2)/(2*sd**2))\n",
      "\n",
      "def target(x):\n",
      "    sum = 0\n",
      "    \n",
      "    x_minus_mu1 = np.array([x[0]-mu1[0],x[1]-mu1[1]])\n",
      "    x_minus_mu2 = np.array([x[0]-mu2[0],x[1]-mu2[1]])\n",
      "    x_minus_mu3 = np.array([x[0]-mu3[0],x[1]-mu3[1]])\n",
      "    x_minus_mu4 = np.array([x[0]-mu4[0],x[1]-mu4[1]])\n",
      "    x_minus_mu5 = np.array([x[0]-mu5[0],x[1]-mu5[1]])\n",
      "    \n",
      "    sum = sum + np.exp((-1/2)*(x_minus_mu1[0]*x_minus_mu1[0] + x_minus_mu1[1]*x_minus_mu1[1]))\n",
      "    sum = sum + np.exp((-2/2)*(x_minus_mu2[0]*x_minus_mu2[0] + x_minus_mu2[1]*x_minus_mu2[1]))\n",
      "    sum = sum + np.exp((-3/2)*(x_minus_mu3[0]*x_minus_mu3[0] + x_minus_mu3[1]*x_minus_mu3[1]))\n",
      "    sum = sum + np.exp((-4/2)*(x_minus_mu4[0]*x_minus_mu4[0] + x_minus_mu4[1]*x_minus_mu4[1]))\n",
      "    sum = sum + np.exp((-5/2)*(x_minus_mu5[0]*x_minus_mu5[0] + x_minus_mu5[1]*x_minus_mu5[1]))\n",
      "    \n",
      "    return np.log(sum)\n",
      "\n",
      "def drawproposal(x,sd):\n",
      "    return npr.normal(x,sd)\n",
      "\n",
      "def proposal(x,x_given):\n",
      "    var = multivariate_normal(mean=x_given, cov=Sigma)\n",
      "    return var.pdf(x)\n",
      "\n",
      "def mhsample(x0, n):\n",
      "    x = x0\n",
      "    lp = target(x)\n",
      "    xs = []\n",
      "    for i in range(n):\n",
      "        x_prop = npr.multivariate_normal(x,Sigma)\n",
      "        l_prop = target(x_prop)\n",
      "        proposal(x, x_prop)\n",
      "        if npr.rand() < (l_prop/lp)*(proposal(x, x_prop)/proposal(x_prop, x)):\n",
      "            x = x_prop\n",
      "            lp = l_prop\n",
      "        xs.append(x)\n",
      "    return xs\n",
      "\n",
      "def compute_s_i_square(component,n,chainj,x_j_bar):\n",
      "    sum = 0\n",
      "    for i in chainj:\n",
      "        sum = sum + (i[component]-x_j_bar)**2\n",
      "    return (1/(n-1))*sum\n",
      "\n",
      "def compute_x_j_bar(component,n,chainj):\n",
      "    sum = 0\n",
      "    for i in chainj:\n",
      "        sum = sum + i[component]\n",
      "    return (1/n)*sum\n",
      "\n",
      "def compute_R_hat(component,n,chain1,chain2,chain3,chain4,chain5):\n",
      "    x_1_bar = compute_x_j_bar(component,n,chain1)\n",
      "    x_2_bar = compute_x_j_bar(component,n,chain2)\n",
      "    x_3_bar = compute_x_j_bar(component,n,chain3)\n",
      "    x_4_bar = compute_x_j_bar(component,n,chain4)\n",
      "    x_5_bar = compute_x_j_bar(component,n,chain5)\n",
      "    x_double_bar = (1/5)*(x_1_bar + x_2_bar + x_3_bar + x_4_bar + x_5_bar)\n",
      "    #print(x_double_bar)\n",
      "    B = (n/(5-1))*((x_1_bar-x_double_bar)**2 + (x_2_bar-x_double_bar)**2 + (x_3_bar-x_double_bar)**2 + (x_4_bar-x_double_bar)**2 + (x_5_bar-x_double_bar)**2)\n",
      "    #print(\"Here is the value of B: \" + str(B))\n",
      "    s_1_square = compute_s_i_square(component,n,chain1,x_1_bar)\n",
      "    s_2_square = compute_s_i_square(component,n,chain2,x_2_bar)\n",
      "    s_3_square = compute_s_i_square(component,n,chain3,x_3_bar)\n",
      "    s_4_square = compute_s_i_square(component,n,chain4,x_4_bar)\n",
      "    s_5_square = compute_s_i_square(component,n,chain5,x_5_bar)\n",
      "    W = (1/5)*(s_1_square + s_2_square + s_3_square + s_4_square + s_5_square )\n",
      "    #print(\"Here is the value of W: \" + str(W))\n",
      "    var_x = (1-1/n)*W + (1/n)*B\n",
      "    R_hat = var_x/W\n",
      "    return R_hat\n",
      "\n",
      "def hmc(x0, M, target, epsilon0, L):\n",
      "    xs = np.zeros([M, len(x0)])\n",
      "    gradF = autograd.grad(target)\n",
      "    x = np.copy(x0)\n",
      "    g = gradF(x)  # set gradient using initial x\n",
      "    logP = target(x0)  # set objective function too\n",
      "    accepts = 0\n",
      "    for m in range(2*M): # draw M samples after M warm-up iterations\n",
      "        p = npr.normal(size=x.shape)  # initial momentum is Normal(0,1)\n",
      "        H = p.T @ p / 2 - logP   # evaluate H(x,p)\n",
      "        xnew = np.copy(x)\n",
      "        gnew = np.copy(g)\n",
      "        for l in range(L): # make L \u2018leapfrog\u2019 steps\n",
      "            epsilon = npr.uniform(0.8, 1.2) * epsilon0  # optional: randomise epsilon for improved theoretical convergence properties\n",
      "            p = p + epsilon * gnew / 2   # make half-step in p\n",
      "            xnew = xnew + epsilon * p    # make step in x\n",
      "            gnew = gradF(xnew)           # find new gradient\n",
      "            p = p + epsilon * gnew / 2   # make half-step in p\n",
      "        logPnew = target(xnew)   # find new value of H\n",
      "        Hnew = p.T @ p / 2 - logPnew\n",
      "        dH = Hnew - H    # Decide whether to accept\n",
      "        if dH < 0 or np.log(npr.rand()) < -dH:\n",
      "            g = gnew\n",
      "            x = xnew\n",
      "            logP = logPnew\n",
      "            accepts += 1\n",
      "        if m >= M:\n",
      "            xs[m-M,:] = x\n",
      "    #print('Acceptance rate:', accepts/(2*M))\n",
      "    return xs\n",
      "    \n",
      "def compute_expectations(chain1,chain2,chain3,chain4,chain5):\n",
      "    x1 = []\n",
      "    x2 = []\n",
      "    for i in chain1:\n",
      "        x1.append((i[0]-1)**2)\n",
      "        x2.append((i[1]-1)**2)\n",
      "    for i in chain2:\n",
      "        x1.append((i[0]-1)**2)\n",
      "        x2.append((i[1]-1)**2)\n",
      "    for i in chain3:\n",
      "        x1.append((i[0]-1)**2)\n",
      "        x2.append((i[1]-1)**2)\n",
      "    for i in chain4:\n",
      "        x1.append((i[0]-1)**2)\n",
      "        x2.append((i[1]-1)**2)\n",
      "    for i in chain5:\n",
      "        x1.append((i[0]-1)**2)\n",
      "        x2.append((i[1]-1)**2)\n",
      "        \n",
      "    print(\"The square root of the mean of (x1-1)**2 is:\")\n",
      "    print(np.sqrt(np.mean(x1)))\n",
      "    print(\"The square root of the mean of (x2-1)**2 is:\")\n",
      "    print(np.sqrt(np.mean(x2)))\n",
      "    \n",
      "n = 4\n",
      "starting_point1 = np.array([0.0,0.0])\n",
      "starting_point2 = np.array([4.0,4.0])\n",
      "starting_point3 = np.array([4.0,-4.0])\n",
      "starting_point4 = np.array([-4.0,4.0])\n",
      "starting_point5 = np.array([-4.0,-4.0])\n",
      "while True:\n",
      "    n = 2*n\n",
      "    chain1 = hmc(starting_point1, n, lambda x: target(x), 0.2, 10)\n",
      "    chain2 = hmc(starting_point2, n, lambda x: target(x), 0.2, 10)\n",
      "    chain3 = hmc(starting_point3, n, lambda x: target(x), 0.2, 10)\n",
      "    chain4 = hmc(starting_point4, n, lambda x: target(x), 0.2, 10)\n",
      "    chain5 = hmc(starting_point5, n, lambda x: target(x), 0.2, 10)\n",
      "    print(\"the value of n is: \" + str(n))\n",
      "    R_hat_x1 = compute_R_hat(0,n,chain1,chain2,chain3,chain4,chain5)\n",
      "    R_hat_x2 = compute_R_hat(1,n,chain1,chain2,chain3,chain4,chain5)\n",
      "    \n",
      "    #print(chain1)\n",
      "    #print(chain2)\n",
      "    #print(chain3)\n",
      "    #print(chain4)\n",
      "    #print(chain5)\n",
      "    \n",
      "    #print(\"and the corresponding R_hat is:\")\n",
      "    if R_hat_x1 >= R_hat_x2:\n",
      "        R_hat = R_hat_x1\n",
      "    else:\n",
      "        R_hat = R_hat_x2\n",
      "        \n",
      "    print(\"R_hat of x1: \" + str(R_hat_x1))\n",
      "    print(\"R_hat of x2: \" + str(R_hat_x2))\n",
      "    print(\"R_hat:\" + str(R_hat))\n",
      "    if R_hat <= 1.1:\n",
      "    #if n == 32:\n",
      "        print(\"program is ending.\")\n",
      "        compute_expectations(chain1,chain2,chain3,chain4,chain5)\n",
      "        break\n",
      "\n",
      "#print(chain1[0][1])\n",
      "        \n",
      "#print(\"Here is chain1\")\n",
      "#print(chain1)\n",
      "#print(\"Here is chain2\")\n",
      "#print(chain2)\n",
      "#print(\"Here is chain3\")\n",
      "#print(chain3)\n",
      "#print(\"Here is chain\")\n",
      "#print(chain4)\n",
      "#print(\"Here is chain5\")\n",
      "#print(chain5)\n",
      "#1.06826119571"
     ],
     "language": "python",
     "metadata": {},
     "outputs": [
      {
       "output_type": "stream",
       "stream": "stdout",
       "text": [
        "the value of n is: 8\n",
        "R_hat of x1: 112.068273081\n",
        "R_hat of x2: 35.4578559756\n",
        "R_hat:112.068273081\n",
        "the value of n is: 16"
       ]
      },
      {
       "output_type": "stream",
       "stream": "stdout",
       "text": [
        "\n",
        "R_hat of x1: 26.8904177649\n",
        "R_hat of x2: 36.380492363\n",
        "R_hat:36.380492363\n",
        "the value of n is: 32"
       ]
      },
      {
       "output_type": "stream",
       "stream": "stdout",
       "text": [
        "\n",
        "R_hat of x1: 21.1835943059\n",
        "R_hat of x2: 22.1864545456\n",
        "R_hat:22.1864545456\n",
        "the value of n is: 64"
       ]
      },
      {
       "output_type": "stream",
       "stream": "stdout",
       "text": [
        "\n",
        "R_hat of x1: 19.4964291842\n",
        "R_hat of x2: 18.5345825593\n",
        "R_hat:19.4964291842\n",
        "the value of n is: 128"
       ]
      },
      {
       "output_type": "stream",
       "stream": "stdout",
       "text": [
        "\n",
        "R_hat of x1: 26.6353025489\n",
        "R_hat of x2: 26.5783957326\n",
        "R_hat:26.6353025489\n",
        "the value of n is: 256"
       ]
      },
      {
       "output_type": "stream",
       "stream": "stdout",
       "text": [
        "\n",
        "R_hat of x1: 9.49349706048\n",
        "R_hat of x2: 10.7491852537\n",
        "R_hat:10.7491852537\n",
        "the value of n is: 512"
       ]
      },
      {
       "output_type": "stream",
       "stream": "stdout",
       "text": [
        "\n",
        "R_hat of x1: 5.94484390308\n",
        "R_hat of x2: 5.64517599899\n",
        "R_hat:5.94484390308\n",
        "the value of n is: 1024"
       ]
      },
      {
       "output_type": "stream",
       "stream": "stdout",
       "text": [
        "\n",
        "R_hat of x1: 2.67424801933\n",
        "R_hat of x2: 4.41536198079\n",
        "R_hat:4.41536198079\n",
        "the value of n is: 2048"
       ]
      },
      {
       "output_type": "stream",
       "stream": "stdout",
       "text": [
        "\n",
        "R_hat of x1: 2.35750424381\n",
        "R_hat of x2: 1.95339544671\n",
        "R_hat:2.35750424381\n",
        "the value of n is: 4096"
       ]
      },
      {
       "output_type": "stream",
       "stream": "stdout",
       "text": [
        "\n",
        "R_hat of x1: 1.30935286024"
       ]
      },
      {
       "output_type": "stream",
       "stream": "stdout",
       "text": [
        "\n",
        "R_hat of x2: 1.05752396461\n",
        "R_hat:1.30935286024\n"
       ]
      },
      {
       "ename": "KeyboardInterrupt",
       "evalue": "",
       "output_type": "pyerr",
       "traceback": [
        "\u001b[0;31m---------------------------------------------------------------------------\u001b[0m\n\u001b[0;31mKeyboardInterrupt\u001b[0m                         Traceback (most recent call last)",
        "\u001b[0;32m<ipython-input-120-7801a3a3c58a>\u001b[0m in \u001b[0;36m<module>\u001b[0;34m()\u001b[0m\n\u001b[1;32m    161\u001b[0m     \u001b[0mchain2\u001b[0m \u001b[0;34m=\u001b[0m \u001b[0mhmc\u001b[0m\u001b[0;34m(\u001b[0m\u001b[0mstarting_point2\u001b[0m\u001b[0;34m,\u001b[0m \u001b[0mn\u001b[0m\u001b[0;34m,\u001b[0m \u001b[0;32mlambda\u001b[0m \u001b[0mx\u001b[0m\u001b[0;34m:\u001b[0m \u001b[0mtarget\u001b[0m\u001b[0;34m(\u001b[0m\u001b[0mx\u001b[0m\u001b[0;34m)\u001b[0m\u001b[0;34m,\u001b[0m \u001b[0;36m0.2\u001b[0m\u001b[0;34m,\u001b[0m \u001b[0;36m10\u001b[0m\u001b[0;34m)\u001b[0m\u001b[0;34m\u001b[0m\u001b[0m\n\u001b[1;32m    162\u001b[0m     \u001b[0mchain3\u001b[0m \u001b[0;34m=\u001b[0m \u001b[0mhmc\u001b[0m\u001b[0;34m(\u001b[0m\u001b[0mstarting_point3\u001b[0m\u001b[0;34m,\u001b[0m \u001b[0mn\u001b[0m\u001b[0;34m,\u001b[0m \u001b[0;32mlambda\u001b[0m \u001b[0mx\u001b[0m\u001b[0;34m:\u001b[0m \u001b[0mtarget\u001b[0m\u001b[0;34m(\u001b[0m\u001b[0mx\u001b[0m\u001b[0;34m)\u001b[0m\u001b[0;34m,\u001b[0m \u001b[0;36m0.2\u001b[0m\u001b[0;34m,\u001b[0m \u001b[0;36m10\u001b[0m\u001b[0;34m)\u001b[0m\u001b[0;34m\u001b[0m\u001b[0m\n\u001b[0;32m--> 163\u001b[0;31m     \u001b[0mchain4\u001b[0m \u001b[0;34m=\u001b[0m \u001b[0mhmc\u001b[0m\u001b[0;34m(\u001b[0m\u001b[0mstarting_point4\u001b[0m\u001b[0;34m,\u001b[0m \u001b[0mn\u001b[0m\u001b[0;34m,\u001b[0m \u001b[0;32mlambda\u001b[0m \u001b[0mx\u001b[0m\u001b[0;34m:\u001b[0m \u001b[0mtarget\u001b[0m\u001b[0;34m(\u001b[0m\u001b[0mx\u001b[0m\u001b[0;34m)\u001b[0m\u001b[0;34m,\u001b[0m \u001b[0;36m0.2\u001b[0m\u001b[0;34m,\u001b[0m \u001b[0;36m10\u001b[0m\u001b[0;34m)\u001b[0m\u001b[0;34m\u001b[0m\u001b[0m\n\u001b[0m\u001b[1;32m    164\u001b[0m     \u001b[0mchain5\u001b[0m \u001b[0;34m=\u001b[0m \u001b[0mhmc\u001b[0m\u001b[0;34m(\u001b[0m\u001b[0mstarting_point5\u001b[0m\u001b[0;34m,\u001b[0m \u001b[0mn\u001b[0m\u001b[0;34m,\u001b[0m \u001b[0;32mlambda\u001b[0m \u001b[0mx\u001b[0m\u001b[0;34m:\u001b[0m \u001b[0mtarget\u001b[0m\u001b[0;34m(\u001b[0m\u001b[0mx\u001b[0m\u001b[0;34m)\u001b[0m\u001b[0;34m,\u001b[0m \u001b[0;36m0.2\u001b[0m\u001b[0;34m,\u001b[0m \u001b[0;36m10\u001b[0m\u001b[0;34m)\u001b[0m\u001b[0;34m\u001b[0m\u001b[0m\n\u001b[1;32m    165\u001b[0m     \u001b[0mprint\u001b[0m\u001b[0;34m(\u001b[0m\u001b[0;34m\"the value of n is: \"\u001b[0m \u001b[0;34m+\u001b[0m \u001b[0mstr\u001b[0m\u001b[0;34m(\u001b[0m\u001b[0mn\u001b[0m\u001b[0;34m)\u001b[0m\u001b[0;34m)\u001b[0m\u001b[0;34m\u001b[0m\u001b[0m\n",
        "\u001b[0;32m<ipython-input-120-7801a3a3c58a>\u001b[0m in \u001b[0;36mhmc\u001b[0;34m(x0, M, target, epsilon0, L)\u001b[0m\n\u001b[1;32m    111\u001b[0m             \u001b[0mp\u001b[0m \u001b[0;34m=\u001b[0m \u001b[0mp\u001b[0m \u001b[0;34m+\u001b[0m \u001b[0mepsilon\u001b[0m \u001b[0;34m*\u001b[0m \u001b[0mgnew\u001b[0m \u001b[0;34m/\u001b[0m \u001b[0;36m2\u001b[0m   \u001b[0;31m# make half-step in p\u001b[0m\u001b[0;34m\u001b[0m\u001b[0m\n\u001b[1;32m    112\u001b[0m             \u001b[0mxnew\u001b[0m \u001b[0;34m=\u001b[0m \u001b[0mxnew\u001b[0m \u001b[0;34m+\u001b[0m \u001b[0mepsilon\u001b[0m \u001b[0;34m*\u001b[0m \u001b[0mp\u001b[0m    \u001b[0;31m# make step in x\u001b[0m\u001b[0;34m\u001b[0m\u001b[0m\n\u001b[0;32m--> 113\u001b[0;31m             \u001b[0mgnew\u001b[0m \u001b[0;34m=\u001b[0m \u001b[0mgradF\u001b[0m\u001b[0;34m(\u001b[0m\u001b[0mxnew\u001b[0m\u001b[0;34m)\u001b[0m           \u001b[0;31m# find new gradient\u001b[0m\u001b[0;34m\u001b[0m\u001b[0m\n\u001b[0m\u001b[1;32m    114\u001b[0m             \u001b[0mp\u001b[0m \u001b[0;34m=\u001b[0m \u001b[0mp\u001b[0m \u001b[0;34m+\u001b[0m \u001b[0mepsilon\u001b[0m \u001b[0;34m*\u001b[0m \u001b[0mgnew\u001b[0m \u001b[0;34m/\u001b[0m \u001b[0;36m2\u001b[0m   \u001b[0;31m# make half-step in p\u001b[0m\u001b[0;34m\u001b[0m\u001b[0m\n\u001b[1;32m    115\u001b[0m         \u001b[0mlogPnew\u001b[0m \u001b[0;34m=\u001b[0m \u001b[0mtarget\u001b[0m\u001b[0;34m(\u001b[0m\u001b[0mxnew\u001b[0m\u001b[0;34m)\u001b[0m   \u001b[0;31m# find new value of H\u001b[0m\u001b[0;34m\u001b[0m\u001b[0m\n",
        "\u001b[0;32m/home/robinmagpie/.local/lib/python3.5/site-packages/autograd/errors.py\u001b[0m in \u001b[0;36mwrapped\u001b[0;34m(*args, **kwargs)\u001b[0m\n\u001b[1;32m     46\u001b[0m   \u001b[0;34m@\u001b[0m\u001b[0mwraps\u001b[0m\u001b[0;34m(\u001b[0m\u001b[0mfun\u001b[0m\u001b[0;34m)\u001b[0m\u001b[0;34m\u001b[0m\u001b[0m\n\u001b[1;32m     47\u001b[0m   \u001b[0;32mdef\u001b[0m \u001b[0mwrapped\u001b[0m\u001b[0;34m(\u001b[0m\u001b[0;34m*\u001b[0m\u001b[0margs\u001b[0m\u001b[0;34m,\u001b[0m \u001b[0;34m**\u001b[0m\u001b[0mkwargs\u001b[0m\u001b[0;34m)\u001b[0m\u001b[0;34m:\u001b[0m\u001b[0;34m\u001b[0m\u001b[0m\n\u001b[0;32m---> 48\u001b[0;31m     \u001b[0;32mtry\u001b[0m\u001b[0;34m:\u001b[0m \u001b[0;32mreturn\u001b[0m \u001b[0mfun\u001b[0m\u001b[0;34m(\u001b[0m\u001b[0;34m*\u001b[0m\u001b[0margs\u001b[0m\u001b[0;34m,\u001b[0m \u001b[0;34m**\u001b[0m\u001b[0mkwargs\u001b[0m\u001b[0;34m)\u001b[0m\u001b[0;34m\u001b[0m\u001b[0m\n\u001b[0m\u001b[1;32m     49\u001b[0m     \u001b[0;32mexcept\u001b[0m \u001b[0mException\u001b[0m \u001b[0;32mas\u001b[0m \u001b[0me\u001b[0m\u001b[0;34m:\u001b[0m \u001b[0madd_extra_error_message\u001b[0m\u001b[0;34m(\u001b[0m\u001b[0me\u001b[0m\u001b[0;34m)\u001b[0m\u001b[0;34m\u001b[0m\u001b[0m\n\u001b[1;32m     50\u001b[0m   \u001b[0;32mreturn\u001b[0m \u001b[0mwrapped\u001b[0m\u001b[0;34m\u001b[0m\u001b[0m\n",
        "\u001b[0;32m/home/robinmagpie/.local/lib/python3.5/site-packages/autograd/convenience_wrappers.py\u001b[0m in \u001b[0;36mgradfun\u001b[0;34m(*args, **kwargs)\u001b[0m\n\u001b[1;32m     21\u001b[0m         \u001b[0margs\u001b[0m\u001b[0;34m[\u001b[0m\u001b[0margnum\u001b[0m\u001b[0;34m]\u001b[0m \u001b[0;34m=\u001b[0m \u001b[0msafe_type\u001b[0m\u001b[0;34m(\u001b[0m\u001b[0margs\u001b[0m\u001b[0;34m[\u001b[0m\u001b[0margnum\u001b[0m\u001b[0;34m]\u001b[0m\u001b[0;34m)\u001b[0m\u001b[0;34m\u001b[0m\u001b[0m\n\u001b[1;32m     22\u001b[0m         \u001b[0mvjp\u001b[0m\u001b[0;34m,\u001b[0m \u001b[0mans\u001b[0m \u001b[0;34m=\u001b[0m \u001b[0mmake_vjp\u001b[0m\u001b[0;34m(\u001b[0m\u001b[0mfun\u001b[0m\u001b[0;34m,\u001b[0m \u001b[0margnum\u001b[0m\u001b[0;34m)\u001b[0m\u001b[0;34m(\u001b[0m\u001b[0;34m*\u001b[0m\u001b[0margs\u001b[0m\u001b[0;34m,\u001b[0m \u001b[0;34m**\u001b[0m\u001b[0mkwargs\u001b[0m\u001b[0;34m)\u001b[0m\u001b[0;34m\u001b[0m\u001b[0m\n\u001b[0;32m---> 23\u001b[0;31m         \u001b[0;32mreturn\u001b[0m \u001b[0mvjp\u001b[0m\u001b[0;34m(\u001b[0m\u001b[0mvspace\u001b[0m\u001b[0;34m(\u001b[0m\u001b[0mans\u001b[0m\u001b[0;34m)\u001b[0m\u001b[0;34m.\u001b[0m\u001b[0mones\u001b[0m\u001b[0;34m(\u001b[0m\u001b[0;34m)\u001b[0m\u001b[0;34m)\u001b[0m\u001b[0;34m\u001b[0m\u001b[0m\n\u001b[0m\u001b[1;32m     24\u001b[0m \u001b[0;34m\u001b[0m\u001b[0m\n\u001b[1;32m     25\u001b[0m     \u001b[0;32mreturn\u001b[0m \u001b[0mgradfun\u001b[0m\u001b[0;34m\u001b[0m\u001b[0m\n",
        "\u001b[0;32m/home/robinmagpie/.local/lib/python3.5/site-packages/autograd/core.py\u001b[0m in \u001b[0;36mvjp\u001b[0;34m(g)\u001b[0m\n\u001b[1;32m     15\u001b[0m             \u001b[0;32mdef\u001b[0m \u001b[0mvjp\u001b[0m\u001b[0;34m(\u001b[0m\u001b[0mg\u001b[0m\u001b[0;34m)\u001b[0m\u001b[0;34m:\u001b[0m \u001b[0;32mreturn\u001b[0m \u001b[0mstart_node\u001b[0m\u001b[0;34m.\u001b[0m\u001b[0mvspace\u001b[0m\u001b[0;34m.\u001b[0m\u001b[0mzeros\u001b[0m\u001b[0;34m(\u001b[0m\u001b[0;34m)\u001b[0m\u001b[0;34m\u001b[0m\u001b[0m\n\u001b[1;32m     16\u001b[0m         \u001b[0;32melse\u001b[0m\u001b[0;34m:\u001b[0m\u001b[0;34m\u001b[0m\u001b[0m\n\u001b[0;32m---> 17\u001b[0;31m             \u001b[0;32mdef\u001b[0m \u001b[0mvjp\u001b[0m\u001b[0;34m(\u001b[0m\u001b[0mg\u001b[0m\u001b[0;34m)\u001b[0m\u001b[0;34m:\u001b[0m \u001b[0;32mreturn\u001b[0m \u001b[0mbackward_pass\u001b[0m\u001b[0;34m(\u001b[0m\u001b[0mg\u001b[0m\u001b[0;34m,\u001b[0m \u001b[0mend_node\u001b[0m\u001b[0;34m,\u001b[0m \u001b[0mstart_node\u001b[0m\u001b[0;34m)\u001b[0m\u001b[0;34m\u001b[0m\u001b[0m\n\u001b[0m\u001b[1;32m     18\u001b[0m         \u001b[0;32mreturn\u001b[0m \u001b[0mvjp\u001b[0m\u001b[0;34m,\u001b[0m \u001b[0mend_node\u001b[0m\u001b[0;34m\u001b[0m\u001b[0m\n\u001b[1;32m     19\u001b[0m     \u001b[0;32mreturn\u001b[0m \u001b[0mvjp_maker\u001b[0m\u001b[0;34m\u001b[0m\u001b[0m\n",
        "\u001b[0;32m/home/robinmagpie/.local/lib/python3.5/site-packages/autograd/core.py\u001b[0m in \u001b[0;36mbackward_pass\u001b[0;34m(g, end_node, start_node)\u001b[0m\n\u001b[1;32m     33\u001b[0m     \u001b[0;32mfor\u001b[0m \u001b[0mnode\u001b[0m \u001b[0;32min\u001b[0m \u001b[0mtoposort\u001b[0m\u001b[0;34m(\u001b[0m\u001b[0mend_node\u001b[0m\u001b[0;34m,\u001b[0m \u001b[0mstart_node\u001b[0m\u001b[0;34m)\u001b[0m\u001b[0;34m:\u001b[0m\u001b[0;34m\u001b[0m\u001b[0m\n\u001b[1;32m     34\u001b[0m         \u001b[0mcur_outgrad\u001b[0m \u001b[0;34m=\u001b[0m \u001b[0moutgrads\u001b[0m\u001b[0;34m.\u001b[0m\u001b[0mpop\u001b[0m\u001b[0;34m(\u001b[0m\u001b[0mnode\u001b[0m\u001b[0;34m)\u001b[0m\u001b[0;34m\u001b[0m\u001b[0m\n\u001b[0;32m---> 35\u001b[0;31m         \u001b[0mfunction\u001b[0m\u001b[0;34m,\u001b[0m \u001b[0margs\u001b[0m\u001b[0;34m,\u001b[0m \u001b[0mkwargs\u001b[0m\u001b[0;34m,\u001b[0m \u001b[0mparents\u001b[0m \u001b[0;34m=\u001b[0m \u001b[0mnode\u001b[0m\u001b[0;34m.\u001b[0m\u001b[0mrecipe\u001b[0m\u001b[0;34m\u001b[0m\u001b[0m\n\u001b[0m\u001b[1;32m     36\u001b[0m         \u001b[0;32mfor\u001b[0m \u001b[0margnum\u001b[0m\u001b[0;34m,\u001b[0m \u001b[0mparent\u001b[0m \u001b[0;32min\u001b[0m \u001b[0mparents\u001b[0m\u001b[0;34m:\u001b[0m\u001b[0;34m\u001b[0m\u001b[0m\n\u001b[1;32m     37\u001b[0m             outgrad = function.vjp(argnum, cur_outgrad[0], node,\n",
        "\u001b[0;31mKeyboardInterrupt\u001b[0m: "
       ]
      }
     ],
     "prompt_number": 120
    },
    {
     "cell_type": "markdown",
     "metadata": {},
     "source": [
      "## 2. Exact rejection ABC\n",
      "\n",
      "Develop an ABC sampler to estimate the probability $\\pi$ of success in a negative binomial model where exactly $N+n$ trials are needed to obtain $n$ successes and $N$ failures with the last trial being successful. (Note: this is the definition of the negative binomial distribution used by NumPy e.g. in `numpy.random.negative_binomial()`.)\n",
      "\n",
      "We assume that $n = 20$ and the data $X$ consists of a single observation $N = 50$.\n",
      "\n",
      "1. Report the mean and standard deviation of the posterior $p(\\pi | X)$ when the prior $p(\\pi) = \\mathrm{Beta}(\\pi; 1.0, 1.0)$.\n",
      "2. Report the mean and standard deviation of the posterior $p(\\pi | X)$ when the prior $p(\\pi) = \\mathrm{Beta}(\\pi; 5.0, 5.0)$.\n",
      "\n",
      "The required tolerance is $\\pm 0.005$."
     ]
    },
    {
     "cell_type": "code",
     "collapsed": false,
     "input": [
      "%matplotlib inline\n",
      "import numpy as np\n",
      "import numpy.random as npr\n",
      "import matplotlib.pyplot as plt\n",
      "\n",
      "def abc_coinflip(L, N, n):\n",
      "    samples = []\n",
      "    nsamples = 0\n",
      "    while nsamples < N:\n",
      "        p = npr.beta(alpha,beta)\n",
      "        if npr.negative_binomial(20,p) == N:\n",
      "            samples.append(p)\n",
      "            nsamples += 1\n",
      "    return samples\n",
      "\n",
      "alpha = 1\n",
      "beta = 1\n",
      "x = abc_coinflip(10000000, 50, 20)\n",
      "h = plt.hist(x, 30)\n",
      "print(\"Mean of the posterior pi is:\")\n",
      "print(np.mean(x))\n",
      "print(\"Standard deviation of the posterior pi is:\")\n",
      "print(np.std(x))\n",
      "\n",
      "alpha = 5.0\n",
      "beta = 5.0\n",
      "x = abc_coinflip(10000000, 50, 20)\n",
      "h = plt.hist(x, 30)\n",
      "print(\"Mean of the posterior pi is:\")\n",
      "print(np.mean(x))\n",
      "print(\"Standard deviation of the posterior pi is:\")\n",
      "print(np.std(x))"
     ],
     "language": "python",
     "metadata": {},
     "outputs": [
      {
       "output_type": "stream",
       "stream": "stdout",
       "text": [
        "Mean of the posterior pi is:\n",
        "0.294123666918\n",
        "Standard deviation of the posterior pi is:\n",
        "0.0546253765719\n",
        "Mean of the posterior pi is:"
       ]
      },
      {
       "output_type": "stream",
       "stream": "stdout",
       "text": [
        "\n",
        "0.3137364144\n",
        "Standard deviation of the posterior pi is:\n",
        "0.050833366327\n"
       ]
      },
      {
       "metadata": {},
       "output_type": "display_data",
       "png": "[encoded data removed]",
       "text": [
        "<matplotlib.figure.Figure at 0x7f0295a0b2b0>"
       ]
      }
     ],
     "prompt_number": 11
    },
    {
     "cell_type": "markdown",
     "metadata": {},
     "source": [
      "## 3. Rejection ABC for continuous observations\n",
      "\n",
      "In this task we will develop an ABC sampler for the autoregressive (AR) model:\n",
      "$$ x_{t+1} = a x_t + \\epsilon_t, \\quad \\epsilon_t \\sim \\mathcal{N}(0, \\sigma^2). $$\n",
      "We assume $x_0 = 1$. The model has two parameters, $a$ and $\\sigma$. We set priors\n",
      "$$ p(a) = \\mathrm{Uniform}(a;\\; 0, 1), \\quad p(\\sigma) = \\mathrm{Gamma}(\\sigma;\\; k_\\sigma, \\theta_\\sigma) $$\n",
      "with $k_\\sigma = 5, \\theta_\\sigma = 1/8$. Note that we use the shape/scale parametrisation also used by NumPy and that the prior is over $\\sigma$, not $\\sigma^2$ (also more consistent with NumPy parametrisation).\n",
      "\n",
      "1. Implement a function to simulate the AR process. Test your function by generating and plotting two independent realisations of length 200 with $a = 0.75$, $\\sigma = 0.2$. Notice how the sequences diverge relatively quickly and are essentially independent toward the end.\n",
      "2. Implement an ABC sampler to infer the posterior over $a$ and $\\sigma$ given the single observed sequence loaded below using the summary statistics\n",
      "$$ S(X) = \\left( \\frac{1}{N} \\sum_{i=1}^N x_i^2, \\frac{1}{N-1} \\sum_{i=1}^{N-1} x_i x_{i+1} \\right). $$\n",
      "Run your sampler to generate samples with acceptance threshold $\\| S(X) - S(X^*)\\|_2 \\le \\epsilon$ with $\\epsilon = 0.1$.\n",
      "3. Report the approximate posterior means of $a$ and $\\sigma$ to Moodle.\n",
      "\n",
      "The required tolerance is $\\pm 0.03$."
     ]
    },
    {
     "cell_type": "code",
     "collapsed": false,
     "input": [
      "%matplotlib inline\n",
      "import autograd.numpy as np\n",
      "import autograd.numpy.random as npr\n",
      "import pandas as pd\n",
      "import matplotlib.pyplot as plt\n",
      "import math as math\n",
      "\n",
      "dataframe = pd.read_csv('http://www.helsinki.fi/~ahonkela/teaching/compstats1/ar_time_series_data.txt', header=None, sep='\\t')\n",
      "data = dataframe.values[:,0]\n",
      "plt.plot(data)\n",
      "\n",
      "def simulate_AR(a,sigma):\n",
      "    x_t = 1\n",
      "    x = []\n",
      "    x.append(x_t)\n",
      "    for i in range(0,len(data)):\n",
      "        epsilon_t = npr.normal(0,sigma)\n",
      "        x_t = a*x_t +  epsilon_t\n",
      "        x.append(x_t)\n",
      "    return x\n",
      "\n",
      "def compute_S(D):\n",
      "    x_square_sum = 0\n",
      "    x_i_x_iplus1_sum = 0\n",
      "    for i in range(0,len(D)-1):\n",
      "        x_square_sum = x_square_sum + D[i]**2\n",
      "        x_i_x_iplus1_sum = x_i_x_iplus1_sum + D[i]*D[i+1]\n",
      "    \n",
      "    x_square_sum = x_square_sum + D[len(D)-1]\n",
      "    x = []\n",
      "    x.append(x_square_sum/len(D))\n",
      "    x.append(x_i_x_iplus1_sum/(len(D)-1))\n",
      "    return x\n",
      "\n",
      "print(compute_S(data))\n",
      "\n",
      "S_data = compute_S(data)\n",
      "\n",
      "aas = []\n",
      "sigmas = []\n",
      "\n",
      "for i in range(0,100000):\n",
      "    if i%10000 == 0:\n",
      "        print(i)\n",
      "    a = npr.uniform()\n",
      "    sigma = npr.gamma(5,.125)\n",
      "    x = simulate_AR(a,sigma)\n",
      "    S_x = compute_S(x)\n",
      "    if math.sqrt((S_data[0]-S_x[0])**2 + (S_data[1]-S_x[1])**2) <= .1:\n",
      "        aas.append(a)\n",
      "        sigmas.append(sigma)\n",
      "\n",
      "print(np.mean(aas))\n",
      "print(np.mean(sigmas))"
     ],
     "language": "python",
     "metadata": {},
     "outputs": [
      {
       "output_type": "stream",
       "stream": "stdout",
       "text": [
        "[1.3037196543195149, 1.1849257157301305]\n",
        "0\n",
        "10000"
       ]
      },
      {
       "output_type": "stream",
       "stream": "stdout",
       "text": [
        "\n",
        "20000"
       ]
      },
      {
       "output_type": "stream",
       "stream": "stdout",
       "text": [
        "\n",
        "30000"
       ]
      },
      {
       "output_type": "stream",
       "stream": "stdout",
       "text": [
        "\n",
        "40000"
       ]
      },
      {
       "output_type": "stream",
       "stream": "stdout",
       "text": [
        "\n",
        "50000"
       ]
      },
      {
       "output_type": "stream",
       "stream": "stdout",
       "text": [
        "\n",
        "60000"
       ]
      },
      {
       "output_type": "stream",
       "stream": "stdout",
       "text": [
        "\n",
        "70000"
       ]
      },
      {
       "output_type": "stream",
       "stream": "stdout",
       "text": [
        "\n",
        "80000"
       ]
      },
      {
       "output_type": "stream",
       "stream": "stdout",
       "text": [
        "\n",
        "90000"
       ]
      },
      {
       "output_type": "stream",
       "stream": "stdout",
       "text": [
        "\n",
        "0.885964363271"
       ]
      },
      {
       "output_type": "stream",
       "stream": "stdout",
       "text": [
        "\n",
        "0.528587754316\n"
       ]
      },
      {
       "metadata": {},
       "output_type": "display_data",
       "png": "[encoded data removed]",
       "text": [
        "<matplotlib.figure.Figure at 0x7f029b56d518>"
       ]
      }
     ],
     "prompt_number": 35
    },
    {
     "cell_type": "markdown",
     "metadata": {},
     "source": [
      "## 4. Variational approximation to a density\n",
      "\n",
      "Find the optimal normal distribution variational approximations $q_i(x)$ to the following densities:\n",
      "\n",
      "1. $p_1(x) = \\frac{1}{2} \\mathcal{N}(x;\\; 0, 1^2) + \\frac{1}{4} \\mathcal{N}(x;\\; 0, 2^2) + \\frac{1}{4} \\mathcal{N}(x;\\; 0, 3^2)$\n",
      "2. $p_2(x) = \\frac{1}{3} \\mathcal{N}(x;\\; 0, 1^2)\n",
      "           + \\frac{1}{3} \\mathcal{N}(x;\\; 0, 2^2)\n",
      "           + \\frac{1}{6} \\mathcal{N}(x;\\; 0, 3^2)\n",
      "           + \\frac{1}{6} \\mathcal{N}(x;\\; 1, 4^2)$\n",
      "\n",
      "Report the standard deviation $c$ obtained in each case and $m$ obtained for $q_2(x)$ to Moodle. The required tolerance is $\\pm 0.05$."
     ]
    },
    {
     "cell_type": "code",
     "collapsed": false,
     "input": [],
     "language": "python",
     "metadata": {},
     "outputs": []
    },
    {
     "cell_type": "markdown",
     "metadata": {},
     "source": [
      "## 5. Variational inference for a mixture model\n",
      "\n",
      "Estimate the posterior for the mixing proportion $\\pi$ and means $\\mu_1, \\mu_2$ in the normal mixture model\n",
      "$$ p(x_i | \\pi, \\mu_1, \\mu_2) = \\pi \\mathcal{N}(x_i;\\; \\mu_1, 1^2) + (1-\\pi) \\mathcal{N}(x_i;\\; \\mu_2, 1^2) $$\n",
      "for the data set loaded below.\n",
      "\n",
      "In order to ensure $0 \\le \\pi \\le 1$, we will reparametrise it using the logistic transformation as $\\pi = 1 / (1 + \\exp(-\\gamma))$. We will use normal priors for $\\mu_1, \\mu_2$ and a logistic-normal prior for $\\pi$, which is equivalent to setting a normal prior for $\\gamma$. The exact priors are\n",
      "$$ p(\\mu_1) = \\mathcal{N}(\\mu_1;\\; 0, \\sqrt{10}^2) \\quad \n",
      "   p(\\mu_2) = \\mathcal{N}(\\mu_2;\\; 0, \\sqrt{10}^2) \\quad\n",
      "   p(\\gamma) = \\mathcal{N}(\\gamma;\\; 0, 1.78^2). $$\n",
      "\n",
      "Fit normal distributions as variational approximations $q(\\mu_1)$, $q(\\mu_2)$ and $q(\\gamma)$ to the posterior distribution of the model.\n",
      "\n",
      "Report the means and standard deviations of $q(\\mu_1)$ and $q(\\mu_2)$, and the mean and standard deviation of $\\pi$ under $q(\\gamma)$ in Moodle. The required tolerance is $\\pm 0.03$.\n",
      "\n",
      "Hint: computing the mean and standard deviation of $\\pi$ requires extra effort because the approximation $q(\\gamma)$ is over $\\gamma$. The easiest way to solve this problem is to draw a number of samples from $q(\\gamma)$, transform those to $\\pi$ and compute the mean and standard deviation of the transformed samples."
     ]
    },
    {
     "cell_type": "code",
     "collapsed": false,
     "input": [
      "%matplotlib inline\n",
      "import autograd.numpy as np\n",
      "import autograd.numpy.random as npr\n",
      "import pandas as pd\n",
      "import matplotlib.pyplot as plt\n",
      "\n",
      "dataframe = pd.read_csv('http://www.helsinki.fi/~ahonkela/teaching/compstats1/mixture_data.txt', header=None, sep='\\t')\n",
      "data = dataframe.values[:,0]\n",
      "print(np.mean(data), np.std(data))"
     ],
     "language": "python",
     "metadata": {},
     "outputs": []
    }
   ],
   "metadata": {}
  }
 ]
}